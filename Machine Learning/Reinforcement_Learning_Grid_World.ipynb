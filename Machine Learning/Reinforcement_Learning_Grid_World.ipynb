{
  "cells": [
    {
      "cell_type": "markdown",
      "metadata": {
        "id": "view-in-github",
        "colab_type": "text"
      },
      "source": [
        "<a href=\"https://colab.research.google.com/github/anumit-web/ML-Masterlist-2024/blob/main/Machine%20Learning/Reinforcement_Learning_Grid_World.ipynb\" target=\"_parent\"><img src=\"https://colab.research.google.com/assets/colab-badge.svg\" alt=\"Open In Colab\"/></a>"
      ]
    },
    {
      "cell_type": "markdown",
      "source": [
        "# Machine Learning"
      ],
      "metadata": {
        "id": "r9Tnk6DLIpoU"
      }
    },
    {
      "cell_type": "code",
      "source": [
        "import numpy as np\n",
        "\n",
        "# Define the grid world\n",
        "grid_world = np.array([\n",
        "    [0, 0, 0, 0],\n",
        "    [0, 0, 0, 0],\n",
        "    [0, 0, 0, 0],\n",
        "    [0, 0, 0, 1]  # goal state\n",
        "])\n",
        "\n",
        "# Define the action space\n",
        "actions = ['up', 'down', 'left', 'right']\n",
        "\n",
        "# Initialize Q-table\n",
        "q_table = np.zeros((16, 4))\n",
        "\n",
        "# Set learning rate and discount factor\n",
        "alpha = 0.1\n",
        "gamma = 0.9\n",
        "\n",
        "# Set exploration rate\n",
        "epsilon = 0.1\n",
        "\n",
        "def take_action(state, action, grid_world):\n",
        "    # Define the possible actions\n",
        "    if action == 0:  # move up\n",
        "        next_state = state - 4\n",
        "    elif action == 1:  # move down\n",
        "        next_state = state + 4\n",
        "    elif action == 2:  # move left\n",
        "        next_state = state - 1\n",
        "    elif action == 3:  # move right\n",
        "        next_state = state + 1\n",
        "\n",
        "    # Check if the action is valid\n",
        "    if next_state < 0 or next_state >= 16 or grid_world[next_state // 4, next_state % 4] == 1:\n",
        "        next_state = state\n",
        "        reward = -1\n",
        "    else:\n",
        "        reward = 0\n",
        "\n",
        "    return next_state, reward\n",
        "\n",
        "for episode in range(1000):\n",
        "    state = 0  # start state\n",
        "    done = False\n",
        "    rewards = 0.0\n",
        "\n",
        "    while not done:\n",
        "        # Choose action using epsilon-greedy policy\n",
        "        if np.random.rand() < epsilon:\n",
        "            action = np.random.choice(4)\n",
        "        else:\n",
        "            action = np.argmax(q_table[state])\n",
        "\n",
        "        # Take action and get next state and reward\n",
        "        next_state, reward = take_action(state, action, grid_world)\n",
        "        rewards += reward\n",
        "\n",
        "        # Update Q-table\n",
        "        q_table[state, action] += alpha * (reward + gamma * np.max(q_table[next_state]) - q_table[state, action])\n",
        "\n",
        "        state = next_state\n",
        "\n",
        "        if state == 15:  # goal state\n",
        "            done = True\n",
        "\n",
        "    print(f'Episode: {episode+1}, Reward: {rewards}')"
      ],
      "metadata": {
        "id": "dZE1LstZvP05"
      },
      "execution_count": null,
      "outputs": []
    }
  ],
  "metadata": {
    "kernelspec": {
      "display_name": "Python 3",
      "name": "python3"
    },
    "language_info": {
      "name": "python"
    },
    "colab": {
      "provenance": [],
      "include_colab_link": true
    }
  },
  "nbformat": 4,
  "nbformat_minor": 0
}