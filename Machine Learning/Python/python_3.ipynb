{
  "cells": [
    {
      "cell_type": "markdown",
      "metadata": {
        "id": "view-in-github"
      },
      "source": [
        "<a href=\"https://colab.research.google.com/github/anumit-web/python-interview-2024/blob/main/machine%20learning/Unsupervised_Learning_clustering_type_iris_flower_clustering_Gaussian_mixture_model_(GMM).ipynb\" target=\"_parent\"><img src=\"https://colab.research.google.com/assets/colab-badge.svg\" alt=\"Open In Colab\"/></a>"
      ]
    },
    {
      "cell_type": "markdown",
      "metadata": {
        "id": "q_lhvb-UXLbF"
      },
      "source": [
        "# Artificial Intelligence"
      ]
    },
    {
      "cell_type": "markdown",
      "metadata": {
        "id": "tomuVIUl9uY6"
      },
      "source": [
        "# Machine Learning"
      ]
    },
    {
      "cell_type": "markdown",
      "source": [
        "# Python"
      ],
      "metadata": {
        "id": "EyBdPO2p3knY"
      }
    },
    {
      "cell_type": "markdown",
      "metadata": {
        "id": "H6Shee7JuzVF"
      },
      "source": [
        "# Python"
      ]
    },
    {
      "cell_type": "markdown",
      "metadata": {
        "id": "Ko4QaixAfPyF"
      },
      "source": [
        "---\n",
        "---\n",
        "---\n"
      ]
    },
    {
      "cell_type": "markdown",
      "metadata": {
        "id": "CKa4SWV84DMv"
      },
      "source": [
        "# Python Code"
      ]
    },
    {
      "cell_type": "markdown",
      "metadata": {
        "id": "MR391vUc7l-N"
      },
      "source": [
        "# Python code"
      ]
    },
    {
      "cell_type": "code",
      "source": [
        "\n",
        "from datetime import datetime\n",
        "import pytz\n",
        "\n",
        "# Define the EST timezone\n",
        "est = pytz.timezone('US/Eastern')\n",
        "# Get the current time in UTC\n",
        "utc_now = datetime.utcnow()\n",
        "# Convert the UTC time to EST\n",
        "est_now = utc_now.astimezone(est)\n",
        "# Print the current time in EST\n",
        "print(\"Current time in EST:\", est_now.strftime('%Y-%m-%d %H:%M:%S %p'))\n"
      ],
      "metadata": {
        "colab": {
          "base_uri": "https://localhost:8080/"
        },
        "id": "nUY13VRTXi--",
        "outputId": "f4ab46cc-cd5d-4f51-e4ee-1a6c16918c26"
      },
      "execution_count": null,
      "outputs": [
        {
          "output_type": "stream",
          "name": "stdout",
          "text": [
            "Current time in EST: 2024-12-28 16:32:53 PM\n"
          ]
        }
      ]
    },
    {
      "cell_type": "code",
      "source": [
        "\n",
        "import platform\n",
        "\n",
        "# Get OS name\n",
        "print(\"1. OS Name:\", platform.system())\n",
        "# Get OS release\n",
        "print(\"2. OS Release:\", platform.release())\n",
        "# Get OS version\n",
        "print(\"3. OS Version:\", platform.version())\n",
        "# Get OS architecture\n",
        "print(\"4. OS Architecture:\", platform.machine())\n",
        "# Get platform details\n",
        "print(\"5. Platform Details:\", platform.platform())\n",
        "# Computer uname\n",
        "print(platform.uname())\n",
        "# Output: uname_result(system='Windows', node='your-computer-name', release='10', version='10.0.19041', machine='AMD64', processor='Intel64 Family 6 Model 158 Stepping 10, GenuineIntel')\n"
      ],
      "metadata": {
        "colab": {
          "base_uri": "https://localhost:8080/"
        },
        "id": "-536LLKPW2va",
        "outputId": "d0b5b63b-0bc0-43a3-c5c5-3a76547e5b84"
      },
      "execution_count": null,
      "outputs": [
        {
          "output_type": "stream",
          "name": "stdout",
          "text": [
            "1. OS Name: Linux\n",
            "2. OS Release: 6.1.85+\n",
            "3. OS Version: #1 SMP PREEMPT_DYNAMIC Thu Jun 27 21:05:47 UTC 2024\n",
            "4. OS Architecture: x86_64\n",
            "5. Platform Details: Linux-6.1.85+-x86_64-with-glibc2.35\n",
            "uname_result(system='Linux', node='578da0730c17', release='6.1.85+', version='#1 SMP PREEMPT_DYNAMIC Thu Jun 27 21:05:47 UTC 2024', machine='x86_64')\n"
          ]
        }
      ]
    },
    {
      "cell_type": "code",
      "source": [
        "\n",
        "print(platform.python_version())  # Output: '3.9.7'\n"
      ],
      "metadata": {
        "id": "dIr8_NnFvUFd",
        "colab": {
          "base_uri": "https://localhost:8080/"
        },
        "outputId": "21c8bb00-5b76-4770-b703-1bd81991b6a1"
      },
      "execution_count": null,
      "outputs": [
        {
          "output_type": "stream",
          "name": "stdout",
          "text": [
            "3.10.12\n"
          ]
        }
      ]
    },
    {
      "cell_type": "code",
      "source": [
        "print(\"Hello World\")"
      ],
      "metadata": {
        "colab": {
          "base_uri": "https://localhost:8080/"
        },
        "id": "JprMiPkVXL7_",
        "outputId": "7c547693-6a05-4a1b-8b01-4f971e3299bd"
      },
      "execution_count": null,
      "outputs": [
        {
          "output_type": "stream",
          "name": "stdout",
          "text": [
            "Hello World\n"
          ]
        }
      ]
    },
    {
      "cell_type": "code",
      "source": [
        "\n",
        "import random\n",
        "\n",
        "answer = random.randint(1, 8)\n",
        "print(\"Random number is = \", answer)"
      ],
      "metadata": {
        "colab": {
          "base_uri": "https://localhost:8080/"
        },
        "id": "GF4lkG2OYUYR",
        "outputId": "305f993b-a79d-45ce-9931-319ea9145b40"
      },
      "execution_count": null,
      "outputs": [
        {
          "output_type": "stream",
          "name": "stdout",
          "text": [
            "Random number is =  6\n"
          ]
        }
      ]
    },
    {
      "cell_type": "code",
      "source": [
        "\n",
        "string1 =  \"Mary's dog said Woof\"\n",
        "print(string1)"
      ],
      "metadata": {
        "id": "D-Jx44t2rE-z",
        "colab": {
          "base_uri": "https://localhost:8080/"
        },
        "outputId": "9335f206-71bd-4046-ad83-3711098ffa4f"
      },
      "execution_count": null,
      "outputs": [
        {
          "output_type": "stream",
          "name": "stdout",
          "text": [
            "Mary's dog said Woof\n"
          ]
        }
      ]
    },
    {
      "cell_type": "code",
      "source": [
        "\n",
        "x = 10\n",
        "if x == 0:\n",
        "    print(\"x is zero\")\n",
        "else:\n",
        "    print(\"x is\",x)\n",
        "print(\"All done\")"
      ],
      "metadata": {
        "colab": {
          "base_uri": "https://localhost:8080/"
        },
        "id": "ncaALqfhxrJk",
        "outputId": "97489403-6cac-447a-d527-8ba1639c4e24"
      },
      "execution_count": null,
      "outputs": [
        {
          "output_type": "stream",
          "name": "stdout",
          "text": [
            "x is 10\n",
            "All done\n"
          ]
        }
      ]
    },
    {
      "cell_type": "code",
      "source": [
        "\n",
        "some_number = 700\n",
        "print(some_number)\n",
        "print(bin(some_number))\n",
        "print(hex(some_number))"
      ],
      "metadata": {
        "id": "mucmNzTi8_Mt",
        "colab": {
          "base_uri": "https://localhost:8080/"
        },
        "outputId": "d8c8c6c0-840e-4db0-fcb1-0a8782f93c13"
      },
      "execution_count": null,
      "outputs": [
        {
          "output_type": "stream",
          "name": "stdout",
          "text": [
            "700\n",
            "0b1010111100\n",
            "0x2bc\n"
          ]
        }
      ]
    },
    {
      "cell_type": "code",
      "source": [
        "\n",
        "numbers = [10, 23, 45, 67, 89, 101, 123, 145, 167, 189, 201]\n",
        "max_value = max(numbers)\n",
        "print(\"The maximum value is:\", max_value)\n"
      ],
      "metadata": {
        "colab": {
          "base_uri": "https://localhost:8080/"
        },
        "id": "WEGb2aQyEL9K",
        "outputId": "fd086573-1a50-43c1-ccec-a20efbb0f433"
      },
      "execution_count": null,
      "outputs": [
        {
          "output_type": "stream",
          "name": "stdout",
          "text": [
            "The maximum value is: 201\n"
          ]
        }
      ]
    },
    {
      "cell_type": "code",
      "source": [
        "# @title\n",
        "\n",
        "max_value = max(10,20,30,40,99,15,78,120)\n",
        "print(\"The maximum value is:\", max_value)"
      ],
      "metadata": {
        "colab": {
          "base_uri": "https://localhost:8080/"
        },
        "id": "u39o0_8UEkCp",
        "outputId": "f3a4b8e4-6319-4c5a-a186-26ce13598a9b"
      },
      "execution_count": null,
      "outputs": [
        {
          "output_type": "stream",
          "name": "stdout",
          "text": [
            "The maximum value is: 120\n"
          ]
        }
      ]
    },
    {
      "cell_type": "code",
      "source": [
        "\n",
        "import math\n",
        "\n",
        "print(math.sqrt(81))"
      ],
      "metadata": {
        "colab": {
          "base_uri": "https://localhost:8080/"
        },
        "id": "2058CRj2FLM1",
        "outputId": "d543eb76-2f9b-4c50-b066-246278eebe3a"
      },
      "execution_count": null,
      "outputs": [
        {
          "output_type": "stream",
          "name": "stdout",
          "text": [
            "9.0\n"
          ]
        }
      ]
    },
    {
      "cell_type": "code",
      "source": [
        "print(math.e)\n",
        "print(math.pi)\n",
        "\n",
        "# Print Euler's number (e)\n",
        "print(\"Euler's number (e):\", math.e)\n",
        "\n",
        "# Print Pi (π)\n",
        "print(\"Pi (π):\", math.pi)\n"
      ],
      "metadata": {
        "colab": {
          "base_uri": "https://localhost:8080/"
        },
        "id": "0Gy6ld4hF3a4",
        "outputId": "c2de4366-ae64-4167-ad70-ecadd7bb963b"
      },
      "execution_count": null,
      "outputs": [
        {
          "output_type": "stream",
          "name": "stdout",
          "text": [
            "2.718281828459045\n",
            "3.141592653589793\n",
            "Euler's number (e): 2.718281828459045\n",
            "Pi (π): 3.141592653589793\n"
          ]
        }
      ]
    },
    {
      "cell_type": "code",
      "source": [
        "\n",
        "print(math.factorial(5))\n",
        "print(math.factorial(3))"
      ],
      "metadata": {
        "colab": {
          "base_uri": "https://localhost:8080/"
        },
        "id": "Ir9ThThAG0jr",
        "outputId": "36d420eb-c0d2-4b69-b072-58e11c2455f1"
      },
      "execution_count": null,
      "outputs": [
        {
          "output_type": "stream",
          "name": "stdout",
          "text": [
            "120\n",
            "6\n"
          ]
        }
      ]
    },
    {
      "cell_type": "code",
      "source": [
        "\n",
        "print(math.pow(2, 5))\n",
        "print(math.pow(3,3))"
      ],
      "metadata": {
        "colab": {
          "base_uri": "https://localhost:8080/"
        },
        "id": "i2ERVptoHPEv",
        "outputId": "06a06b86-6fb8-4c9d-ab74-d4c265586522"
      },
      "execution_count": null,
      "outputs": [
        {
          "output_type": "stream",
          "name": "stdout",
          "text": [
            "32.0\n",
            "27.0\n"
          ]
        }
      ]
    },
    {
      "cell_type": "code",
      "source": [
        "\n",
        "username = \"Alan\"\n",
        "print(f\"Hello {username}\")"
      ],
      "metadata": {
        "colab": {
          "base_uri": "https://localhost:8080/"
        },
        "id": "oEh3ykOWHvHr",
        "outputId": "c06e1cb1-66ff-413e-a1bd-99dbf5751495"
      },
      "execution_count": null,
      "outputs": [
        {
          "output_type": "stream",
          "name": "stdout",
          "text": [
            "Hello Alan\n"
          ]
        }
      ]
    },
    {
      "cell_type": "code",
      "source": [
        "\n",
        "unit_price = 49.99\n",
        "quantity = 30\n",
        "print(f\"Subtotal: ${quantity * unit_price:,.2f}\")"
      ],
      "metadata": {
        "colab": {
          "base_uri": "https://localhost:8080/"
        },
        "id": "7i1ooiRYIK8_",
        "outputId": "eed03d74-97fc-41b1-8272-be97247e5460"
      },
      "execution_count": null,
      "outputs": [
        {
          "output_type": "stream",
          "name": "stdout",
          "text": [
            "Subtotal: $1,499.70\n"
          ]
        }
      ]
    },
    {
      "cell_type": "code",
      "source": [
        "\n",
        "first_name = \"Alan\"\n",
        "middle_init = \"C\"\n",
        "last_name = \"Simpson\"\n",
        "full_name = first_name + \" \" + middle_init + \". \" + last_name\n",
        "print(full_name)"
      ],
      "metadata": {
        "colab": {
          "base_uri": "https://localhost:8080/"
        },
        "id": "Yo4hWpthLQB1",
        "outputId": "d8636734-65ea-4661-f905-860316536b06"
      },
      "execution_count": null,
      "outputs": [
        {
          "output_type": "stream",
          "name": "stdout",
          "text": [
            "Alan C. Simpson\n"
          ]
        }
      ]
    },
    {
      "cell_type": "code",
      "source": [
        "s = \"Time\"\n",
        "print(s.capitalize())\n",
        "print(s.lower())\n",
        "print(s.upper())"
      ],
      "metadata": {
        "colab": {
          "base_uri": "https://localhost:8080/"
        },
        "id": "O0mwCG_xMwc2",
        "outputId": "344b3d89-df79-408a-c25b-5fb1428e8cea"
      },
      "execution_count": null,
      "outputs": [
        {
          "output_type": "stream",
          "name": "stdout",
          "text": [
            "Time\n",
            "time\n",
            "TIME\n"
          ]
        }
      ]
    },
    {
      "cell_type": "code",
      "source": [
        "print(s.replace(\"T\", \"Yellow\"))"
      ],
      "metadata": {
        "colab": {
          "base_uri": "https://localhost:8080/"
        },
        "id": "7KnEBRRoKpai",
        "outputId": "10b69e3a-ffc0-4aaf-be43-eacc9224f2da"
      },
      "execution_count": null,
      "outputs": [
        {
          "output_type": "stream",
          "name": "stdout",
          "text": [
            "Yellowime\n"
          ]
        }
      ]
    },
    {
      "cell_type": "code",
      "source": [
        "\n",
        " # Import the datetime module, nickname dt\n",
        "import datetime as dt\n",
        "# Store today's date in a variable named today.\n",
        "today = dt.date.today()\n",
        "print(today)\n",
        "# Store some other date in a variable called last_of_teens\n",
        "last_of_teens = dt.date(2019, 12, 31)\n",
        "print(last_of_teens)"
      ],
      "metadata": {
        "colab": {
          "base_uri": "https://localhost:8080/"
        },
        "id": "U_F5A-mjMOS-",
        "outputId": "5729f20a-eaeb-481c-ce42-7c401175d4c7"
      },
      "execution_count": null,
      "outputs": [
        {
          "output_type": "stream",
          "name": "stdout",
          "text": [
            "2024-12-28\n",
            "2019-12-31\n"
          ]
        }
      ]
    },
    {
      "cell_type": "code",
      "source": [
        "\n",
        "print(last_of_teens.month)\n",
        "print(last_of_teens.day)\n",
        "print(last_of_teens.year)"
      ],
      "metadata": {
        "colab": {
          "base_uri": "https://localhost:8080/"
        },
        "id": "3fa-e-8oMpFX",
        "outputId": "db04262c-8b38-4611-904d-dbefe6648e5c"
      },
      "execution_count": null,
      "outputs": [
        {
          "output_type": "stream",
          "name": "stdout",
          "text": [
            "12\n",
            "31\n",
            "2019\n"
          ]
        }
      ]
    },
    {
      "cell_type": "code",
      "source": [
        "\n",
        "print(f\"{last_of_teens:%A, %B %d, %Y}\")"
      ],
      "metadata": {
        "colab": {
          "base_uri": "https://localhost:8080/"
        },
        "id": "YKZd_VywM4mc",
        "outputId": "bb236843-7404-41f8-a553-08383aaaa1f9"
      },
      "execution_count": null,
      "outputs": [
        {
          "output_type": "stream",
          "name": "stdout",
          "text": [
            "Tuesday, December 31, 2019\n"
          ]
        }
      ]
    },
    {
      "cell_type": "code",
      "source": [
        "\n",
        "right_now = dt.datetime.now()\n",
        "print(right_now)"
      ],
      "metadata": {
        "id": "s8Dp1gV3N2sU",
        "outputId": "24a8d2a0-7f08-40df-c4ae-b307004ca8a6",
        "colab": {
          "base_uri": "https://localhost:8080/"
        }
      },
      "execution_count": null,
      "outputs": [
        {
          "output_type": "stream",
          "name": "stdout",
          "text": [
            "2024-12-28 21:41:35.443145\n"
          ]
        }
      ]
    },
    {
      "cell_type": "code",
      "source": [
        "\n",
        "age = 31\n",
        "if age < 21:\n",
        "    # If under 21, no alcohol\n",
        "    beverage = \"milk\"\n",
        "elif age >= 21 and age < 80:\n",
        "    # Ages 21 - 79, suggest beer\n",
        "    beverage = \"beer\"\n",
        "else:\n",
        "    # If 80 or older, prune juice might be a good choice.\n",
        "    beverage = \"prune juice\"\n",
        "    print(\"Have a \" + beverage)"
      ],
      "metadata": {
        "id": "TY4e_0ToSsv3"
      },
      "execution_count": null,
      "outputs": []
    },
    {
      "cell_type": "code",
      "source": [
        "\n",
        "for x in range(7):\n",
        "    print(x)\n",
        "\n",
        "print(\"All done\")"
      ],
      "metadata": {
        "colab": {
          "base_uri": "https://localhost:8080/"
        },
        "id": "lgI_PiAoTGVj",
        "outputId": "ce77cf9d-987a-4030-ee43-0bc1642730a1"
      },
      "execution_count": null,
      "outputs": [
        {
          "output_type": "stream",
          "name": "stdout",
          "text": [
            "0\n",
            "1\n",
            "2\n",
            "3\n",
            "4\n",
            "5\n",
            "6\n",
            "All done\n"
          ]
        }
      ]
    },
    {
      "cell_type": "code",
      "source": [],
      "metadata": {
        "id": "7hFn51qFTGqq"
      },
      "execution_count": null,
      "outputs": []
    },
    {
      "cell_type": "code",
      "source": [],
      "metadata": {
        "id": "WqWGvRWVTHaz"
      },
      "execution_count": null,
      "outputs": []
    },
    {
      "cell_type": "code",
      "source": [],
      "metadata": {
        "id": "eg84bNRGTH-D"
      },
      "execution_count": null,
      "outputs": []
    },
    {
      "cell_type": "code",
      "source": [],
      "metadata": {
        "id": "_7QxOB5hTIf7"
      },
      "execution_count": null,
      "outputs": []
    },
    {
      "cell_type": "code",
      "source": [],
      "metadata": {
        "id": "UJyJwDowTJBB"
      },
      "execution_count": null,
      "outputs": []
    },
    {
      "cell_type": "markdown",
      "metadata": {
        "id": "P3vL9TN8TWuj"
      },
      "source": [
        "---\n",
        "---\n",
        "---\n"
      ]
    },
    {
      "cell_type": "markdown",
      "source": [
        "---\n",
        "---\n",
        "---\n"
      ],
      "metadata": {
        "id": "Nv_mwGwkrlIh"
      }
    },
    {
      "cell_type": "markdown",
      "source": [
        "---\n",
        "---\n",
        "---"
      ],
      "metadata": {
        "id": "m-ifyjPA6Fxv"
      }
    },
    {
      "cell_type": "markdown",
      "source": [
        "---\n",
        "---\n",
        "---\n"
      ],
      "metadata": {
        "id": "_J_WqtVB6LvW"
      }
    }
  ],
  "metadata": {
    "colab": {
      "provenance": []
    },
    "kernelspec": {
      "display_name": "Python 3 (Anaconda)",
      "language": "python",
      "name": "anaconda3"
    },
    "language_info": {
      "codemirror_mode": {
        "name": "ipython",
        "version": 3
      },
      "file_extension": ".py",
      "mimetype": "text/x-python",
      "name": "python",
      "nbconvert_exporter": "python",
      "pygments_lexer": "ipython3",
      "version": "3.5.4"
    }
  },
  "nbformat": 4,
  "nbformat_minor": 0
}