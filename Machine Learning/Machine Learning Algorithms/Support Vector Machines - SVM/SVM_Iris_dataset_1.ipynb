{
  "cells": [
    {
      "cell_type": "markdown",
      "metadata": {
        "id": "view-in-github"
      },
      "source": [
        "<a href=\"https://colab.research.google.com/github/anumit-web/python-interview-2024/blob/main/machine%20learning/Unsupervised_Learning_clustering_type_iris_flower_clustering_Gaussian_mixture_model_(GMM).ipynb\" target=\"_parent\"><img src=\"https://colab.research.google.com/assets/colab-badge.svg\" alt=\"Open In Colab\"/></a>"
      ]
    },
    {
      "cell_type": "markdown",
      "source": [],
      "metadata": {
        "id": "q_lhvb-UXLbF"
      }
    },
    {
      "cell_type": "markdown",
      "metadata": {
        "id": "e8lzIrkY9qBJ"
      },
      "source": [
        "# Python interview preparation"
      ]
    },
    {
      "cell_type": "markdown",
      "source": [
        "# Machine Learning"
      ],
      "metadata": {
        "id": "tomuVIUl9uY6"
      }
    },
    {
      "cell_type": "markdown",
      "source": [
        "# Reinforcement Learning (RL)"
      ],
      "metadata": {
        "id": "kHzWKBvDszBY"
      }
    },
    {
      "cell_type": "markdown",
      "source": [
        "# Chapter 1"
      ],
      "metadata": {
        "id": "Ow1vTaKl9oHQ"
      }
    },
    {
      "cell_type": "markdown",
      "source": [
        "---"
      ],
      "metadata": {
        "id": "Ko4QaixAfPyF"
      }
    },
    {
      "cell_type": "markdown",
      "source": [
        "---"
      ],
      "metadata": {
        "id": "JolABC6StbU4"
      }
    },
    {
      "cell_type": "markdown",
      "source": [
        "# (Reinforcement Learning (RL) definition from Google\n",
        "\n",
        "## Reinforcement Learning 101.\n",
        "\n",
        "Reinforcement learning (RL) is **a machine learning technique that teaches software to make decisions to achieve optimal results.** It's a powerful method for AI systems to learn to achieve optimal outcomes in environments they haven't seen before\n",
        "\n",
        "\n",
        "\n",
        "**Here are some key characteristics of RL:**\n",
        "\n",
        "+ **Trial-and-error:** RL mimics the way humans learn by trial and error to achieve their goals.\n",
        "\n",
        "+ **Reward-and-punishment:** RL uses a reward-and-punishment paradigm to process data.\n",
        "\n",
        "+ **Delayed gratification:** RL algorithms can consider delayed rewards, as the best strategy may require short-term sacrifices.\n",
        "\n",
        "+ **No human guidance:** RL agents learn to perform tasks without any guidance from a human user.\n",
        "\n",
        "+ **Goal-oriented:** RL is task-oriented, with the goal of maximizing the reward over a given time period.\n",
        "\n",
        "\n",
        "\n",
        "**RL is different from supervised and unsupervised learning:**\n",
        "\n",
        "+ **Supervised learning:** Uses manually labeled data to produce predictions or classifications.\n",
        "\n",
        "+ **Unsupervised learning:** Aims to uncover and learn hidden patterns from unlabeled data.\n",
        "\n",
        "RL is often used in robotics and gaming. For example, an RL agent playing Pac-Man might receive a numeric reward for each action, such as 0 for empty spaces, 1 for pellets, and 2 for fruit. Over time, the agent would learn to move in a way that maximizes its reward, such as collecting all the pellets to complete the level.\n",
        "\n",
        "\n",
        "\n"
      ],
      "metadata": {
        "id": "xcJgltAIf3rI"
      }
    },
    {
      "cell_type": "markdown",
      "source": [
        "---"
      ],
      "metadata": {
        "id": "1Aq3-L4F4V5H"
      }
    },
    {
      "cell_type": "markdown",
      "source": [
        "[ ] ()\n",
        "\n",
        "\n",
        "[What is Reinforcement Learning?] (https://aws.amazon.com/what-is/reinforcement-learning/)"
      ],
      "metadata": {
        "id": "V-pa8njk4Yz4"
      }
    },
    {
      "cell_type": "markdown",
      "source": [
        "---"
      ],
      "metadata": {
        "id": "q1DHqE-Kh6H3"
      }
    },
    {
      "cell_type": "markdown",
      "source": [
        "[URL to Markdown Converter] (https://jsongpt.com/converter/url-to-markdown)\n",
        "\n",
        "[https://urltomarkdown.com/] (https://urltomarkdown.com/)\n",
        "\n",
        "[HTML to Markdown] (https://codebeautify.org/html-to-markdown)"
      ],
      "metadata": {
        "id": "J5hZ8hjl9OUl"
      }
    },
    {
      "cell_type": "markdown",
      "source": [
        "---"
      ],
      "metadata": {
        "id": "lZ-8TePAt4oW"
      }
    },
    {
      "cell_type": "markdown",
      "source": [
        "# What is Reinforcement Learning? - Reinforcement Learning Explained - AWS\n",
        "There are various algorithms used in reinforcement learning (RL)—such as Q-learning, policy gradient methods, Monte Carlo methods, and temporal difference learning. Deep RL is the application of deep neural networks to reinforcement learning. One example of a deep RL algorithm is Trust Region Policy Optimization (TRPO).\n",
        "\n",
        "All these algorithms can be grouped into two broad categories.\n",
        "\n",
        "### **Model-based RL**\n",
        "\n",
        "Model-based RL is typically used when environments are well-defined and unchanging and where real-world environment testing is difficult.\n",
        "\n",
        "The agent first builds an internal representation (model) of the environment. It uses this process to build this model:\n",
        "\n",
        "1.  It takes actions within the environment and notes the new state and reward value\n",
        "2.  It associates the action-state transition with the reward value.\n",
        "\n",
        "Once the model is complete, the agent simulates action sequences based on the probability of optimal cumulative rewards. It then further assigns values to the action sequences themselves. The agent thus develops different strategies within the environment to achieve the desired end goal.\n",
        "\n",
        "#### ****_Example_****\n",
        "\n",
        "Consider a robot learning to navigate a new building to reach a specific room. Initially, the robot explores freely and builds an internal model (or map) of the building. For instance, it might learn that it encounters an elevator after moving forward 10 meters from the main entrance. Once it builds the map, it can build a series of shortest-path sequences between different locations it visits frequently in the building.\n",
        "\n",
        "### **Model-free RL**\n",
        "\n",
        "Model-free RL is best to use when the environment is large, complex, and not easily describable. It’s also ideal when the environment is unknown and changing, and environment-based testing does not come with significant downsides.\n",
        "\n",
        "The agent doesn’t build an internal model of the environment and its dynamics. Instead, it uses a trial-and-error approach within the environment. It scores and notes state-action pairs—and sequences of state-action pairs—to develop a policy.\n",
        "\n",
        "#### ****_Example_****\n",
        "\n",
        "Consider a self-driving car that needs to navigate city traffic. Roads, traffic patterns, pedestrian behavior, and countless other factors can make the environment highly dynamic and complex. AI teams train the vehicle in a simulated environment in the initial stages. The vehicle takes actions based on its current state and receives rewards or penalties.\n",
        "\n",
        "Over time, by driving millions of miles in different virtual scenarios, the vehicle learns which actions are best for each state without explicitly modeling the entire traffic dynamics. When introduced in the real world, the vehicle uses the learned policy but continues to refine it with new data."
      ],
      "metadata": {
        "id": "slb4ATHZ79YS"
      }
    },
    {
      "cell_type": "markdown",
      "source": [
        "Title: What is Reinforcement Learning? - Reinforcement Learning Explained - AWS\n",
        "\n",
        "Description: Find out what isReinforcement Learning, how and why businesses use Reinforcement Learning, and how to use Reinforcement Learning with AWS.\n",
        "\n",
        "Skip to main content\n",
        "\n",
        "*   What is Cloud Computing?\n",
        "*   Cloud Computing Concepts Hub\n",
        "*   Generative AI\n",
        "*   Machine Learning\n",
        "\n",
        "What is Reinforcement Learning?\n",
        "===============================\n",
        "\n",
        "Create an AWS Account\n",
        "\n",
        "Explore Free Machine Learning Offers\n",
        "\n",
        "Build, deploy, and run machine learning applications in the cloud for free\n",
        "\n",
        "Check out Machine Learning Services\n",
        "\n",
        "Innovate faster with the most comprehensive set of ML services\n",
        "\n",
        "Browse Machine Learning Trainings\n",
        "\n",
        "Get started on machine learning training with content built by AWS experts\n",
        "\n",
        "Read Machine Learning Blogs\n",
        "\n",
        "Read about the latest AWS Machine Learning product news and best practices\n",
        "\n",
        "What is reinforcement learning? What are the benefits of reinforcement learning? What are the use cases of reinforcement learning? How does reinforcement learning work? What are the types of reinforcement learning algorithms? What is the difference between reinforced, supervised, and unsupervised machine learning? What are the challenges with reinforcement learning? How can AWS help with reinforcement learning?\n",
        "\n",
        "What is reinforcement learning?\n",
        "-------------------------------\n",
        "\n",
        "Reinforcement learning (RL) is a machine learning (ML) technique that trains software to make decisions to achieve the most optimal results. It mimics the trial-and-error learning process that humans use to achieve their goals. Software actions that work towards your goal are reinforced, while actions that detract from the goal are ignored.\n",
        "\n",
        "RL algorithms use a reward-and-punishment paradigm as they process data. They learn from the feedback of each action and self-discover the best processing paths to achieve final outcomes. The algorithms are also capable of delayed gratification. The best overall strategy may require short-term sacrifices, so the best approach they discover may include some punishments or backtracking along the way. RL is a powerful method to help artificial intelligence (AI) systems achieve optimal outcomes in unseen environments.\n",
        "\n",
        "What are the benefits of reinforcement learning?\n",
        "------------------------------------------------\n",
        "\n",
        "There are many benefits to using reinforcement learning (RL). However, these three often stand out.\n",
        "\n",
        "### **Excels in complex environments**\n",
        "\n",
        "RL algorithms can be used in complex environments with many rules and dependencies. In the same environment, a human may not be capable of determining the best path to take, even with superior knowledge of the environment. Instead, model-free RL algorithms adapt quickly to continuously changing environments and find new strategies to optimize results.\n",
        "\n",
        "### **Requires less human interaction**\n",
        "\n",
        "In traditional ML algorithms, humans must label data pairs to direct the algorithm. When you use an RL algorithm, this isn’t necessary. It learns by itself. At the same time, it offers mechanisms to integrate human feedback, allowing for systems that adapt to human preferences, expertise, and corrections.\n",
        "\n",
        "### **Optimizes for long-term goals**\n",
        "\n",
        "RL inherently focuses on long-term reward maximization, which makes it apt for scenarios where actions have prolonged consequences. It is particularly well-suited for real-world situations where feedback isn't immediately available for every step, since it can learn from delayed rewards.\n",
        "\n",
        "For example, decisions about energy consumption or storage might have long-term consequences. RL can be used to optimize long-term energy efficiency and cost. With appropriate architectures, RL agents can also generalize their learned strategies across similar but not identical tasks.\n",
        "\n",
        "What are the use cases of reinforcement learning?\n",
        "-------------------------------------------------\n",
        "\n",
        "Reinforcement learning (RL) can be applied to a wide range of real-world use cases. We give some examples next.\n",
        "\n",
        "### **Marketing personalization**\n",
        "\n",
        "In applications like recommendation systems, RL can customize suggestions to individual users based on their interactions. This leads to more personalized experiences. For example, an application may display ads to a user based on some demographic information. With each ad interaction, the application learns which ads to display to the user to optimize product sales.\n",
        "\n",
        "### **Optimization challenges**\n",
        "\n",
        "Traditional optimization methods solve problems by evaluating and comparing possible solutions based on certain criteria. In contrast, RL introduces learning from interactions to find the best or close-to-best solutions over time.\n",
        "\n",
        "For example, a cloud spend optimizing system uses RL to adjust to fluctuating resource needs and choose optimal instance types, quantities, and configurations. It makes decisions based on factors like current and available cloud infrastructure, spending, and utilization.\n",
        "\n",
        "### **Financial predictions**\n",
        "\n",
        "The dynamics of financial markets are complex, with statistical properties that change over time. RL algorithms can optimize long-term returns by considering transaction costs and adapting to market shifts.\n",
        "\n",
        "For instance, an algorithm could observe the rules and patterns of the stock market before it tests actions and records associated rewards. It dynamically creates a value function and develops a strategy to maximize profits.\n",
        "\n",
        "How does reinforcement learning work?\n",
        "-------------------------------------\n",
        "\n",
        "The learning process of reinforcement learning (RL) algorithms is similar to animal and human reinforcement learning in the field of behavioral psychology. For instance, a child may discover that they receive parental praise when they help a sibling or clean but receive negative reactions when they throw toys or yell. Soon, the child learns which combination of activities results in the end reward.\n",
        "\n",
        "An RL algorithm mimics a similar learning process. It tries different activities to learn the associated negative and positive values to achieve the end reward outcome.\n",
        "\n",
        "### **Key concepts**\n",
        "\n",
        "In reinforcement learning, there are a few key concepts to familiarize yourself with:\n",
        "\n",
        "*   **The agent** is the ML algorithm (or the autonomous system)\n",
        "*   **The environment** is the adaptive problem space with attributes such as variables, boundary values, rules, and valid actions\n",
        "*   **The action** is a step that the RL agent takes to navigate the environment\n",
        "*   **The state** is the environment at a given point in time\n",
        "*   **The reward** is the positive, negative, or zero value—in other words, the reward or punishment—for taking an action\n",
        "*   **The cumulative reward** is the sum of all rewards or the end value\n",
        "\n",
        "### **Algorithm basics**\n",
        "\n",
        "Reinforcement learning is based on the Markov decision process, a mathematical modeling of decision-making that uses discrete time steps. At every step, the agent takes a new action that results in a new environment state. Similarly, the current state is attributed to the sequence of previous actions.\n",
        "\n",
        "Through trial and error in moving through the environment, the agent builds a set of if-then rules or policies. The policies help it decide which action to take next for optimal cumulative reward. The agent must also choose between further environment exploration to learn new state-action rewards or select known high-reward actions from a given state. This is called the _exploration-exploitation trade-off_.\n",
        "\n",
        "![alt text](https://d2908q01vomqb2.cloudfront.net/f1f836cb4ea6efb2a0b1b99f41ad8b103eff4b59/2019/04/19/robomaker.gif \"Title\")\n",
        "\n",
        "What are the types of reinforcement learning algorithms?\n",
        "--------------------------------------------------------\n",
        "\n",
        "There are various algorithms used in reinforcement learning (RL)—such as Q-learning, policy gradient methods, Monte Carlo methods, and temporal difference learning. Deep RL is the application of deep neural networks to reinforcement learning. One example of a deep RL algorithm is Trust Region Policy Optimization (TRPO).\n",
        "\n",
        "All these algorithms can be grouped into two broad categories.\n",
        "\n",
        "### **Model-based RL**\n",
        "\n",
        "Model-based RL is typically used when environments are well-defined and unchanging and where real-world environment testing is difficult.\n",
        "\n",
        "The agent first builds an internal representation (model) of the environment. It uses this process to build this model:\n",
        "\n",
        "1.  It takes actions within the environment and notes the new state and reward value\n",
        "2.  It associates the action-state transition with the reward value.\n",
        "\n",
        "Once the model is complete, the agent simulates action sequences based on the probability of optimal cumulative rewards. It then further assigns values to the action sequences themselves. The agent thus develops different strategies within the environment to achieve the desired end goal.\n",
        "\n",
        "#### ****_Example_****\n",
        "\n",
        "Consider a robot learning to navigate a new building to reach a specific room. Initially, the robot explores freely and builds an internal model (or map) of the building. For instance, it might learn that it encounters an elevator after moving forward 10 meters from the main entrance. Once it builds the map, it can build a series of shortest-path sequences between different locations it visits frequently in the building.\n",
        "\n",
        "### **Model-free RL**\n",
        "\n",
        "Model-free RL is best to use when the environment is large, complex, and not easily describable. It’s also ideal when the environment is unknown and changing, and environment-based testing does not come with significant downsides.\n",
        "\n",
        "The agent doesn’t build an internal model of the environment and its dynamics. Instead, it uses a trial-and-error approach within the environment. It scores and notes state-action pairs—and sequences of state-action pairs—to develop a policy.\n",
        "\n",
        "#### ****_Example_****\n",
        "\n",
        "Consider a self-driving car that needs to navigate city traffic. Roads, traffic patterns, pedestrian behavior, and countless other factors can make the environment highly dynamic and complex. AI teams train the vehicle in a simulated environment in the initial stages. The vehicle takes actions based on its current state and receives rewards or penalties.\n",
        "\n",
        "Over time, by driving millions of miles in different virtual scenarios, the vehicle learns which actions are best for each state without explicitly modeling the entire traffic dynamics. When introduced in the real world, the vehicle uses the learned policy but continues to refine it with new data.\n",
        "\n",
        "What is the difference between reinforced, supervised, and unsupervised machine learning?\n",
        "-----------------------------------------------------------------------------------------\n",
        "\n",
        "While supervised learning, unsupervised learning, and reinforcement learning (RL) are all ML algorithms in the field of AI, there are distinctions between the three.\n",
        "\n",
        "Read about supervised and unsupervised learning »\n",
        "\n",
        "#### ****_Reinforcement learning vs. supervised learning_****\n",
        "\n",
        "In supervised learning, you define both the input and the expected associated output. For instance, you can provide a set of images labeled dogs or cats, and the algorithm is then expected to identify a new animal image as a dog or cat.\n",
        "\n",
        "Supervised learning algorithms learn patterns and relationships between the input and output pairs. Then, they predict outcomes based on new input data. It requires a supervisor, typically a human, to label each data record in a training data set with an output.\n",
        "\n",
        "In contrast, RL has a well-defined end goal in the form of a desired result but no supervisor to label associated data in advance. During training, instead of trying to map inputs with known outputs, it maps inputs with possible outcomes. By rewarding desired behaviors, you give weightage to the best outcomes.\n",
        "\n",
        "#### ****_Reinforcement learning vs. unsupervised learning_****\n",
        "\n",
        "Unsupervised learning algorithms receive inputs with no specified outputs during the training process. They find hidden patterns and relationships within the data using statistical means. For instance, you could provide a set of documents, and the algorithm may group them into categories it identifies based on the words in the text. You do not get any specific outcomes; they fall within a range.\n",
        "\n",
        "Conversely, RL has a predetermined end goal. While it takes an exploratory approach, the explorations are continuously validated and improved to increase the probability of reaching the end goal. It can teach itself to reach very specific outcomes.\n",
        "\n",
        "What are the challenges with reinforcement learning?\n",
        "----------------------------------------------------\n",
        "\n",
        "While reinforcement learning (RL) applications can potentially change the world, it may not be easy to deploy these algorithms.\n",
        "\n",
        "### **Practicality**\n",
        "\n",
        "Experimenting with real-world reward and punishment systems may not be practical. For instance, testing a drone in the real world without testing in a simulator first would lead to significant numbers of broken aircraft. Real-world environments change often, significantly, and with limited warning. It can make it harder for the algorithm to be effective in practice.\n",
        "\n",
        "### **Interpretability**\n",
        "\n",
        "Like any field of science, data science also looks at conclusive research and findings to establish standards and procedures. Data scientists prefer knowing how a specific conclusion was reached for provability and replication.\n",
        "\n",
        "With complex RL algorithms, the reasons why a particular sequence of steps was taken may be difficult to ascertain. Which actions in a sequence were the ones that led to the optimal end result? This can be difficult to deduce, which causes implementation challenges.\n",
        "\n",
        "How can AWS help with reinforcement learning?\n",
        "---------------------------------------------\n",
        "\n",
        "Amazon Web Services (AWS) has many offerings that help you develop, train, and deploy reinforcement learning (RL) algorithms for real-world applications.\n",
        "\n",
        "With Amazon SageMaker, developers and data scientists can quickly and easily develop scalable RL models. Combine a deep learning framework (like TensorFlow or Apache MXNet), an RL toolkit (like RL Coach or RLlib), and an environment to mimic a real-world scenario. You can use it to create and test your model.\n",
        "\n",
        "With AWS RoboMaker, developers can run, scale, and automate simulation with RL algorithms for robotics without any infrastructure requirements.\n",
        "\n",
        "Get hands-on experience with AWS DeepRacer, the fully autonomous 1/18th scale race car. It boasts a fully configured cloud environment that you can use to train your RL models and neural network configurations.\n",
        "\n",
        "Get started with reinforcement learning on AWS by creating an account today.\n",
        "\n",
        "Next Steps with AWS\n",
        "-------------------\n",
        "\n",
        "#### Ending Support for Internet Explorer\n",
        "\n",
        "Got it\n",
        "\n",
        "AWS support for Internet Explorer ends on 07/31/2022. Supported browsers are Chrome, Firefox, Edge, and Safari. Learn more »\n",
        "\n",
        "Got it"
      ],
      "metadata": {
        "id": "K832ZPDr8umj"
      }
    },
    {
      "cell_type": "markdown",
      "source": [
        "# Python Code"
      ],
      "metadata": {
        "id": "CKa4SWV84DMv"
      }
    },
    {
      "cell_type": "code",
      "execution_count": null,
      "metadata": {
        "id": "3pRBaqLz9atZ"
      },
      "outputs": [],
      "source": [
        "import numpy as np\n",
        "import pandas as pd"
      ]
    },
    {
      "cell_type": "code",
      "execution_count": null,
      "metadata": {
        "id": "TFXpB4wv-5-1",
        "colab": {
          "base_uri": "https://localhost:8080/"
        },
        "outputId": "1720450f-f822-4b6a-fc03-605ad3a89020"
      },
      "outputs": [
        {
          "output_type": "stream",
          "name": "stdout",
          "text": [
            "3.10.12 (main, Sep 11 2024, 15:47:36) [GCC 11.4.0]\n"
          ]
        }
      ],
      "source": [
        "import sys\n",
        "\n",
        "print(sys.version)"
      ]
    },
    {
      "cell_type": "code",
      "execution_count": null,
      "metadata": {
        "colab": {
          "base_uri": "https://localhost:8080/"
        },
        "id": "N0djESK29att",
        "outputId": "54805571-3273-4e5b-dbd3-79bc2e1d5b2a"
      },
      "outputs": [
        {
          "output_type": "stream",
          "name": "stdout",
          "text": [
            "Hello, World!\n"
          ]
        }
      ],
      "source": [
        "print(\"Hello, World!\")"
      ]
    },
    {
      "cell_type": "code",
      "execution_count": null,
      "metadata": {
        "id": "nfFMli_AEOK2"
      },
      "outputs": [],
      "source": []
    },
    {
      "cell_type": "markdown",
      "source": [
        "# Python code"
      ],
      "metadata": {
        "id": "MR391vUc7l-N"
      }
    },
    {
      "cell_type": "markdown",
      "source": [],
      "metadata": {
        "id": "mkfbOedi1WHO"
      }
    },
    {
      "cell_type": "code",
      "source": [],
      "metadata": {
        "id": "k8TKfIDF1XrY"
      },
      "execution_count": null,
      "outputs": []
    },
    {
      "cell_type": "code",
      "source": [],
      "metadata": {
        "id": "Banzajk81YL7"
      },
      "execution_count": null,
      "outputs": []
    },
    {
      "cell_type": "code",
      "source": [],
      "metadata": {
        "id": "AWiheCyd1Yc0"
      },
      "execution_count": null,
      "outputs": []
    },
    {
      "cell_type": "code",
      "source": [],
      "metadata": {
        "id": "ThnGb3iZ1YsP"
      },
      "execution_count": null,
      "outputs": []
    },
    {
      "cell_type": "code",
      "source": [],
      "metadata": {
        "id": "wEst9m_R1ZPy"
      },
      "execution_count": null,
      "outputs": []
    }
  ],
  "metadata": {
    "colab": {
      "provenance": []
    },
    "kernelspec": {
      "display_name": "Python 3 (Anaconda)",
      "language": "python",
      "name": "anaconda3"
    },
    "language_info": {
      "codemirror_mode": {
        "name": "ipython",
        "version": 3
      },
      "file_extension": ".py",
      "mimetype": "text/x-python",
      "name": "python",
      "nbconvert_exporter": "python",
      "pygments_lexer": "ipython3",
      "version": "3.5.4"
    }
  },
  "nbformat": 4,
  "nbformat_minor": 0
}