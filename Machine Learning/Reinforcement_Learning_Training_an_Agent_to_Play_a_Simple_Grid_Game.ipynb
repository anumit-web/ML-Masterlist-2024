{
  "cells": [
    {
      "cell_type": "markdown",
      "metadata": {
        "id": "view-in-github",
        "colab_type": "text"
      },
      "source": [
        "<a href=\"https://colab.research.google.com/github/anumit-web/ML-Masterlist-2024/blob/main/Machine%20Learning/Reinforcement_Learning_Training_an_Agent_to_Play_a_Simple_Grid_Game.ipynb\" target=\"_parent\"><img src=\"https://colab.research.google.com/assets/colab-badge.svg\" alt=\"Open In Colab\"/></a>"
      ]
    },
    {
      "cell_type": "markdown",
      "source": [
        "# Machine Learning"
      ],
      "metadata": {
        "id": "r9Tnk6DLIpoU"
      }
    },
    {
      "cell_type": "code",
      "source": [
        "import numpy as np\n",
        "import random\n",
        "\n",
        "# Gridworld dimensions\n",
        "grid_size = 4\n",
        "start = (0, 0)\n",
        "goal = (2, 3)\n",
        "obstacles = [(1, 1), (1, 2)]\n",
        "\n",
        "# Initialize Q-table\n",
        "q_table = np.zeros((grid_size, grid_size, 4))  # 4 actions: up, down, left, right\n",
        "\n",
        "# Parameters\n",
        "alpha = 0.1  # Learning rate\n",
        "gamma = 0.9  # Discount factor\n",
        "epsilon = 0.1  # Exploration rate\n",
        "episodes = 1000\n",
        "\n",
        "# Action mapping\n",
        "actions = {\n",
        "    0: (-1, 0),  # Up\n",
        "    1: (1, 0),   # Down\n",
        "    2: (0, -1),  # Left\n",
        "    3: (0, 1)    # Right\n",
        "}\n",
        "\n",
        "def is_valid(state):\n",
        "    \"\"\" Check if the state is within bounds and not an obstacle \"\"\"\n",
        "    x, y = state\n",
        "    return 0 <= x < grid_size and 0 <= y < grid_size and state not in obstacles\n",
        "\n",
        "def get_reward(state):\n",
        "    \"\"\" Return the reward for the given state \"\"\"\n",
        "    if state == goal:\n",
        "        return 10\n",
        "    elif state in obstacles:\n",
        "        return -10\n",
        "    else:\n",
        "        return -1\n",
        "\n",
        "def choose_action(state):\n",
        "    \"\"\" Choose action using epsilon-greedy policy \"\"\"\n",
        "    if random.uniform(0, 1) < epsilon:\n",
        "        return random.choice(list(actions.keys()))\n",
        "    else:\n",
        "        return np.argmax(q_table[state[0], state[1]])\n",
        "\n",
        "def update_q_table(state, action, reward, next_state):\n",
        "    \"\"\" Update the Q-value using the Q-learning formula \"\"\"\n",
        "    best_next_action = np.argmax(q_table[next_state[0], next_state[1]])\n",
        "    td_target = reward + gamma * q_table[next_state[0], next_state[1], best_next_action]\n",
        "    q_table[state[0], state[1], action] += alpha * (td_target - q_table[state[0], state[1], action])\n",
        "\n",
        "# Training the agent\n",
        "for episode in range(episodes):\n",
        "    state = start\n",
        "\n",
        "    while state != goal:\n",
        "        action = choose_action(state)\n",
        "        next_state = (state[0] + actions[action][0], state[1] + actions[action][1])\n",
        "\n",
        "        if not is_valid(next_state):\n",
        "            next_state = state\n",
        "\n",
        "        reward = get_reward(next_state)\n",
        "        update_q_table(state, action, reward, next_state)\n",
        "        state = next_state\n",
        "\n",
        "# Display the learned Q-table\n",
        "print(\"Learned Q-table:\")\n",
        "print(q_table)\n"
      ],
      "metadata": {
        "id": "z_-1EBlTo_0G"
      },
      "execution_count": null,
      "outputs": []
    }
  ],
  "metadata": {
    "kernelspec": {
      "display_name": "Python 3",
      "name": "python3"
    },
    "language_info": {
      "name": "python"
    },
    "colab": {
      "provenance": [],
      "include_colab_link": true
    }
  },
  "nbformat": 4,
  "nbformat_minor": 0
}