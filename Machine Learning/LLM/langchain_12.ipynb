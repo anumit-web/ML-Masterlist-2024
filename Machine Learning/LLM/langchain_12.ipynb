{
  "cells": [
    {
      "cell_type": "markdown",
      "metadata": {
        "id": "view-in-github"
      },
      "source": [
        "<a href=\"https://colab.research.google.com/github/anumit-web/python-interview-2024/blob/main/machine%20learning/Unsupervised_Learning_clustering_type_iris_flower_clustering_Gaussian_mixture_model_(GMM).ipynb\" target=\"_parent\"><img src=\"https://colab.research.google.com/assets/colab-badge.svg\" alt=\"Open In Colab\"/></a>"
      ]
    },
    {
      "cell_type": "markdown",
      "metadata": {
        "id": "q_lhvb-UXLbF"
      },
      "source": []
    },
    {
      "cell_type": "markdown",
      "metadata": {
        "id": "tomuVIUl9uY6"
      },
      "source": [
        "# Machine Learning"
      ]
    },
    {
      "cell_type": "markdown",
      "metadata": {
        "id": "H6Shee7JuzVF"
      },
      "source": [
        "# LLM"
      ]
    },
    {
      "cell_type": "markdown",
      "source": [
        "# Prompt templates"
      ],
      "metadata": {
        "id": "99VCqplEvvAp"
      }
    },
    {
      "cell_type": "markdown",
      "source": [
        "# Integrating PromptTemplate with LLMs"
      ],
      "metadata": {
        "id": "8XwHCnNavxns"
      }
    },
    {
      "cell_type": "markdown",
      "metadata": {
        "id": "Ow1vTaKl9oHQ"
      },
      "source": [
        "# Chapter 1"
      ]
    },
    {
      "cell_type": "markdown",
      "metadata": {
        "id": "Ko4QaixAfPyF"
      },
      "source": [
        "---\n",
        "---\n",
        "---\n"
      ]
    },
    {
      "cell_type": "markdown",
      "metadata": {
        "id": "CKa4SWV84DMv"
      },
      "source": [
        "# Python Code"
      ]
    },
    {
      "cell_type": "code",
      "execution_count": null,
      "metadata": {
        "id": "3pRBaqLz9atZ"
      },
      "outputs": [],
      "source": [
        "import numpy as np\n",
        "import pandas as pd"
      ]
    },
    {
      "cell_type": "code",
      "execution_count": null,
      "metadata": {
        "colab": {
          "base_uri": "https://localhost:8080/"
        },
        "id": "TFXpB4wv-5-1",
        "outputId": "f2022216-0b7c-4997-ffd7-d875350db982"
      },
      "outputs": [
        {
          "output_type": "stream",
          "name": "stdout",
          "text": [
            "3.10.12 (main, Sep 11 2024, 15:47:36) [GCC 11.4.0]\n"
          ]
        }
      ],
      "source": [
        "import sys\n",
        "\n",
        "print(sys.version)"
      ]
    },
    {
      "cell_type": "code",
      "execution_count": null,
      "metadata": {
        "colab": {
          "base_uri": "https://localhost:8080/"
        },
        "id": "N0djESK29att",
        "outputId": "1afc35b3-7ad6-452f-c8d5-912943e9ed1c"
      },
      "outputs": [
        {
          "output_type": "stream",
          "name": "stdout",
          "text": [
            "Hello, World!\n"
          ]
        }
      ],
      "source": [
        "print(\"Hello, World!\")"
      ]
    },
    {
      "cell_type": "code",
      "execution_count": null,
      "metadata": {
        "id": "nfFMli_AEOK2",
        "colab": {
          "base_uri": "https://localhost:8080/"
        },
        "outputId": "be538cdb-e230-497a-c393-93c4763aa148"
      },
      "outputs": [
        {
          "output_type": "execute_result",
          "data": {
            "text/plain": [
              "datetime.datetime(2024, 11, 11, 7, 29, 18, 326315, tzinfo=<DstTzInfo 'EST' EST-1 day, 19:00:00 STD>)"
            ]
          },
          "metadata": {},
          "execution_count": 143
        }
      ],
      "source": [
        "from datetime import datetime\n",
        "from pytz import timezone\n",
        "tz = timezone('EST')\n",
        "datetime.now(tz)"
      ]
    },
    {
      "cell_type": "markdown",
      "metadata": {
        "id": "HjDoARvnvU2L"
      },
      "source": [
        "---\n",
        "---\n",
        "***"
      ]
    },
    {
      "cell_type": "markdown",
      "metadata": {
        "id": "MR391vUc7l-N"
      },
      "source": [
        "# Python code"
      ]
    },
    {
      "cell_type": "markdown",
      "metadata": {
        "id": "mkfbOedi1WHO"
      },
      "source": []
    },
    {
      "cell_type": "code",
      "execution_count": null,
      "metadata": {
        "id": "1SZd9nC1wLm3"
      },
      "outputs": [],
      "source": [
        "try:\n",
        "  import langchain\n",
        "except:\n",
        "  !pip install langchain\n",
        "  import langchain"
      ]
    },
    {
      "cell_type": "code",
      "execution_count": null,
      "metadata": {
        "id": "4iCA0l5hxjB8"
      },
      "outputs": [],
      "source": [
        "! pip install langchain-community langchain-core --quiet"
      ]
    },
    {
      "cell_type": "code",
      "execution_count": null,
      "metadata": {
        "id": "0n5IXOCNxppN"
      },
      "outputs": [],
      "source": [
        "! pip install --upgrade langchain --quiet"
      ]
    },
    {
      "cell_type": "code",
      "execution_count": null,
      "metadata": {
        "id": "AWiheCyd1Yc0"
      },
      "outputs": [],
      "source": [
        "! pip install langchain-cohere --quiet"
      ]
    },
    {
      "cell_type": "code",
      "execution_count": null,
      "metadata": {
        "id": "A0RW7lT_UxHE"
      },
      "outputs": [],
      "source": [
        "! pip install --upgrade --quiet tiktoken langchain langgraph beautifulsoup4"
      ]
    },
    {
      "cell_type": "code",
      "execution_count": null,
      "metadata": {
        "id": "01GEQvpTUyyp"
      },
      "outputs": [],
      "source": [
        "! pip install langchain-core langgraph>0.2.27 --quiet"
      ]
    },
    {
      "cell_type": "code",
      "execution_count": null,
      "metadata": {
        "id": "Ck7bfWqemvdt"
      },
      "outputs": [],
      "source": [
        "# ! pip install langchain-huggingface --quiet"
      ]
    },
    {
      "cell_type": "markdown",
      "metadata": {
        "id": "P3vL9TN8TWuj"
      },
      "source": [
        "---\n",
        "---\n",
        "---\n"
      ]
    },
    {
      "cell_type": "code",
      "execution_count": null,
      "metadata": {
        "id": "wEst9m_R1ZPy"
      },
      "outputs": [],
      "source": [
        "import getpass\n",
        "import os\n",
        "\n",
        "os.environ[\"COHERE_API_KEY\"] = \"Q6nIsqJ4FX9XcZwlcQLSzA06z0oXYAGBw0jmCdbE\"\n",
        "\n",
        "from langchain_cohere import ChatCohere\n",
        "\n",
        "llm_model = ChatCohere(model=\"command-r-plus\")\n",
        "\n",
        "llm_model = ChatCohere(model=\"command-r-plus-08-2024\")"
      ]
    },
    {
      "cell_type": "markdown",
      "source": [
        "---\n",
        "---\n",
        "---\n"
      ],
      "metadata": {
        "id": "Nv_mwGwkrlIh"
      }
    },
    {
      "cell_type": "markdown",
      "metadata": {
        "id": "VqthzTFPZsvU"
      },
      "source": [
        "# Prompt tables in ChatGPT\n",
        "# we use Cohere instead of chatgpt"
      ]
    },
    {
      "cell_type": "markdown",
      "metadata": {
        "id": "Ljt5T8yPjYeq"
      },
      "source": [
        "# This is NOT working ❌"
      ]
    },
    {
      "cell_type": "markdown",
      "metadata": {
        "id": "9_VXS7tTjS4Y"
      },
      "source": [
        "# This is working ✅"
      ]
    },
    {
      "cell_type": "code",
      "execution_count": null,
      "metadata": {
        "colab": {
          "base_uri": "https://localhost:8080/",
          "height": 103
        },
        "id": "I7JxAG-Cf3A4",
        "outputId": "95c42c66-eb07-411d-ad4b-1c08da40577c"
      },
      "outputs": [
        {
          "output_type": "display_data",
          "data": {
            "text/plain": [
              "<IPython.core.display.HTML object>"
            ],
            "text/html": [
              "<p style=\"color:#DE0000;font-size:60px;font-weight: 900;\">10 &nbsp; &nbsp;  &nbsp; &nbsp; &#8595;</p>"
            ]
          },
          "metadata": {}
        }
      ],
      "source": [
        "count = 10\n",
        "\n",
        "from IPython.core.display import display, HTML\n",
        "display(HTML('<p style=\"color:#DE0000;font-size:60px;font-weight: 900;\">10 &nbsp; &nbsp;  &nbsp; &nbsp; &#8595;</p>'))"
      ]
    },
    {
      "cell_type": "code",
      "source": [
        "\n",
        "count = count + 10\n",
        "counter_var = '<p style=\"color:#DE0000;font-size:60px;font-weight: 900;\">'+ str(count) + \"&nbsp; &nbsp;  &nbsp; &nbsp; &#8595;</p>\"\n",
        "display(HTML(counter_var))"
      ],
      "metadata": {
        "colab": {
          "base_uri": "https://localhost:8080/",
          "height": 103
        },
        "id": "CaUEtCcHrimT",
        "outputId": "d4357961-2771-452d-abe0-92e4d53116b1"
      },
      "execution_count": null,
      "outputs": [
        {
          "output_type": "display_data",
          "data": {
            "text/plain": [
              "<IPython.core.display.HTML object>"
            ],
            "text/html": [
              "<p style=\"color:#DE0000;font-size:60px;font-weight: 900;\">20&nbsp; &nbsp;  &nbsp; &nbsp; &#8595;</p>"
            ]
          },
          "metadata": {}
        }
      ]
    },
    {
      "cell_type": "markdown",
      "metadata": {
        "id": "qbrN-0pu5L3I"
      },
      "source": [
        "---\n"
      ]
    },
    {
      "cell_type": "code",
      "source": [
        "\n",
        "from IPython.core.display import display, HTML\n",
        "\n",
        "count = count + 10\n",
        "counter_var = '<p style=\"color:#DE0000;font-size:60px;font-weight: 900;\">'+ str(count) + \"&nbsp; &nbsp;  &nbsp; &nbsp; &#8595;</p>\"\n",
        "display(HTML(counter_var))"
      ],
      "metadata": {
        "colab": {
          "base_uri": "https://localhost:8080/",
          "height": 103
        },
        "id": "sojZoCdw59fF",
        "outputId": "c6741e85-d58f-4721-8185-04f1d47192c2"
      },
      "execution_count": null,
      "outputs": [
        {
          "output_type": "display_data",
          "data": {
            "text/plain": [
              "<IPython.core.display.HTML object>"
            ],
            "text/html": [
              "<p style=\"color:#DE0000;font-size:60px;font-weight: 900;\">30&nbsp; &nbsp;  &nbsp; &nbsp; &#8595;</p>"
            ]
          },
          "metadata": {}
        }
      ]
    },
    {
      "cell_type": "code",
      "source": [
        "\n",
        "from langchain_core.messages import HumanMessage, SystemMessage\n",
        "\n",
        "messages = [\n",
        "    SystemMessage(content=\"Translate the following from English into French\"),\n",
        "    HumanMessage(content=\"hi!\"),\n",
        "]\n",
        "\n",
        "output = llm_model.invoke(messages)\n",
        "\n",
        "print(output.content)"
      ],
      "metadata": {
        "colab": {
          "base_uri": "https://localhost:8080/"
        },
        "id": "NPhryIPb6KOv",
        "outputId": "0892084a-242c-42ca-a1db-ca99839ed18c"
      },
      "execution_count": null,
      "outputs": [
        {
          "output_type": "stream",
          "name": "stdout",
          "text": [
            "Bonjour ! Comment puis-je vous aider ?\n"
          ]
        }
      ]
    },
    {
      "cell_type": "code",
      "source": [
        "count = count + 10\n",
        "counter_var = '<p style=\"color:#DE0000;font-size:60px;font-weight: 900;\">'+ str(count) + \"&nbsp; &nbsp;  &nbsp; &nbsp; &#8595;</p>\"\n",
        "display(HTML(counter_var))"
      ],
      "metadata": {
        "colab": {
          "base_uri": "https://localhost:8080/",
          "height": 103
        },
        "id": "EF8Gliua9Hs6",
        "outputId": "2b2a5940-20c0-4dd8-f9b3-0c336ecaab6d"
      },
      "execution_count": null,
      "outputs": [
        {
          "output_type": "display_data",
          "data": {
            "text/plain": [
              "<IPython.core.display.HTML object>"
            ],
            "text/html": [
              "<p style=\"color:#DE0000;font-size:60px;font-weight: 900;\">40&nbsp; &nbsp;  &nbsp; &nbsp; &#8595;</p>"
            ]
          },
          "metadata": {}
        }
      ]
    },
    {
      "cell_type": "markdown",
      "source": [
        "3 Types of LangChain Prompt Templates\n",
        "When you prompt in LangChain, you’re encouraged (but not required) to use a predefined template class such as:\n",
        "\n",
        "PromptTemplate for creating basic prompts.\n",
        "FewShotPromptTemplate for few-shot learning.\n",
        "ChatPromptTemplate for modeling chatbot interactions"
      ],
      "metadata": {
        "id": "Bi2JYnpi9C8V"
      }
    },
    {
      "cell_type": "code",
      "source": [
        "from langchain.prompts import PromptTemplate\n",
        "\n",
        "prompt_template = PromptTemplate.from_template(\n",
        "  \"Write a delicious recipe for {dish} with a {flavor} twist.\"\n",
        ")\n",
        "\n",
        "# Formatting the prompt with new content\n",
        "formatted_prompt = prompt_template.format(dish=\"pasta\", flavor=\"spicy\")\n",
        "\n",
        "print(formatted_prompt)\n",
        "\n",
        "output = llm_model.invoke(formatted_prompt)\n",
        "\n",
        "print(output.content)\n"
      ],
      "metadata": {
        "colab": {
          "base_uri": "https://localhost:8080/"
        },
        "id": "-3l_k9gTD1_-",
        "outputId": "45d928a8-c2d2-427b-a1dc-38a292e4eb1c"
      },
      "execution_count": null,
      "outputs": [
        {
          "output_type": "stream",
          "name": "stdout",
          "text": [
            "Write a delicious recipe for pasta with a spicy twist.\n",
            "# Spicy Cajun Chicken Pasta\n",
            "\n",
            "## Ingredients:\n",
            "- 300 grams (10.5 ounces) of penne or any short pasta of your choice\n",
            "- 2 tablespoons of olive oil\n",
            "- 2 boneless and skinless chicken breasts, cut into bite-sized pieces\n",
            "- 1 medium onion, finely chopped\n",
            "- 2 cloves of garlic, minced\n",
            "- 1 red bell pepper, sliced into thin strips\n",
            "- 1 green bell pepper, sliced into thin strips\n",
            "- 2 teaspoons of Cajun seasoning (adjust to your preferred spice level)\n",
            "- 1 teaspoon of paprika\n",
            "- 1 teaspoon of dried oregano\n",
            "- 1/2 teaspoon of crushed red pepper flakes (optional, for extra heat)\n",
            "- 1 cup of heavy whipping cream\n",
            "- 1 cup of chicken broth or stock\n",
            "- 1/2 cup of grated Parmesan cheese, plus more for serving\n",
            "- Salt and freshly ground black pepper\n",
            "- Fresh parsley or chives for garnish (optional)\n",
            "\n",
            "## Instructions:\n",
            "\n",
            "1. Bring a large pot of salted water to a boil. Cook the pasta according to the package instructions until al dente. Drain and set aside, reserving 1/2 cup of the pasta cooking water.\n",
            "\n",
            "2. Heat the olive oil in a large skillet or sauté pan over medium-high heat. Add the chicken pieces and cook for about 5-6 minutes until golden brown, stirring occasionally. Transfer the cooked chicken to a plate and set aside.\n",
            "\n",
            "3. In the same pan, sauté the onions for about 2 minutes until translucent. Add the garlic, red and green bell peppers, Cajun seasoning, paprika, oregano, and red pepper flakes (if using). Cook for another 2-3 minutes, stirring frequently. \n",
            "\n",
            "4. Return the cooked chicken to the pan and pour in the heavy cream and chicken broth. Bring the mixture to a gentle boil, then reduce the heat to medium-low and let it simmer for about 5 minutes to thicken the sauce. \n",
            "\n",
            "5. Add the cooked pasta to the skillet and toss to combine with the sauce. If the pasta looks dry, add some of the reserved pasta water to loosen the sauce. Stir in the grated Parmesan cheese and season with salt and black pepper to taste. \n",
            "\n",
            "6. Serve immediately, garnished with fresh parsley or chives and an extra sprinkle of Parmesan cheese on top.\n",
            "\n",
            "This spicy Cajun chicken pasta is sure to tantalize your taste buds with its creamy sauce and a kick of Cajun spices. Adjust the spice level to your preference and enjoy a flavorful and satisfying meal!\n"
          ]
        }
      ]
    },
    {
      "cell_type": "code",
      "source": [
        "\n",
        "count = count + 10\n",
        "counter_var = '<p style=\"color:#DE0000;font-size:60px;font-weight: 900;\">'+ str(count) + \"&nbsp; &nbsp;  &nbsp; &nbsp; &#8595;</p>\"\n",
        "display(HTML(counter_var))"
      ],
      "metadata": {
        "id": "6hZ1bZqg3DfO"
      },
      "execution_count": null,
      "outputs": []
    },
    {
      "cell_type": "code",
      "source": [
        "\n",
        "# Formatting the prompt with new content\n",
        "formatted_prompt = prompt_template.format(dish=\"chilli\", flavor=\"mexican\")\n",
        "\n",
        "print(formatted_prompt)\n",
        "\n",
        "output = llm_model.invoke(formatted_prompt)\n",
        "\n",
        "print(output.content)"
      ],
      "metadata": {
        "colab": {
          "base_uri": "https://localhost:8080/"
        },
        "id": "6nKDkF67Kqcc",
        "outputId": "f1d168a9-e34f-4cc6-fa69-39c256f471a8"
      },
      "execution_count": null,
      "outputs": [
        {
          "output_type": "stream",
          "name": "stdout",
          "text": [
            "Write a delicious recipe for chilli with a mexican twist.\n",
            "# Mexican Chili con Carne\n",
            "\n",
            "## Ingredients:\n",
            "- 2 pounds ground beef\n",
            "- 2 tablespoons olive oil\n",
            "- 1 large white onion, finely chopped\n",
            "- 4 garlic cloves, minced\n",
            "- 2 jalapeño peppers, seeded and finely chopped (adjust the amount for your preferred spice level)\n",
            "- 1 red bell pepper, chopped\n",
            "- 1 green bell pepper, chopped\n",
            "- 2 tablespoons chili powder\n",
            "- 1 tablespoon ground cumin\n",
            "- 1 teaspoon dried oregano\n",
            "- 1 teaspoon ground cinnamon\n",
            "- 1 teaspoon smoked paprika\n",
            "- 1 teaspoon salt\n",
            "- 1/2 teaspoon black pepper\n",
            "- 1 can (28 ounces) crushed tomatoes\n",
            "- 1 can (15 ounces) black beans, drained and rinsed\n",
            "- 1 can (15 ounces) kidney beans, drained and rinsed\n",
            "- 1 cup beef broth\n",
            "- 2 bay leaves\n",
            "- 1/4 cup fresh cilantro, chopped\n",
            "- Juice of 1 lime\n",
            "- Optional toppings: sour cream, grated cheddar cheese, diced avocado, green onions, tortilla chips\n",
            "\n",
            "## Instructions:\n",
            "1. In a large Dutch oven or heavy-bottomed pot, heat the olive oil over medium-high heat. Add the ground beef and cook, stirring occasionally, until browned, about 5-7 minutes. Use a wooden spoon to break up any large chunks.\n",
            "\n",
            "2. Add the chopped onion, garlic, jalapeño peppers, and bell peppers to the pot. Cook for about 5 minutes until the vegetables soften, stirring frequently.\n",
            "\n",
            "3. Stir in the chili powder, cumin, oregano, cinnamon, paprika, salt, and black pepper. Cook for about 2 minutes, allowing the spices to toast and become fragrant.\n",
            "\n",
            "4. Pour in the crushed tomatoes, black beans, kidney beans, and beef broth. Add the bay leaves. Bring the chili to a boil, then reduce the heat to low and let it simmer for 30-40 minutes, stirring occasionally.\n",
            "\n",
            "5. Remove the bay leaves and discard. Stir in the chopped cilantro and lime juice. Taste and adjust seasoning as needed.\n",
            "\n",
            "6. Serve the Mexican Chili in bowls with your choice of toppings. Some suggested toppings include sour cream, cheddar cheese, avocado, green onions, and crushed tortilla chips for added crunch.\n",
            "\n",
            "This chili recipe offers a delightful Mexican twist with the addition of jalapeños, cinnamon, and fresh cilantro. It's hearty, flavorful, and perfect for a cozy dinner or even as a party dish. Enjoy the delicious blend of spices and beans!\n"
          ]
        }
      ]
    },
    {
      "cell_type": "code",
      "source": [
        "count = count + 10\n",
        "counter_var = '<p style=\"color:#DE0000;font-size:60px;font-weight: 900;\">'+ str(count) + \"&nbsp; &nbsp;  &nbsp; &nbsp; &#8595;</p>\"\n",
        "display(HTML(counter_var))"
      ],
      "metadata": {
        "colab": {
          "base_uri": "https://localhost:8080/"
        },
        "id": "3-TlL5_rMvvH",
        "outputId": "83485e5b-9bf0-406b-e1a4-3be363a7a382"
      },
      "execution_count": null,
      "outputs": [
        {
          "output_type": "display_data",
          "data": {
            "text/plain": [
              "<IPython.core.display.HTML object>"
            ],
            "text/html": [
              "<p style=\"color:#DE0000;font-size:60px;font-weight: 900;\">50&nbsp; &nbsp;  &nbsp; &nbsp; &#8595;</p>"
            ]
          },
          "metadata": {}
        }
      ]
    },
    {
      "cell_type": "code",
      "source": [
        "# Formatting the prompt with new content\n",
        "formatted_prompt = prompt_template.format(dish=\"chilli\", flavor=\"korean\")\n",
        "\n",
        "print(formatted_prompt)\n",
        "\n",
        "output = llm_model.invoke(formatted_prompt)\n",
        "\n",
        "print(output.content)"
      ],
      "metadata": {
        "colab": {
          "base_uri": "https://localhost:8080/"
        },
        "id": "1RS1BxI2K--2",
        "outputId": "d4e36d6f-fb6c-4631-aeca-4e7a5f282404"
      },
      "execution_count": null,
      "outputs": [
        {
          "output_type": "stream",
          "name": "stdout",
          "text": [
            "Write a delicious recipe for chilli with a korean twist.\n",
            "# Korean-Inspired Spicy Beef Chilli\n",
            "\n",
            "## Ingredients:\n",
            "- 2 pounds (900 grams) ground beef\n",
            "- 1 large white onion, finely chopped\n",
            "- 3 cloves garlic, minced\n",
            "- 1 tablespoon grated ginger\n",
            "- 2 tablespoons Korean red chili pepper flakes (gochugaru)\n",
            "- 1 tablespoon chili powder\n",
            "- 1 teaspoon Korean chili paste (gochujang)\n",
            "- 1 teaspoon ground cumin\n",
            "- 1 teaspoon sugar\n",
            "- 2 cups beef broth or stock\n",
            "- 1 can (400 grams) red kidney beans, drained and rinsed\n",
            "- 1 can (400 grams) diced tomatoes\n",
            "- 1 tablespoon soy sauce\n",
            "- 1 tablespoon rice vinegar\n",
            "- 2 green onions/scallions, chopped (for garnish)\n",
            "- Sesame seeds (for garnish)\n",
            "- Steamed rice or cooked noodles (optional, for serving)\n",
            "\n",
            "## Instructions:\n",
            "1. In a large heavy-bottomed pot or Dutch oven, heat a tablespoon of oil over medium-high heat. Add the ground beef and cook, stirring occasionally, until browned, for about 5-7 minutes. Break up any large chunks of meat with a spatula.\n",
            "\n",
            "2. Add the chopped onion, garlic, and ginger to the pot. Sauté until the onions become translucent, for about 3-4 minutes.\n",
            "\n",
            "3. Stir in the Korean chili flakes (gochugaru), chili powder, gochujang, cumin, and sugar. Cook for about 2 minutes, stirring frequently, to toast the spices and release their aromas.\n",
            "\n",
            "4. Pour in the beef broth, kidney beans, and diced tomatoes. Bring the mixture to a boil, then reduce the heat to low and let it simmer.\n",
            "\n",
            "5. Add soy sauce and rice vinegar, and season with salt and pepper to taste. Simmer the chilli, uncovered, for about 30-40 minutes, stirring occasionally, until the sauce thickens and the flavors meld together.\n",
            "\n",
            "6. Taste and adjust seasoning as needed. If you prefer a spicier chilli, add more gochugaru or a dash of your favorite hot sauce.\n",
            "\n",
            "7. Serve the Korean beef chilli in bowls, garnished with chopped green onions and sesame seeds. You can enjoy it with steamed rice or cooked noodles on the side.\n",
            "\n",
            "This chilli offers a unique blend of traditional Korean spices and classic chilli flavors, creating a hearty and flavorful dish. Enjoy the delicious combination of savory, spicy, and umami tastes!\n"
          ]
        }
      ]
    },
    {
      "cell_type": "code",
      "source": [
        "count = count + 10\n",
        "counter_var = '<p style=\"color:#DE0000;font-size:60px;font-weight: 900;\">'+ str(count) + \"&nbsp; &nbsp;  &nbsp; &nbsp; &#8595;</p>\"\n",
        "display(HTML(counter_var))"
      ],
      "metadata": {
        "colab": {
          "base_uri": "https://localhost:8080/"
        },
        "id": "_gd3-peKMtWP",
        "outputId": "8cbb0309-948e-4dcc-d3c5-b3687462e58d"
      },
      "execution_count": null,
      "outputs": [
        {
          "output_type": "display_data",
          "data": {
            "text/plain": [
              "<IPython.core.display.HTML object>"
            ],
            "text/html": [
              "<p style=\"color:#DE0000;font-size:60px;font-weight: 900;\">60&nbsp; &nbsp;  &nbsp; &nbsp; &#8595;</p>"
            ]
          },
          "metadata": {}
        }
      ]
    },
    {
      "cell_type": "code",
      "source": [
        "# Formatting the prompt with new content\n",
        "formatted_prompt = prompt_template.format(dish=\"chilli\", flavor=\"fish\")\n",
        "\n",
        "print(formatted_prompt)\n",
        "\n",
        "output = llm_model.invoke(formatted_prompt)\n",
        "\n",
        "print(output.content)"
      ],
      "metadata": {
        "colab": {
          "base_uri": "https://localhost:8080/"
        },
        "id": "0amptXtuLPSt",
        "outputId": "ab47e1f3-d6ed-4ac7-c62e-1592c52f33a8"
      },
      "execution_count": null,
      "outputs": [
        {
          "output_type": "stream",
          "name": "stdout",
          "text": [
            "Write a delicious recipe for chilli with a fish twist.\n",
            "# Seafood Chilli\n",
            "\n",
            "## Ingredients:\n",
            "- 2 tablespoons olive oil\n",
            "- 1 large onion, finely chopped\n",
            "- 4 cloves garlic, minced\n",
            "- 1 red bell pepper, diced\n",
            "- 1 green bell pepper, diced\n",
            "- 1 pound (450 grams) firm white fish (such as cod, haddock, or halibut), cut into 1-inch cubes\n",
            "- 1 pound (450 grams) raw shrimp, peeled and deveined\n",
            "- 2 cans (15 ounces each) red kidney beans, drained and rinsed\n",
            "- 1 can (28 ounces) diced tomatoes\n",
            "- 2 tablespoons chilli powder\n",
            "- 1 tablespoon ground cumin\n",
            "- 1 teaspoon dried oregano\n",
            "- 1/2 teaspoon cayenne pepper (adjust to taste)\n",
            "- 1 cup fish stock or water\n",
            "- Salt and freshly ground black pepper\n",
            "- 2 tablespoons cornmeal or cornstarch (optional)\n",
            "- Fresh cilantro, chopped, for garnish\n",
            "\n",
            "## Instructions:\n",
            "1. Heat the olive oil in a large saucepan or Dutch oven over medium-high heat. Add the onion and garlic, sautéing until softened, about 5 minutes.\n",
            "\n",
            "2. Toss in the diced bell peppers and cook for another 3-4 minutes until they start to become tender.\n",
            "\n",
            "3. Add the chilli powder, cumin, oregano, and cayenne pepper to the saucepan. Cook while stirring constantly for about 1 minute to release the spices' aroma.\n",
            "\n",
            "4. Pour in the diced tomatoes and fish stock (or water). Stir well, scraping any browned bits from the bottom of the pan. Bring the mixture to a simmer.\n",
            "\n",
            "5. Add the fish cubes and shrimp to the chilli. Cover the pan and cook for about 5 minutes until the fish is almost cooked through and the shrimp turns pink.\n",
            "\n",
            "6. Stir in the kidney beans and cornmeal (or cornstarch) if using. The cornmeal will help thicken the chilli. Simmer for an additional 10 minutes, stirring occasionally. Season with salt and black pepper to taste.\n",
            "\n",
            "7. Serve the seafood chilli hot, garnished with fresh cilantro. You can accompany it with rice, crusty bread, or your favorite chilli toppings like cheese, sour cream, and green onions.\n",
            "\n",
            "This recipe adds a unique seafood twist to traditional chilli, making it a delicious and hearty meal for fish lovers. Adjust the spice levels to suit your preference, and feel free to experiment with different types of fish and seafood. Enjoy!\n"
          ]
        }
      ]
    },
    {
      "cell_type": "code",
      "source": [
        "count = count + 10\n",
        "counter_var = '<p style=\"color:#DE0000;font-size:60px;font-weight: 900;\">'+ str(count) + \"&nbsp; &nbsp;  &nbsp; &nbsp; &#8595;</p>\"\n",
        "display(HTML(counter_var))"
      ],
      "metadata": {
        "colab": {
          "base_uri": "https://localhost:8080/"
        },
        "id": "bSORaLTEMrSR",
        "outputId": "fac9b545-1d45-4957-fac7-d1fc9f725553"
      },
      "execution_count": null,
      "outputs": [
        {
          "output_type": "display_data",
          "data": {
            "text/plain": [
              "<IPython.core.display.HTML object>"
            ],
            "text/html": [
              "<p style=\"color:#DE0000;font-size:60px;font-weight: 900;\">70&nbsp; &nbsp;  &nbsp; &nbsp; &#8595;</p>"
            ]
          },
          "metadata": {}
        }
      ]
    },
    {
      "cell_type": "code",
      "source": [
        "# Formatting the prompt with new content\n",
        "formatted_prompt = prompt_template.format(dish=\"chilli\", flavor=\"russian\")\n",
        "\n",
        "print(formatted_prompt)\n",
        "\n",
        "output = llm_model.invoke(formatted_prompt)\n",
        "\n",
        "print(output.content)"
      ],
      "metadata": {
        "colab": {
          "base_uri": "https://localhost:8080/"
        },
        "id": "W67k1UxSLLKO",
        "outputId": "b7ed5484-34c1-4381-b005-fc67da3c5611"
      },
      "execution_count": null,
      "outputs": [
        {
          "output_type": "stream",
          "name": "stdout",
          "text": [
            "Write a delicious recipe for chilli with a russian twist.\n",
            "# Russian-Style Beef Chili\n",
            "\n",
            "## Ingredients:\n",
            "- 2 pounds (900 grams) ground beef\n",
            "- 2 large white onions, finely chopped\n",
            "- 4 cloves of garlic, minced\n",
            "- 2 red bell peppers, diced\n",
            "- 2 tablespoons of tomato paste\n",
            "- 1 can (400 grams) of crushed tomatoes\n",
            "- 1 can (400 grams) of red kidney beans, drained and rinsed\n",
            "- 2 tablespoons of Russian vodka (optional but recommended)\n",
            "- 2 tablespoons of sour cream\n",
            "- 1 tablespoon of paprika\n",
            "- 1 tablespoon of dried dill\n",
            "- 2 teaspoons of ground cumin\n",
            "- 1 teaspoon of dried oregano\n",
            "- 1/2 teaspoon of red pepper flakes (adjust to taste)\n",
            "- Salt and black pepper to taste\n",
            "- Fresh dill for garnish\n",
            "\n",
            "## Instructions:\n",
            "\n",
            "1. In a large, heavy-bottomed pot or Dutch oven, heat a drizzle of oil over medium-high heat. Add the ground beef and cook, stirring occasionally, until browned and crumbly. Break up any large chunks of meat as it cooks.\n",
            "\n",
            "2. Add the chopped onions, garlic, and red bell peppers to the pot. Sauté for about 5-7 minutes until the vegetables soften and become translucent.\n",
            "\n",
            "3. Stir in the tomato paste and cook for a couple of minutes to develop the flavors, then add the crushed tomatoes, kidney beans, vodka (if using), sour cream, and all the spices: paprika, dill, cumin, oregano, red pepper flakes, salt, and pepper. Mix well to combine.\n",
            "\n",
            "4. Bring the chili to a gentle boil, then reduce the heat to low, cover the pot, and let it simmer for at least 30 minutes. For a thicker chili and more developed flavors, simmer for up to an hour, stirring occasionally. \n",
            "\n",
            "5. Taste and adjust seasoning as needed. Garnish with fresh dill sprigs and a dollop of sour cream on top when serving.\n",
            "\n",
            "This chili offers a unique twist with the addition of Russian flavors like dill, vodka, and sour cream. Serve it with traditional sides like rice, crusty bread, or even buckwheat groats for a truly Russian experience. Enjoy!\n"
          ]
        }
      ]
    },
    {
      "cell_type": "code",
      "source": [
        "\n",
        "count = count + 10\n",
        "counter_var = '<p style=\"color:#DE0000;font-size:60px;font-weight: 900;\">'+ str(count) + \"&nbsp; &nbsp;  &nbsp; &nbsp; &#8595;</p>\"\n",
        "display(HTML(counter_var))"
      ],
      "metadata": {
        "colab": {
          "base_uri": "https://localhost:8080/"
        },
        "id": "ZhjrAnCgMkeQ",
        "outputId": "ab302f4a-60fe-4aff-d90f-b1a0a3b35e82"
      },
      "execution_count": null,
      "outputs": [
        {
          "output_type": "display_data",
          "data": {
            "text/plain": [
              "<IPython.core.display.HTML object>"
            ],
            "text/html": [
              "<p style=\"color:#DE0000;font-size:60px;font-weight: 900;\">80&nbsp; &nbsp;  &nbsp; &nbsp; &#8595;</p>"
            ]
          },
          "metadata": {}
        }
      ]
    },
    {
      "cell_type": "code",
      "source": [
        "# Formatting the prompt with new content\n",
        "formatted_prompt = prompt_template.format(dish=\"eggplant\", flavor=\"teriyaki\")\n",
        "\n",
        "print(formatted_prompt)\n",
        "\n",
        "output = llm_model.invoke(formatted_prompt)\n",
        "\n",
        "print(output.content)"
      ],
      "metadata": {
        "colab": {
          "base_uri": "https://localhost:8080/"
        },
        "id": "kFMxAmoyLLmN",
        "outputId": "489deddb-5256-44ac-86d2-ac69840d34ab"
      },
      "execution_count": null,
      "outputs": [
        {
          "output_type": "stream",
          "name": "stdout",
          "text": [
            "Write a delicious recipe for eggplant with a teriyaki twist.\n",
            "# Teriyaki Eggplant Stir-Fry\n",
            "\n",
            "## Ingredients:\n",
            "- 2 medium eggplants\n",
            "- 1/4 cup teriyaki sauce\n",
            "- 2 tablespoons soy sauce\n",
            "- 1 tablespoon grated ginger\n",
            "- 2 cloves garlic, minced\n",
            "- 1 tablespoon sesame oil\n",
            "- 1 tablespoon honey or brown sugar\n",
            "- 1 teaspoon cornstarch\n",
            "- 2 tablespoons vegetable oil\n",
            "- 1 red bell pepper, sliced into thin strips\n",
            "- 1 orange bell pepper, sliced into thin strips\n",
            "- 1 small onion, thinly sliced\n",
            "- 2 green onions, chopped\n",
            "- Sesame seeds for garnish (optional)\n",
            "- Cooked rice or noodles for serving\n",
            "\n",
            "## Instructions:\n",
            "1. Wash and slice the eggplants into 1/2-inch-thick rounds, then cut each round into bite-sized pieces. Sprinkle a little salt over the eggplant pieces and let them sit for 10 minutes to draw out any bitterness. Rinse and pat them dry.\n",
            "2. In a small bowl, combine teriyaki sauce, soy sauce, ginger, garlic, sesame oil, honey (or brown sugar), and cornstarch. Mix well until the cornstarch is dissolved.\n",
            "3. Heat a large wok or skillet over medium-high heat. Add the vegetable oil. When the oil is hot, add the eggplant pieces and cook for about 5-7 minutes, stirring occasionally, until they are lightly browned and tender.\n",
            "4. Add the sliced bell peppers and onion to the wok and stir-fry for another 3-4 minutes until the vegetables are crisp-tender.\n",
            "5. Pour in the teriyaki sauce mixture and cook for 2-3 minutes, stirring continuously, until the sauce thickens and coats the vegetables well.\n",
            "6. Remove from heat and stir in the chopped green onions.\n",
            "7. Serve the teriyaki eggplant stir-fry over cooked rice or noodles, garnished with sesame seeds if desired.\n",
            "\n",
            "This recipe combines the classic flavors of teriyaki sauce with the soft, melt-in-your-mouth texture of eggplant, creating a delicious and flavorful vegetarian dish. Adjust the amount of ginger and garlic to your taste preference, and feel free to add other vegetables like mushrooms or carrots for extra color and nutrition. Enjoy!\n"
          ]
        }
      ]
    },
    {
      "cell_type": "code",
      "source": [],
      "metadata": {
        "id": "ww59RAnKLL_C"
      },
      "execution_count": null,
      "outputs": []
    },
    {
      "cell_type": "code",
      "source": [],
      "metadata": {
        "id": "w8qeN0p2LMd7"
      },
      "execution_count": null,
      "outputs": []
    },
    {
      "cell_type": "code",
      "source": [],
      "metadata": {
        "id": "CEJxZlstLMyp"
      },
      "execution_count": null,
      "outputs": []
    },
    {
      "cell_type": "code",
      "source": [],
      "metadata": {
        "id": "7LiNlVwyLN-B"
      },
      "execution_count": null,
      "outputs": []
    }
  ],
  "metadata": {
    "colab": {
      "provenance": []
    },
    "kernelspec": {
      "display_name": "Python 3 (Anaconda)",
      "language": "python",
      "name": "anaconda3"
    },
    "language_info": {
      "codemirror_mode": {
        "name": "ipython",
        "version": 3
      },
      "file_extension": ".py",
      "mimetype": "text/x-python",
      "name": "python",
      "nbconvert_exporter": "python",
      "pygments_lexer": "ipython3",
      "version": "3.5.4"
    }
  },
  "nbformat": 4,
  "nbformat_minor": 0
}