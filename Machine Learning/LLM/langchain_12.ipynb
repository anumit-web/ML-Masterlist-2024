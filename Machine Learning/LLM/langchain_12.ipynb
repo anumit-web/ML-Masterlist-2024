{
  "cells": [
    {
      "cell_type": "markdown",
      "metadata": {
        "id": "view-in-github"
      },
      "source": [
        "<a href=\"https://colab.research.google.com/github/anumit-web/python-interview-2024/blob/main/machine%20learning/Unsupervised_Learning_clustering_type_iris_flower_clustering_Gaussian_mixture_model_(GMM).ipynb\" target=\"_parent\"><img src=\"https://colab.research.google.com/assets/colab-badge.svg\" alt=\"Open In Colab\"/></a>"
      ]
    },
    {
      "cell_type": "markdown",
      "metadata": {
        "id": "q_lhvb-UXLbF"
      },
      "source": []
    },
    {
      "cell_type": "markdown",
      "metadata": {
        "id": "tomuVIUl9uY6"
      },
      "source": [
        "# Machine Learning"
      ]
    },
    {
      "cell_type": "markdown",
      "metadata": {
        "id": "H6Shee7JuzVF"
      },
      "source": [
        "# LLM"
      ]
    },
    {
      "cell_type": "markdown",
      "source": [
        "# Prompt templates"
      ],
      "metadata": {
        "id": "99VCqplEvvAp"
      }
    },
    {
      "cell_type": "markdown",
      "source": [
        "# Integrating PromptTemplate with LLMs"
      ],
      "metadata": {
        "id": "8XwHCnNavxns"
      }
    },
    {
      "cell_type": "markdown",
      "metadata": {
        "id": "Ow1vTaKl9oHQ"
      },
      "source": [
        "# Chapter 1"
      ]
    },
    {
      "cell_type": "markdown",
      "metadata": {
        "id": "Ko4QaixAfPyF"
      },
      "source": [
        "---\n",
        "---\n",
        "---\n"
      ]
    },
    {
      "cell_type": "markdown",
      "metadata": {
        "id": "CKa4SWV84DMv"
      },
      "source": [
        "# Python Code"
      ]
    },
    {
      "cell_type": "code",
      "execution_count": null,
      "metadata": {
        "id": "3pRBaqLz9atZ"
      },
      "outputs": [],
      "source": [
        "import numpy as np\n",
        "import pandas as pd"
      ]
    },
    {
      "cell_type": "code",
      "execution_count": null,
      "metadata": {
        "colab": {
          "base_uri": "https://localhost:8080/"
        },
        "id": "TFXpB4wv-5-1",
        "outputId": "d9a5fc35-62b2-4ac0-9385-2d194659952b"
      },
      "outputs": [
        {
          "output_type": "stream",
          "name": "stdout",
          "text": [
            "3.10.12 (main, Sep 11 2024, 15:47:36) [GCC 11.4.0]\n"
          ]
        }
      ],
      "source": [
        "import sys\n",
        "\n",
        "print(sys.version)"
      ]
    },
    {
      "cell_type": "code",
      "execution_count": null,
      "metadata": {
        "colab": {
          "base_uri": "https://localhost:8080/"
        },
        "id": "N0djESK29att",
        "outputId": "bb3e0167-37cc-4003-906c-5ca3b1994a1c"
      },
      "outputs": [
        {
          "output_type": "stream",
          "name": "stdout",
          "text": [
            "Hello, World!\n"
          ]
        }
      ],
      "source": [
        "print(\"Hello, World!\")"
      ]
    },
    {
      "cell_type": "code",
      "execution_count": null,
      "metadata": {
        "id": "nfFMli_AEOK2",
        "colab": {
          "base_uri": "https://localhost:8080/"
        },
        "outputId": "44b9e379-fa68-4bf1-c7ce-63fe4575b4a8"
      },
      "outputs": [
        {
          "output_type": "execute_result",
          "data": {
            "text/plain": [
              "datetime.datetime(2024, 11, 11, 6, 50, 27, 512862, tzinfo=<DstTzInfo 'EST' EST-1 day, 19:00:00 STD>)"
            ]
          },
          "metadata": {},
          "execution_count": 111
        }
      ],
      "source": [
        "from datetime import datetime\n",
        "from pytz import timezone\n",
        "tz = timezone('EST')\n",
        "datetime.now(tz)"
      ]
    },
    {
      "cell_type": "markdown",
      "metadata": {
        "id": "HjDoARvnvU2L"
      },
      "source": [
        "---\n",
        "---\n",
        "***"
      ]
    },
    {
      "cell_type": "markdown",
      "metadata": {
        "id": "MR391vUc7l-N"
      },
      "source": [
        "# Python code"
      ]
    },
    {
      "cell_type": "markdown",
      "metadata": {
        "id": "mkfbOedi1WHO"
      },
      "source": []
    },
    {
      "cell_type": "code",
      "execution_count": null,
      "metadata": {
        "id": "1SZd9nC1wLm3"
      },
      "outputs": [],
      "source": [
        "try:\n",
        "  import langchain\n",
        "except:\n",
        "  !pip install langchain\n",
        "  import langchain"
      ]
    },
    {
      "cell_type": "code",
      "execution_count": null,
      "metadata": {
        "id": "4iCA0l5hxjB8"
      },
      "outputs": [],
      "source": [
        "! pip install langchain-community langchain-core --quiet"
      ]
    },
    {
      "cell_type": "code",
      "execution_count": null,
      "metadata": {
        "id": "0n5IXOCNxppN"
      },
      "outputs": [],
      "source": [
        "! pip install --upgrade langchain --quiet"
      ]
    },
    {
      "cell_type": "code",
      "execution_count": null,
      "metadata": {
        "id": "AWiheCyd1Yc0"
      },
      "outputs": [],
      "source": [
        "! pip install langchain-cohere --quiet"
      ]
    },
    {
      "cell_type": "code",
      "execution_count": null,
      "metadata": {
        "id": "A0RW7lT_UxHE"
      },
      "outputs": [],
      "source": [
        "! pip install --upgrade --quiet tiktoken langchain langgraph beautifulsoup4"
      ]
    },
    {
      "cell_type": "code",
      "execution_count": null,
      "metadata": {
        "id": "01GEQvpTUyyp"
      },
      "outputs": [],
      "source": [
        "! pip install langchain-core langgraph>0.2.27 --quiet"
      ]
    },
    {
      "cell_type": "code",
      "execution_count": null,
      "metadata": {
        "id": "Ck7bfWqemvdt"
      },
      "outputs": [],
      "source": [
        "# ! pip install langchain-huggingface --quiet"
      ]
    },
    {
      "cell_type": "markdown",
      "metadata": {
        "id": "P3vL9TN8TWuj"
      },
      "source": [
        "---\n",
        "---\n",
        "---\n"
      ]
    },
    {
      "cell_type": "code",
      "execution_count": null,
      "metadata": {
        "id": "wEst9m_R1ZPy"
      },
      "outputs": [],
      "source": [
        "import getpass\n",
        "import os\n",
        "\n",
        "os.environ[\"COHERE_API_KEY\"] = \"Q6nIsqJ4FX9XcZwlcQLSzA06z0oXYAGBw0jmCdbE\"\n",
        "\n",
        "from langchain_cohere import ChatCohere\n",
        "\n",
        "llm_model = ChatCohere(model=\"command-r-plus\")\n",
        "\n",
        "llm_model = ChatCohere(model=\"command-r-plus-08-2024\")"
      ]
    },
    {
      "cell_type": "markdown",
      "source": [
        "---\n",
        "---\n",
        "---\n"
      ],
      "metadata": {
        "id": "Nv_mwGwkrlIh"
      }
    },
    {
      "cell_type": "markdown",
      "metadata": {
        "id": "VqthzTFPZsvU"
      },
      "source": [
        "# Prompt tables in ChatGPT\n",
        "# we use Cohere instead of chatgpt"
      ]
    },
    {
      "cell_type": "markdown",
      "metadata": {
        "id": "Ljt5T8yPjYeq"
      },
      "source": [
        "# This is NOT working ❌"
      ]
    },
    {
      "cell_type": "markdown",
      "metadata": {
        "id": "9_VXS7tTjS4Y"
      },
      "source": [
        "# This is working ✅"
      ]
    },
    {
      "cell_type": "code",
      "execution_count": null,
      "metadata": {
        "colab": {
          "base_uri": "https://localhost:8080/",
          "height": 103
        },
        "id": "I7JxAG-Cf3A4",
        "outputId": "acf4fbd3-625c-42ee-aec1-37d151390a2c"
      },
      "outputs": [
        {
          "output_type": "display_data",
          "data": {
            "text/plain": [
              "<IPython.core.display.HTML object>"
            ],
            "text/html": [
              "<p style=\"color:#DE0000;font-size:60px;font-weight: 900;\">10 &nbsp; &nbsp;  &nbsp; &nbsp; &#8595;</p>"
            ]
          },
          "metadata": {}
        }
      ],
      "source": [
        "count = 10\n",
        "\n",
        "from IPython.core.display import display, HTML\n",
        "display(HTML('<p style=\"color:#DE0000;font-size:60px;font-weight: 900;\">10 &nbsp; &nbsp;  &nbsp; &nbsp; &#8595;</p>'))"
      ]
    },
    {
      "cell_type": "code",
      "source": [
        "\n",
        "count = count + 10\n",
        "counter_var = '<p style=\"color:#DE0000;font-size:60px;font-weight: 900;\">'+ str(count) + \"&nbsp; &nbsp;  &nbsp; &nbsp; &#8595;</p>\"\n",
        "display(HTML(counter_var))"
      ],
      "metadata": {
        "colab": {
          "base_uri": "https://localhost:8080/",
          "height": 103
        },
        "id": "CaUEtCcHrimT",
        "outputId": "efbd944e-3506-48d2-a384-a24034b539bf"
      },
      "execution_count": null,
      "outputs": [
        {
          "output_type": "display_data",
          "data": {
            "text/plain": [
              "<IPython.core.display.HTML object>"
            ],
            "text/html": [
              "<p style=\"color:#DE0000;font-size:60px;font-weight: 900;\">20&nbsp; &nbsp;  &nbsp; &nbsp; &#8595;</p>"
            ]
          },
          "metadata": {}
        }
      ]
    },
    {
      "cell_type": "markdown",
      "metadata": {
        "id": "qbrN-0pu5L3I"
      },
      "source": [
        "---\n"
      ]
    },
    {
      "cell_type": "code",
      "source": [
        "\n",
        "from IPython.core.display import display, HTML\n",
        "\n",
        "count = count + 10\n",
        "counter_var = '<p style=\"color:#DE0000;font-size:60px;font-weight: 900;\">'+ str(count) + \"&nbsp; &nbsp;  &nbsp; &nbsp; &#8595;</p>\"\n",
        "display(HTML(counter_var))"
      ],
      "metadata": {
        "colab": {
          "base_uri": "https://localhost:8080/",
          "height": 103
        },
        "id": "sojZoCdw59fF",
        "outputId": "4825f1bb-c00b-4001-9424-b3ae69853cbd"
      },
      "execution_count": null,
      "outputs": [
        {
          "output_type": "display_data",
          "data": {
            "text/plain": [
              "<IPython.core.display.HTML object>"
            ],
            "text/html": [
              "<p style=\"color:#DE0000;font-size:60px;font-weight: 900;\">30&nbsp; &nbsp;  &nbsp; &nbsp; &#8595;</p>"
            ]
          },
          "metadata": {}
        }
      ]
    },
    {
      "cell_type": "code",
      "source": [
        "\n",
        "from langchain_core.messages import HumanMessage, SystemMessage\n",
        "\n",
        "messages = [\n",
        "    SystemMessage(content=\"Translate the following from English into French\"),\n",
        "    HumanMessage(content=\"hi!\"),\n",
        "]\n",
        "\n",
        "output = llm_model.invoke(messages)\n",
        "\n",
        "print(output.content)"
      ],
      "metadata": {
        "colab": {
          "base_uri": "https://localhost:8080/"
        },
        "id": "NPhryIPb6KOv",
        "outputId": "e4a98eed-3de5-405b-de2e-cf7781f729fc"
      },
      "execution_count": null,
      "outputs": [
        {
          "output_type": "stream",
          "name": "stdout",
          "text": [
            "Bonjour ! Comment puis-je vous aider aujourd'hui ?\n"
          ]
        }
      ]
    },
    {
      "cell_type": "code",
      "source": [
        "count = count + 10\n",
        "counter_var = '<p style=\"color:#DE0000;font-size:60px;font-weight: 900;\">'+ str(count) + \"&nbsp; &nbsp;  &nbsp; &nbsp; &#8595;</p>\"\n",
        "display(HTML(counter_var))"
      ],
      "metadata": {
        "colab": {
          "base_uri": "https://localhost:8080/",
          "height": 103
        },
        "id": "EF8Gliua9Hs6",
        "outputId": "2a11bb8c-c319-40a4-ffa8-b08fb96dbcaa"
      },
      "execution_count": null,
      "outputs": [
        {
          "output_type": "display_data",
          "data": {
            "text/plain": [
              "<IPython.core.display.HTML object>"
            ],
            "text/html": [
              "<p style=\"color:#DE0000;font-size:60px;font-weight: 900;\">40&nbsp; &nbsp;  &nbsp; &nbsp; &#8595;</p>"
            ]
          },
          "metadata": {}
        }
      ]
    },
    {
      "cell_type": "markdown",
      "source": [
        "3 Types of LangChain Prompt Templates\n",
        "When you prompt in LangChain, you’re encouraged (but not required) to use a predefined template class such as:\n",
        "\n",
        "PromptTemplate for creating basic prompts.\n",
        "FewShotPromptTemplate for few-shot learning.\n",
        "ChatPromptTemplate for modeling chatbot interactions"
      ],
      "metadata": {
        "id": "Bi2JYnpi9C8V"
      }
    },
    {
      "cell_type": "code",
      "source": [
        "from langchain.prompts import PromptTemplate\n",
        "\n",
        "prompt_template = PromptTemplate.from_template(\n",
        "  \"Write a delicious recipe for {dish} with a {flavor} twist.\"\n",
        ")\n",
        "\n",
        "# Formatting the prompt with new content\n",
        "formatted_prompt = prompt_template.format(dish=\"pasta\", flavor=\"spicy\")\n",
        "\n",
        "print(formatted_prompt)\n",
        "\n",
        "output = llm_model.invoke(formatted_prompt)\n",
        "\n",
        "print(output.content)\n"
      ],
      "metadata": {
        "colab": {
          "base_uri": "https://localhost:8080/"
        },
        "id": "-3l_k9gTD1_-",
        "outputId": "8c411b54-04f5-4fa7-f6f8-6ac4de8fac65"
      },
      "execution_count": null,
      "outputs": [
        {
          "output_type": "stream",
          "name": "stdout",
          "text": [
            "Write a delicious recipe for pasta with a spicy twist.\n",
            "# Spicy Cajun Chicken Pasta\n",
            "\n",
            "## Ingredients:\n",
            "- 300 grams penne or your preferred short pasta\n",
            "- 2 boneless and skinless chicken breasts, cut into bite-sized pieces\n",
            "- 2 tablespoons Cajun seasoning (adjust to taste)\n",
            "- 2 tablespoons olive oil\n",
            "- 1 large onion, chopped\n",
            "- 3 cloves garlic, minced\n",
            "- 1 red bell pepper, sliced into thin strips\n",
            "- 1 green bell pepper, sliced into thin strips\n",
            "- 2 teaspoons tomato paste\n",
            "- 1 cup chicken broth\n",
            "- 1 can (400 grams) diced tomatoes\n",
            "- 1 teaspoon dried oregano\n",
            "- 1/2 teaspoon crushed red pepper flakes (add more or less to adjust spiciness)\n",
            "- 1/2 cup heavy cream\n",
            "- 2 tablespoons chopped fresh parsley, for garnish\n",
            "- Salt and pepper to taste\n",
            "- Grated Parmesan cheese for serving\n",
            "\n",
            "## Instructions:\n",
            "1. Bring a large pot of salted water to a boil. Cook the pasta according to package instructions until al dente. Drain and set aside, reserving 1/2 cup of the pasta cooking water.\n",
            "\n",
            "2. Season the chicken pieces with salt, pepper, and 1 tablespoon of Cajun seasoning, making sure all pieces are evenly coated.\n",
            "\n",
            "3. Heat 1 tablespoon of olive oil in a large skillet over medium-high heat. Add the chicken and cook for about 4-5 minutes on each side until cooked through and browned. Transfer the chicken to a plate and set aside.\n",
            "\n",
            "4. In the same skillet, heat the remaining olive oil. Add the onion and garlic, sautéing until fragrant, about 2 minutes. Then, add the bell pepper strips and cook for another 3 minutes until slightly softened.\n",
            "\n",
            "5. Stir in the tomato paste and cook for 1 minute, followed by the chicken broth, diced tomatoes, oregano, crushed red pepper flakes, and the remaining Cajun seasoning. Bring the mixture to a simmer.\n",
            "\n",
            "6. Return the chicken to the skillet and add the heavy cream. Let the sauce simmer for about 5 minutes until slightly thickened. If the sauce becomes too thick, add some of the reserved pasta water to adjust the consistency.\n",
            "\n",
            "7. Add the cooked pasta to the skillet and toss to combine with the sauce. Cook for an additional 2 minutes, ensuring the pasta is heated through.\n",
            "\n",
            "8. Serve the pasta immediately, garnished with chopped parsley and grated Parmesan cheese.\n",
            "\n",
            "This recipe offers a delightful blend of spicy and creamy flavors, perfect for those who enjoy a Cajun-inspired kick. Adjust the amount of Cajun seasoning and red pepper flakes to suit your preferred spice level. Enjoy!\n"
          ]
        }
      ]
    },
    {
      "cell_type": "code",
      "source": [
        "\n",
        "# Formatting the prompt with new content\n",
        "formatted_prompt = prompt_template.format(dish=\"chilli\", flavor=\"mexican\")\n",
        "\n",
        "print(formatted_prompt)\n",
        "\n",
        "output = llm_model.invoke(formatted_prompt)\n",
        "\n",
        "print(output.content)"
      ],
      "metadata": {
        "colab": {
          "base_uri": "https://localhost:8080/"
        },
        "id": "6nKDkF67Kqcc",
        "outputId": "58136303-1914-4547-f76e-73dba20de6a8"
      },
      "execution_count": 133,
      "outputs": [
        {
          "output_type": "stream",
          "name": "stdout",
          "text": [
            "Write a delicious recipe for chilli with a mexican twist.\n",
            "# Mexican Chicken Chilli\n",
            "\n",
            "## Ingredients:\n",
            "- 2 tablespoons olive oil\n",
            "- 1 pound boneless and skinless chicken thighs, cut into bite-sized pieces\n",
            "- 1 large onion, finely chopped\n",
            "- 3 garlic cloves, minced\n",
            "- 1 red bell pepper, seeded and diced\n",
            "- 1 jalapeño pepper, seeded and finely chopped (adjust the amount to your preferred spice level)\n",
            "- 1 tablespoon ground cumin\n",
            "- 1 tablespoon chilli powder\n",
            "- 1 teaspoon dried oregano\n",
            "- 1 teaspoon ground cinnamon\n",
            "- 1 can (400g) crushed tomatoes\n",
            "- 1 can (400g) black beans, drained and rinsed\n",
            "- 1 cup chicken stock or broth\n",
            "- 1 cup frozen corn kernels\n",
            "- Salt and freshly ground black pepper, to taste\n",
            "- Fresh cilantro, chopped, for serving\n",
            "- Lime wedges, for serving\n",
            "\n",
            "## Optional Toppings:\n",
            "- Sour cream or Greek yogurt\n",
            "- Grated cheddar cheese\n",
            "- Avocado slices\n",
            "- Tortilla chips\n",
            "\n",
            "## Instructions:\n",
            "1. Heat the olive oil in a large pot or Dutch oven over medium-high heat. Add the chicken pieces and cook for about 5-7 minutes, stirring occasionally, until the chicken is browned on all sides. Transfer the cooked chicken to a plate and set aside.\n",
            "\n",
            "2. In the same pot, add the onion, garlic, bell pepper, and jalapeño. Sauté for about 5 minutes until the vegetables soften and become fragrant. Add the cumin, chilli powder, oregano, and cinnamon, stirring continuously for 1 minute to release the spices' aroma.\n",
            "\n",
            "3. Return the chicken to the pot and add the crushed tomatoes, black beans, and chicken stock. Bring the mixture to a boil, then reduce the heat to low and let it simmer for 20-25 minutes, stirring occasionally.\n",
            "\n",
            "4. Add the frozen corn and continue cooking for another 5 minutes. Season the chilli with salt and pepper to taste.\n",
            "\n",
            "5. Serve the Mexican chicken chilli in bowls, garnished with fresh cilantro and a squeeze of lime juice. Offer the optional toppings on the side, allowing everyone to customize their chilli bowl.\n",
            "\n",
            "This chilli recipe offers a delightful blend of Mexican flavors with the warmth of cinnamon and the kick of jalapeño. It's a hearty and flavorful dish that will satisfy your craving for Mexican cuisine! Adjust the spice levels to suit your preference, and enjoy the delicious aromas filling your kitchen.\n"
          ]
        }
      ]
    },
    {
      "cell_type": "code",
      "source": [
        "# Formatting the prompt with new content\n",
        "formatted_prompt = prompt_template.format(dish=\"chilli\", flavor=\"korean\")\n",
        "\n",
        "print(formatted_prompt)\n",
        "\n",
        "output = llm_model.invoke(formatted_prompt)\n",
        "\n",
        "print(output.content)"
      ],
      "metadata": {
        "colab": {
          "base_uri": "https://localhost:8080/"
        },
        "id": "1RS1BxI2K--2",
        "outputId": "6d0d0d96-251b-4cc0-ce32-24548e96e3c1"
      },
      "execution_count": 134,
      "outputs": [
        {
          "output_type": "stream",
          "name": "stdout",
          "text": [
            "Write a delicious recipe for chilli with a korean twist.\n",
            "# **Korean-Inspired Spicy Beef Chilli**\n",
            "\n",
            "## **Ingredients:**\n",
            "- 2 pounds ground beef\n",
            "- 2 tablespoons sesame oil\n",
            "- 1 large onion, finely chopped\n",
            "- 4 garlic cloves, minced\n",
            "- 1 tablespoon grated fresh ginger\n",
            "- 2 tablespoons Korean red pepper flakes (gochugaru)\n",
            "- 1 tablespoon chilli powder (adjust to your preferred spice level)\n",
            "- 1 teaspoon ground cumin\n",
            "- 1 teaspoon sugar\n",
            "- 1 cup beef stock or broth\n",
            "- 2 tablespoons soy sauce\n",
            "- 1 tablespoon rice vinegar\n",
            "- 1 (15 oz) can kidney beans, drained and rinsed\n",
            "- 1 (14 oz) can diced tomatoes\n",
            "- 2 green onions, chopped, for garnish\n",
            "- Steamed rice or cooked noodles, for serving\n",
            "\n",
            "## **Instructions:**\n",
            "\n",
            "1. Heat the sesame oil in a large pot or Dutch oven over medium-high heat. Add the chopped onion and sauté until translucent, about 3-4 minutes. Then add the garlic, ginger, and cook for another minute, stirring frequently to avoid burning.\n",
            "\n",
            "2. Crumble the ground beef into the pot and cook until no longer pink, breaking up any large chunks. Drain excess grease if needed.\n",
            "\n",
            "3. Stir in the Korean red pepper flakes, chilli powder, cumin, and sugar. Cook for about 2 minutes to toast the spices, releasing their aromas.\n",
            "\n",
            "4. Pour in the beef stock, soy sauce, and rice vinegar. Add the kidney beans and diced tomatoes with their juices. Bring the mixture to a boil, then reduce the heat to low and let it simmer.\n",
            "\n",
            "5. Cover the pot partially and simmer for about 20-30 minutes, stirring occasionally, until the chilli has thickened to your desired consistency.\n",
            "\n",
            "6. Taste and adjust seasoning, adding more soy sauce or chilli powder if needed.\n",
            "\n",
            "7. Serve the Korean chilli hot, garnished with chopped green onions. Enjoy it with steamed rice or noodles on the side.\n",
            "\n",
            "This recipe adds a Korean twist to traditional chilli with the use of sesame oil, gochugaru, and soy sauce, creating a unique and flavorful dish. Adjust the spice levels to suit your preference and feel free to add other vegetables like bell peppers or carrots to make it even more colorful and nutritious!\n"
          ]
        }
      ]
    },
    {
      "cell_type": "code",
      "source": [
        "# Formatting the prompt with new content\n",
        "formatted_prompt = prompt_template.format(dish=\"chilli\", flavor=\"fish\")\n",
        "\n",
        "print(formatted_prompt)\n",
        "\n",
        "output = llm_model.invoke(formatted_prompt)\n",
        "\n",
        "print(output.content)"
      ],
      "metadata": {
        "colab": {
          "base_uri": "https://localhost:8080/"
        },
        "id": "0amptXtuLPSt",
        "outputId": "8639b089-3834-4e71-cc69-d50c0b758575"
      },
      "execution_count": 136,
      "outputs": [
        {
          "output_type": "stream",
          "name": "stdout",
          "text": [
            "Write a delicious recipe for chilli with a fish twist.\n",
            "# Seafood Chilli\n",
            "\n",
            "## Ingredients:\n",
            "- 2 tablespoons olive oil\n",
            "- 1 large onion, finely chopped\n",
            "- 4 cloves garlic, minced\n",
            "- 1 red bell pepper, diced\n",
            "- 1 green bell pepper, diced\n",
            "- 1 pound (450 grams) firm white fish (such as cod, haddock, or halibut), cut into 1-inch cubes\n",
            "- 1 pound (450 grams) raw shrimp, peeled and deveined\n",
            "- 2 cans (14.5 oz each) diced tomatoes, preferably fire-roasted\n",
            "- 2 cans (15.5 oz each) red kidney beans, drained and rinsed\n",
            "- 2-3 tablespoons chilli powder (adjust to your preferred spice level)\n",
            "- 1 tablespoon ground cumin\n",
            "- 1 teaspoon dried oregano\n",
            "- 1/2 teaspoon cayenne pepper (optional, for extra heat)\n",
            "- Salt and freshly ground black pepper\n",
            "- 1 cup seafood stock or chicken stock\n",
            "- 2 tablespoons tomato paste\n",
            "- Fresh cilantro, chopped, for garnish\n",
            "- Lime wedges, for serving\n",
            "\n",
            "## Instructions:\n",
            "1. Heat the olive oil in a large Dutch oven or heavy-bottomed pot over medium-high heat. Add the onion and garlic, sautéing until softened, about 5 minutes.\n",
            "\n",
            "2. Toss in the diced bell peppers and continue cooking for another 3-4 minutes until they start to become tender.\n",
            "\n",
            "3. Add the chilli powder, cumin, oregano, cayenne pepper (if using), and a generous amount of salt and black pepper. Stir to combine, cooking for about 1 minute to toast the spices, releasing their aroma.\n",
            "\n",
            "4. Pour in the diced tomatoes with their juices, kidney beans, seafood or chicken stock, and tomato paste. Stir well, bringing the mixture to a simmer. Reduce the heat to medium-low and let it simmer gently for 15 minutes.\n",
            "\n",
            "5. Now, carefully add the fish cubes and shrimp to the chilli. Stir gently to incorporate, ensuring the seafood is coated in the chilli sauce. Simmer for an additional 10-15 minutes until the fish and shrimp are cooked through and opaque.\n",
            "\n",
            "6. Taste and adjust seasoning as needed. Garnish with fresh cilantro and serve with lime wedges on the side.\n",
            "\n",
            "This seafood chilli is a delicious twist on a classic, offering a unique blend of flavors and textures. Serve it with rice, crusty bread, or your favorite chilli accompaniments. Enjoy!\n"
          ]
        }
      ]
    },
    {
      "cell_type": "code",
      "source": [
        "# Formatting the prompt with new content\n",
        "formatted_prompt = prompt_template.format(dish=\"chilli\", flavor=\"russian\")\n",
        "\n",
        "print(formatted_prompt)\n",
        "\n",
        "output = llm_model.invoke(formatted_prompt)\n",
        "\n",
        "print(output.content)"
      ],
      "metadata": {
        "colab": {
          "base_uri": "https://localhost:8080/"
        },
        "id": "W67k1UxSLLKO",
        "outputId": "1e5d9bad-8592-48ae-ead5-5e74c995420f"
      },
      "execution_count": 137,
      "outputs": [
        {
          "output_type": "stream",
          "name": "stdout",
          "text": [
            "Write a delicious recipe for chilli with a russian twist.\n",
            "# Russian-Style Chili with Vodka and Dill\n",
            "\n",
            "## Ingredients:\n",
            "- 2 pounds ground beef\n",
            "- 1 large onion, finely chopped\n",
            "- 4 cloves garlic, minced\n",
            "- 2 tablespoons tomato paste\n",
            "- 1/4 cup (60 ml) vodka\n",
            "- 2 cans (14 oz each) diced tomatoes\n",
            "- 1 can (15 oz) red kidney beans, drained and rinsed\n",
            "- 2 tablespoons chili powder\n",
            "- 1 tablespoon paprika\n",
            "- 1 teaspoon ground cumin\n",
            "- 1 teaspoon dried dill\n",
            "- 1 teaspoon sugar\n",
            "- Salt and freshly ground black pepper\n",
            "- Sour cream, for serving\n",
            "- Fresh dill, chopped, for garnish\n",
            "\n",
            "## Instructions:\n",
            "1. In a large saucepan or Dutch oven, heat some oil over medium-high heat. Add the ground beef and cook until browned, breaking up any large chunks, for about 5-7 minutes. \n",
            "2. Add the onion and garlic to the pan and sauté until the onion becomes translucent, for about 3-4 minutes. \n",
            "3. Stir in the tomato paste and cook for about 1 minute, then pour in the vodka. Let it simmer for a few minutes to cook off the alcohol, stirring to scrape any browned bits from the bottom of the pan.\n",
            "4. Add the diced tomatoes, kidney beans, chili powder, paprika, cumin, dried dill, sugar, and season with salt and pepper. \n",
            "5. Bring the chili to a boil, then reduce the heat to low and let it simmer for about 30 minutes, stirring occasionally. \n",
            "6. Taste and adjust seasoning as needed. If the chili becomes too thick, add a little water to thin it out.\n",
            "7. Serve the Russian-style chili in bowls, topped with a dollop of sour cream and some chopped fresh dill. \n",
            "\n",
            "This unique chili recipe combines traditional Russian flavors with a classic comfort food. The vodka adds a subtle depth of flavor, while the dill provides a refreshing twist to the hearty beef and bean chili. Enjoy it with some crusty bread and a cold beverage!\n"
          ]
        }
      ]
    },
    {
      "cell_type": "code",
      "source": [
        "# Formatting the prompt with new content\n",
        "formatted_prompt = prompt_template.format(dish=\"eggplant\", flavor=\"teriyaki\")\n",
        "\n",
        "print(formatted_prompt)\n",
        "\n",
        "output = llm_model.invoke(formatted_prompt)\n",
        "\n",
        "print(output.content)"
      ],
      "metadata": {
        "colab": {
          "base_uri": "https://localhost:8080/"
        },
        "id": "kFMxAmoyLLmN",
        "outputId": "82a8672b-bd36-44bf-c3b7-65584fee0f79"
      },
      "execution_count": 138,
      "outputs": [
        {
          "output_type": "stream",
          "name": "stdout",
          "text": [
            "Write a delicious recipe for eggplant with a teriyaki twist.\n",
            "# Teriyaki Eggplant Stir-Fry\n",
            "\n",
            "## Ingredients:\n",
            "- 2 medium eggplants\n",
            "- 1/4 cup teriyaki sauce\n",
            "- 2 tablespoons soy sauce\n",
            "- 1 tablespoon grated ginger\n",
            "- 2 cloves garlic, minced\n",
            "- 1 tablespoon sesame oil\n",
            "- 1 tablespoon honey or brown sugar\n",
            "- 1 teaspoon cornstarch\n",
            "- 2 tablespoons vegetable oil\n",
            "- 1 red bell pepper, sliced into thin strips\n",
            "- 1 onion, thinly sliced\n",
            "- 1/2 cup sliced button mushrooms (optional)\n",
            "- 2 green onions, chopped\n",
            "- Sesame seeds for garnish\n",
            "- Cooked rice or noodles for serving\n",
            "\n",
            "## Instructions:\n",
            "1. Wash and slice the eggplants into 1/2-inch thick rounds, then cut each round into bite-sized pieces. Sprinkle a little salt over the eggplant pieces and let them sit for about 10 minutes to draw out any bitterness. Rinse and pat them dry.\n",
            "2. In a small bowl, combine teriyaki sauce, soy sauce, ginger, garlic, sesame oil, honey (or brown sugar), and cornstarch. Mix well until the cornstarch is dissolved.\n",
            "3. Heat a large wok or skillet over medium-high heat. Add the vegetable oil. When the oil is hot, add the eggplant pieces and cook for about 5-7 minutes, stirring occasionally, until they are lightly browned and tender.\n",
            "4. Add the sliced bell pepper, onion, and mushrooms (if using) to the wok. Stir-fry for another 3-4 minutes until the vegetables are crisp-tender.\n",
            "5. Pour in the teriyaki sauce mixture and cook for 2-3 minutes, stirring continuously, until the sauce thickens and coats the vegetables well.\n",
            "6. Remove from heat and sprinkle with chopped green onions and sesame seeds.\n",
            "7. Serve the teriyaki eggplant stir-fry over cooked rice or noodles, and enjoy the delicious fusion of flavors!\n",
            "\n",
            "This recipe adds a unique teriyaki twist to eggplant, making it a flavorful and satisfying vegetarian dish. Adjust the amount of ginger and garlic to your taste preference, and feel free to add more vegetables to make it even more colorful and nutritious.\n"
          ]
        }
      ]
    },
    {
      "cell_type": "code",
      "source": [],
      "metadata": {
        "id": "ww59RAnKLL_C"
      },
      "execution_count": null,
      "outputs": []
    },
    {
      "cell_type": "code",
      "source": [],
      "metadata": {
        "id": "w8qeN0p2LMd7"
      },
      "execution_count": null,
      "outputs": []
    },
    {
      "cell_type": "code",
      "source": [],
      "metadata": {
        "id": "CEJxZlstLMyp"
      },
      "execution_count": null,
      "outputs": []
    },
    {
      "cell_type": "code",
      "source": [],
      "metadata": {
        "id": "7LiNlVwyLN-B"
      },
      "execution_count": null,
      "outputs": []
    }
  ],
  "metadata": {
    "colab": {
      "provenance": []
    },
    "kernelspec": {
      "display_name": "Python 3 (Anaconda)",
      "language": "python",
      "name": "anaconda3"
    },
    "language_info": {
      "codemirror_mode": {
        "name": "ipython",
        "version": 3
      },
      "file_extension": ".py",
      "mimetype": "text/x-python",
      "name": "python",
      "nbconvert_exporter": "python",
      "pygments_lexer": "ipython3",
      "version": "3.5.4"
    }
  },
  "nbformat": 4,
  "nbformat_minor": 0
}