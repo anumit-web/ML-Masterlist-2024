{
  "cells": [
    {
      "cell_type": "markdown",
      "metadata": {
        "id": "view-in-github"
      },
      "source": [
        "<a href=\"https://colab.research.google.com/github/anumit-web/python-interview-2024/blob/main/machine%20learning/Unsupervised_Learning_clustering_type_iris_flower_clustering_Gaussian_mixture_model_(GMM).ipynb\" target=\"_parent\"><img src=\"https://colab.research.google.com/assets/colab-badge.svg\" alt=\"Open In Colab\"/></a>"
      ]
    },
    {
      "cell_type": "markdown",
      "metadata": {
        "id": "q_lhvb-UXLbF"
      },
      "source": []
    },
    {
      "cell_type": "markdown",
      "metadata": {
        "id": "tomuVIUl9uY6"
      },
      "source": [
        "# Machine Learning"
      ]
    },
    {
      "cell_type": "markdown",
      "metadata": {
        "id": "H6Shee7JuzVF"
      },
      "source": [
        "# LLM"
      ]
    },
    {
      "cell_type": "markdown",
      "source": [
        "# Prompt templates"
      ],
      "metadata": {
        "id": "99VCqplEvvAp"
      }
    },
    {
      "cell_type": "markdown",
      "source": [
        "# Integrating PromptTemplate with LLMs"
      ],
      "metadata": {
        "id": "8XwHCnNavxns"
      }
    },
    {
      "cell_type": "markdown",
      "metadata": {
        "id": "Ow1vTaKl9oHQ"
      },
      "source": [
        "# Chapter 1"
      ]
    },
    {
      "cell_type": "markdown",
      "metadata": {
        "id": "Ko4QaixAfPyF"
      },
      "source": [
        "---\n",
        "---\n",
        "---\n"
      ]
    },
    {
      "cell_type": "markdown",
      "metadata": {
        "id": "CKa4SWV84DMv"
      },
      "source": [
        "# Python Code"
      ]
    },
    {
      "cell_type": "code",
      "execution_count": 1,
      "metadata": {
        "id": "3pRBaqLz9atZ"
      },
      "outputs": [],
      "source": [
        "import numpy as np\n",
        "import pandas as pd"
      ]
    },
    {
      "cell_type": "code",
      "execution_count": 2,
      "metadata": {
        "colab": {
          "base_uri": "https://localhost:8080/"
        },
        "id": "TFXpB4wv-5-1",
        "outputId": "88a2a246-f9be-436a-c9b8-fb5845e9c3af"
      },
      "outputs": [
        {
          "output_type": "stream",
          "name": "stdout",
          "text": [
            "3.10.12 (main, Sep 11 2024, 15:47:36) [GCC 11.4.0]\n"
          ]
        }
      ],
      "source": [
        "import sys\n",
        "\n",
        "print(sys.version)"
      ]
    },
    {
      "cell_type": "code",
      "execution_count": 3,
      "metadata": {
        "colab": {
          "base_uri": "https://localhost:8080/"
        },
        "id": "N0djESK29att",
        "outputId": "81457d31-e185-4764-a924-e2239b1d34d7"
      },
      "outputs": [
        {
          "output_type": "stream",
          "name": "stdout",
          "text": [
            "Hello, World!\n"
          ]
        }
      ],
      "source": [
        "print(\"Hello, World!\")"
      ]
    },
    {
      "cell_type": "code",
      "execution_count": 4,
      "metadata": {
        "id": "nfFMli_AEOK2",
        "colab": {
          "base_uri": "https://localhost:8080/"
        },
        "outputId": "4cf3d260-559b-4919-99fc-1d275d2a6eae"
      },
      "outputs": [
        {
          "output_type": "execute_result",
          "data": {
            "text/plain": [
              "datetime.datetime(2024, 11, 11, 15, 18, 20, 326132, tzinfo=<DstTzInfo 'EST' EST-1 day, 19:00:00 STD>)"
            ]
          },
          "metadata": {},
          "execution_count": 4
        }
      ],
      "source": [
        "from datetime import datetime\n",
        "from pytz import timezone\n",
        "tz = timezone('EST')\n",
        "datetime.now(tz)"
      ]
    },
    {
      "cell_type": "markdown",
      "metadata": {
        "id": "HjDoARvnvU2L"
      },
      "source": [
        "---\n",
        "---\n",
        "***"
      ]
    },
    {
      "cell_type": "markdown",
      "metadata": {
        "id": "MR391vUc7l-N"
      },
      "source": [
        "# Python code"
      ]
    },
    {
      "cell_type": "markdown",
      "metadata": {
        "id": "mkfbOedi1WHO"
      },
      "source": []
    },
    {
      "cell_type": "code",
      "execution_count": 5,
      "metadata": {
        "id": "1SZd9nC1wLm3"
      },
      "outputs": [],
      "source": [
        "try:\n",
        "  import langchain\n",
        "except:\n",
        "  !pip install langchain\n",
        "  import langchain"
      ]
    },
    {
      "cell_type": "code",
      "execution_count": 6,
      "metadata": {
        "id": "4iCA0l5hxjB8",
        "colab": {
          "base_uri": "https://localhost:8080/"
        },
        "outputId": "d12acce6-2306-4496-974a-a87962b98094"
      },
      "outputs": [
        {
          "output_type": "stream",
          "name": "stdout",
          "text": [
            "\u001b[2K   \u001b[90m━━━━━━━━━━━━━━━━━━━━━━━━━━━━━━━━━━━━━━━━\u001b[0m \u001b[32m2.4/2.4 MB\u001b[0m \u001b[31m21.6 MB/s\u001b[0m eta \u001b[36m0:00:00\u001b[0m\n",
            "\u001b[2K   \u001b[90m━━━━━━━━━━━━━━━━━━━━━━━━━━━━━━━━━━━━━━━━\u001b[0m \u001b[32m3.1/3.1 MB\u001b[0m \u001b[31m25.0 MB/s\u001b[0m eta \u001b[36m0:00:00\u001b[0m\n",
            "\u001b[2K   \u001b[90m━━━━━━━━━━━━━━━━━━━━━━━━━━━━━━━━━━━━━━━━\u001b[0m \u001b[32m49.5/49.5 kB\u001b[0m \u001b[31m2.3 MB/s\u001b[0m eta \u001b[36m0:00:00\u001b[0m\n",
            "\u001b[?25h"
          ]
        }
      ],
      "source": [
        "! pip install langchain-community langchain-core --quiet"
      ]
    },
    {
      "cell_type": "code",
      "execution_count": 7,
      "metadata": {
        "id": "0n5IXOCNxppN"
      },
      "outputs": [],
      "source": [
        "! pip install --upgrade langchain --quiet"
      ]
    },
    {
      "cell_type": "code",
      "execution_count": 8,
      "metadata": {
        "id": "AWiheCyd1Yc0",
        "colab": {
          "base_uri": "https://localhost:8080/"
        },
        "outputId": "8ae58fff-3178-40fd-d71d-72ec487aca03"
      },
      "outputs": [
        {
          "output_type": "stream",
          "name": "stdout",
          "text": [
            "\u001b[?25l   \u001b[90m━━━━━━━━━━━━━━━━━━━━━━━━━━━━━━━━━━━━━━━━\u001b[0m \u001b[32m0.0/44.0 kB\u001b[0m \u001b[31m?\u001b[0m eta \u001b[36m-:--:--\u001b[0m\r\u001b[2K   \u001b[90m━━━━━━━━━━━━━━━━━━━━━━━━━━━━━━━━━━━━━━━━\u001b[0m \u001b[32m44.0/44.0 kB\u001b[0m \u001b[31m2.0 MB/s\u001b[0m eta \u001b[36m0:00:00\u001b[0m\n",
            "\u001b[?25h\u001b[?25l   \u001b[90m━━━━━━━━━━━━━━━━━━━━━━━━━━━━━━━━━━━━━━━━\u001b[0m \u001b[32m0.0/248.7 kB\u001b[0m \u001b[31m?\u001b[0m eta \u001b[36m-:--:--\u001b[0m\r\u001b[2K   \u001b[91m━━━━━━━━━━━━━━━━━━━━━━━━━━━━━━━━━━━━━━━\u001b[0m\u001b[91m╸\u001b[0m \u001b[32m245.8/248.7 kB\u001b[0m \u001b[31m12.3 MB/s\u001b[0m eta \u001b[36m0:00:01\u001b[0m\r\u001b[2K   \u001b[90m━━━━━━━━━━━━━━━━━━━━━━━━━━━━━━━━━━━━━━━━\u001b[0m \u001b[32m248.7/248.7 kB\u001b[0m \u001b[31m6.7 MB/s\u001b[0m eta \u001b[36m0:00:00\u001b[0m\n",
            "\u001b[2K   \u001b[90m━━━━━━━━━━━━━━━━━━━━━━━━━━━━━━━━━━━━━━━━\u001b[0m \u001b[32m209.0/209.0 kB\u001b[0m \u001b[31m9.6 MB/s\u001b[0m eta \u001b[36m0:00:00\u001b[0m\n",
            "\u001b[2K   \u001b[90m━━━━━━━━━━━━━━━━━━━━━━━━━━━━━━━━━━━━━━━━\u001b[0m \u001b[32m3.1/3.1 MB\u001b[0m \u001b[31m37.4 MB/s\u001b[0m eta \u001b[36m0:00:00\u001b[0m\n",
            "\u001b[?25h"
          ]
        }
      ],
      "source": [
        "! pip install langchain-cohere --quiet"
      ]
    },
    {
      "cell_type": "code",
      "execution_count": 9,
      "metadata": {
        "id": "A0RW7lT_UxHE",
        "colab": {
          "base_uri": "https://localhost:8080/"
        },
        "outputId": "50e46bb8-783d-48f3-f170-afa264b355a9"
      },
      "outputs": [
        {
          "output_type": "stream",
          "name": "stdout",
          "text": [
            "\u001b[?25l   \u001b[90m━━━━━━━━━━━━━━━━━━━━━━━━━━━━━━━━━━━━━━━━\u001b[0m \u001b[32m0.0/1.2 MB\u001b[0m \u001b[31m?\u001b[0m eta \u001b[36m-:--:--\u001b[0m\r\u001b[2K   \u001b[91m━━━━\u001b[0m\u001b[91m╸\u001b[0m\u001b[90m━━━━━━━━━━━━━━━━━━━━━━━━━━━━━━━━━━━\u001b[0m \u001b[32m0.1/1.2 MB\u001b[0m \u001b[31m5.0 MB/s\u001b[0m eta \u001b[36m0:00:01\u001b[0m\r\u001b[2K   \u001b[91m━━━━━━━━━━━━━━━━━━━━━━━━━━━━━━\u001b[0m\u001b[91m╸\u001b[0m\u001b[90m━━━━━━━━━\u001b[0m \u001b[32m0.9/1.2 MB\u001b[0m \u001b[31m13.5 MB/s\u001b[0m eta \u001b[36m0:00:01\u001b[0m\r\u001b[2K   \u001b[91m━━━━━━━━━━━━━━━━━━━━━━━━━━━━━━━━━━━━━━━\u001b[0m\u001b[91m╸\u001b[0m \u001b[32m1.2/1.2 MB\u001b[0m \u001b[31m15.1 MB/s\u001b[0m eta \u001b[36m0:00:01\u001b[0m\r\u001b[2K   \u001b[90m━━━━━━━━━━━━━━━━━━━━━━━━━━━━━━━━━━━━━━━━\u001b[0m \u001b[32m1.2/1.2 MB\u001b[0m \u001b[31m10.5 MB/s\u001b[0m eta \u001b[36m0:00:00\u001b[0m\n",
            "\u001b[?25h\u001b[?25l   \u001b[90m━━━━━━━━━━━━━━━━━━━━━━━━━━━━━━━━━━━━━━━━\u001b[0m \u001b[32m0.0/119.3 kB\u001b[0m \u001b[31m?\u001b[0m eta \u001b[36m-:--:--\u001b[0m\r\u001b[2K   \u001b[90m━━━━━━━━━━━━━━━━━━━━━━━━━━━━━━━━━━━━━━━━\u001b[0m \u001b[32m119.3/119.3 kB\u001b[0m \u001b[31m4.7 MB/s\u001b[0m eta \u001b[36m0:00:00\u001b[0m\n",
            "\u001b[?25h"
          ]
        }
      ],
      "source": [
        "# ! pip install --upgrade --quiet tiktoken langchain langgraph beautifulsoup4"
      ]
    },
    {
      "cell_type": "code",
      "execution_count": 10,
      "metadata": {
        "id": "01GEQvpTUyyp"
      },
      "outputs": [],
      "source": [
        "! pip install langchain-core langgraph>0.2.27 --quiet"
      ]
    },
    {
      "cell_type": "code",
      "execution_count": 11,
      "metadata": {
        "id": "Ck7bfWqemvdt"
      },
      "outputs": [],
      "source": [
        "# ! pip install langchain-huggingface --quiet"
      ]
    },
    {
      "cell_type": "markdown",
      "metadata": {
        "id": "P3vL9TN8TWuj"
      },
      "source": [
        "---\n",
        "---\n",
        "---\n"
      ]
    },
    {
      "cell_type": "code",
      "execution_count": 12,
      "metadata": {
        "id": "wEst9m_R1ZPy"
      },
      "outputs": [],
      "source": [
        "import getpass\n",
        "import os\n",
        "\n",
        "os.environ[\"COHERE_API_KEY\"] = \"Q6nIsqJ4FX9XcZwlcQLSzA06z0oXYAGBw0jmCdbE\"\n",
        "\n",
        "from langchain_cohere import ChatCohere\n",
        "\n",
        "llm_model = ChatCohere(model=\"command-r-plus\")\n",
        "\n",
        "llm_model = ChatCohere(model=\"command-r-plus-08-2024\")"
      ]
    },
    {
      "cell_type": "markdown",
      "source": [
        "---\n",
        "---\n",
        "---\n"
      ],
      "metadata": {
        "id": "Nv_mwGwkrlIh"
      }
    },
    {
      "cell_type": "markdown",
      "metadata": {
        "id": "VqthzTFPZsvU"
      },
      "source": [
        "# Prompt tables in ChatGPT\n",
        "# we use Cohere instead of chatgpt"
      ]
    },
    {
      "cell_type": "markdown",
      "metadata": {
        "id": "Ljt5T8yPjYeq"
      },
      "source": [
        "# This is NOT working ❌"
      ]
    },
    {
      "cell_type": "markdown",
      "metadata": {
        "id": "9_VXS7tTjS4Y"
      },
      "source": [
        "# This is working ✅"
      ]
    },
    {
      "cell_type": "code",
      "execution_count": 13,
      "metadata": {
        "colab": {
          "base_uri": "https://localhost:8080/",
          "height": 103
        },
        "id": "I7JxAG-Cf3A4",
        "outputId": "c7226e54-fe2d-451c-f0ea-6b313df7465f"
      },
      "outputs": [
        {
          "output_type": "display_data",
          "data": {
            "text/plain": [
              "<IPython.core.display.HTML object>"
            ],
            "text/html": [
              "<p style=\"color:#DE0000;font-size:60px;font-weight: 900;\">10 &nbsp; &nbsp;  &nbsp; &nbsp; &#8595;</p>"
            ]
          },
          "metadata": {}
        }
      ],
      "source": [
        "count = 10\n",
        "\n",
        "from IPython.core.display import display, HTML\n",
        "display(HTML('<p style=\"color:#DE0000;font-size:60px;font-weight: 900;\">10 &nbsp; &nbsp;  &nbsp; &nbsp; &#8595;</p>'))"
      ]
    },
    {
      "cell_type": "code",
      "source": [
        "\n",
        "count = count + 10\n",
        "counter_var = '<p style=\"color:#DE0000;font-size:60px;font-weight: 900;\">'+ str(count) + \"&nbsp; &nbsp;  &nbsp; &nbsp; &#8595;</p>\"\n",
        "display(HTML(counter_var))"
      ],
      "metadata": {
        "colab": {
          "base_uri": "https://localhost:8080/",
          "height": 103
        },
        "id": "CaUEtCcHrimT",
        "outputId": "e4eb8af4-6aed-4740-a895-fdc226fbc854"
      },
      "execution_count": 14,
      "outputs": [
        {
          "output_type": "display_data",
          "data": {
            "text/plain": [
              "<IPython.core.display.HTML object>"
            ],
            "text/html": [
              "<p style=\"color:#DE0000;font-size:60px;font-weight: 900;\">20&nbsp; &nbsp;  &nbsp; &nbsp; &#8595;</p>"
            ]
          },
          "metadata": {}
        }
      ]
    },
    {
      "cell_type": "markdown",
      "metadata": {
        "id": "qbrN-0pu5L3I"
      },
      "source": [
        "---\n"
      ]
    },
    {
      "cell_type": "code",
      "source": [
        "\n",
        "from IPython.core.display import display, HTML\n",
        "\n",
        "count = count + 10\n",
        "counter_var = '<p style=\"color:#DE0000;font-size:60px;font-weight: 900;\">'+ str(count) + \"&nbsp; &nbsp;  &nbsp; &nbsp; &#8595;</p>\"\n",
        "display(HTML(counter_var))"
      ],
      "metadata": {
        "colab": {
          "base_uri": "https://localhost:8080/",
          "height": 103
        },
        "id": "sojZoCdw59fF",
        "outputId": "2159cec0-b48e-465f-a873-882e34792674"
      },
      "execution_count": 15,
      "outputs": [
        {
          "output_type": "display_data",
          "data": {
            "text/plain": [
              "<IPython.core.display.HTML object>"
            ],
            "text/html": [
              "<p style=\"color:#DE0000;font-size:60px;font-weight: 900;\">30&nbsp; &nbsp;  &nbsp; &nbsp; &#8595;</p>"
            ]
          },
          "metadata": {}
        }
      ]
    },
    {
      "cell_type": "code",
      "source": [
        "\n",
        "from langchain_core.messages import HumanMessage, SystemMessage\n",
        "\n",
        "messages = [\n",
        "    SystemMessage(content=\"Translate the following from English into French\"),\n",
        "    HumanMessage(content=\"hi!\"),\n",
        "]\n",
        "\n",
        "output = llm_model.invoke(messages)\n",
        "\n",
        "print(output.content)"
      ],
      "metadata": {
        "colab": {
          "base_uri": "https://localhost:8080/"
        },
        "id": "NPhryIPb6KOv",
        "outputId": "66f897ba-6cf1-4aa9-facf-d281511bb33c"
      },
      "execution_count": 16,
      "outputs": [
        {
          "output_type": "stream",
          "name": "stdout",
          "text": [
            "Bonjour ! Comment puis-je vous aider ?\n"
          ]
        }
      ]
    },
    {
      "cell_type": "code",
      "source": [
        "count = count + 10\n",
        "counter_var = '<p style=\"color:#DE0000;font-size:60px;font-weight: 900;\">'+ str(count) + \"&nbsp; &nbsp;  &nbsp; &nbsp; &#8595;</p>\"\n",
        "display(HTML(counter_var))"
      ],
      "metadata": {
        "colab": {
          "base_uri": "https://localhost:8080/",
          "height": 103
        },
        "id": "EF8Gliua9Hs6",
        "outputId": "7fa6e88e-f9a7-45c5-906a-68f9abe19fe8"
      },
      "execution_count": 17,
      "outputs": [
        {
          "output_type": "display_data",
          "data": {
            "text/plain": [
              "<IPython.core.display.HTML object>"
            ],
            "text/html": [
              "<p style=\"color:#DE0000;font-size:60px;font-weight: 900;\">40&nbsp; &nbsp;  &nbsp; &nbsp; &#8595;</p>"
            ]
          },
          "metadata": {}
        }
      ]
    },
    {
      "cell_type": "markdown",
      "source": [
        "3 Types of LangChain Prompt Templates\n",
        "When you prompt in LangChain, you’re encouraged (but not required) to use a predefined template class such as:\n",
        "\n",
        "PromptTemplate for creating basic prompts.\n",
        "FewShotPromptTemplate for few-shot learning.\n",
        "ChatPromptTemplate for modeling chatbot interactions"
      ],
      "metadata": {
        "id": "Bi2JYnpi9C8V"
      }
    },
    {
      "cell_type": "code",
      "source": [
        "from langchain.prompts import PromptTemplate\n",
        "\n",
        "prompt_template = PromptTemplate.from_template(\n",
        "  \"Write a delicious recipe for {dish} with a {flavor} twist.\"\n",
        ")\n",
        "\n",
        "# Formatting the prompt with new content\n",
        "formatted_prompt = prompt_template.format(dish=\"pasta\", flavor=\"spicy\")\n",
        "\n",
        "print(formatted_prompt)\n",
        "\n",
        "output = llm_model.invoke(formatted_prompt)\n",
        "\n",
        "print(output.content)\n"
      ],
      "metadata": {
        "colab": {
          "base_uri": "https://localhost:8080/"
        },
        "id": "-3l_k9gTD1_-",
        "outputId": "99b07827-5225-40e5-8378-1daa6943b43b"
      },
      "execution_count": 18,
      "outputs": [
        {
          "output_type": "stream",
          "name": "stdout",
          "text": [
            "Write a delicious recipe for pasta with a spicy twist.\n",
            "Here's a recipe for spicy pasta that will tantalize your taste buds:\n",
            "\n",
            "**Title: Fiery Arrabbiata Penne**\n",
            "\n",
            "**Ingredients:**\n",
            "- 400 grams (14 ounces) of dried penne pasta\n",
            "- 3 tablespoons extra virgin olive oil\n",
            "- 4 cloves of garlic, finely chopped\n",
            "- 1 teaspoon of red pepper flakes (adjust to your preferred spice level)\n",
            "- 1 medium onion, diced\n",
            "- 2 x 400-gram cans of crushed tomatoes\n",
            "- 1 tablespoon of tomato paste\n",
            "- 1 teaspoon of sugar\n",
            "- Salt and freshly ground black pepper\n",
            "- 1/4 cup fresh basil leaves, chopped\n",
            "- Grated Parmesan cheese, for serving\n",
            "\n",
            "**Instructions:**\n",
            "\n",
            "1. Bring a large pot of salted water to a boil. Cook the penne according to the package instructions until al dente. Reserve about 1/2 cup of the pasta cooking water before draining.\n",
            "\n",
            "2. In a large saucepan or skillet, heat the olive oil over medium heat. Add the garlic, red pepper flakes, and onion. Sauté for about 3-4 minutes until the onion becomes translucent and fragrant, being careful not to burn the garlic.\n",
            "\n",
            "3. Add the crushed tomatoes, tomato paste, sugar, and season with salt and pepper. Stir well and bring the sauce to a simmer. Let it cook for about 10-15 minutes, stirring occasionally, until the sauce thickens slightly.\n",
            "\n",
            "4. Once the sauce is ready, taste and adjust seasoning as needed. Add the chopped basil and stir through.\n",
            "\n",
            "5. Add the cooked penne to the sauce and toss to combine, adding a little bit of the reserved pasta water to loosen the sauce if needed.\n",
            "\n",
            "6. Serve the pasta immediately in bowls, topped with grated Parmesan cheese.\n",
            "\n",
            "**Tips for a Spicy Kick:**\n",
            "- If you prefer an extra fiery dish, consider adding some chopped chili peppers (such as bird's eye chili) along with the garlic and onion.\n",
            "- For a milder heat, reduce the amount of red pepper flakes or add them gradually to taste.\n",
            "- To balance the spice, you can also add a touch of heavy cream or milk to the sauce during the simmering process.\n",
            "\n",
            "Enjoy this spicy arrabbiata penne as a quick, flavorful weeknight dinner!\n"
          ]
        }
      ]
    },
    {
      "cell_type": "code",
      "source": [
        "\n",
        "count = count + 10\n",
        "counter_var = '<p style=\"color:#DE0000;font-size:60px;font-weight: 900;\">'+ str(count) + \"&nbsp; &nbsp;  &nbsp; &nbsp; &#8595;</p>\"\n",
        "display(HTML(counter_var))"
      ],
      "metadata": {
        "colab": {
          "base_uri": "https://localhost:8080/",
          "height": 103
        },
        "id": "6hZ1bZqg3DfO",
        "outputId": "938741ec-b78e-4434-f0cb-99202230f3ca"
      },
      "execution_count": 19,
      "outputs": [
        {
          "output_type": "display_data",
          "data": {
            "text/plain": [
              "<IPython.core.display.HTML object>"
            ],
            "text/html": [
              "<p style=\"color:#DE0000;font-size:60px;font-weight: 900;\">50&nbsp; &nbsp;  &nbsp; &nbsp; &#8595;</p>"
            ]
          },
          "metadata": {}
        }
      ]
    },
    {
      "cell_type": "code",
      "source": [
        "\n",
        "# Formatting the prompt with new content\n",
        "formatted_prompt = prompt_template.format(dish=\"chilli\", flavor=\"mexican\")\n",
        "\n",
        "print(formatted_prompt)\n",
        "\n",
        "output = llm_model.invoke(formatted_prompt)\n",
        "\n",
        "print(output.content)"
      ],
      "metadata": {
        "colab": {
          "base_uri": "https://localhost:8080/"
        },
        "id": "6nKDkF67Kqcc",
        "outputId": "00850811-0b4d-4199-a097-819bb35dbc9f"
      },
      "execution_count": 20,
      "outputs": [
        {
          "output_type": "stream",
          "name": "stdout",
          "text": [
            "Write a delicious recipe for chilli with a mexican twist.\n",
            "Here is a recipe for a Mexican-style chili that is sure to delight your taste buds!\n",
            "\n",
            "**Ingredients:**\n",
            "- 2 pounds ground beef\n",
            "- 2 tablespoons olive oil\n",
            "- 1 large onion, finely chopped\n",
            "- 4 garlic cloves, minced\n",
            "- 2 jalapeño peppers, finely chopped (remove seeds for less heat)\n",
            "- 1 red bell pepper, diced\n",
            "- 1 green bell pepper, diced\n",
            "- 2 tablespoons chili powder\n",
            "- 1 tablespoon ground cumin\n",
            "- 1 teaspoon dried oregano\n",
            "- 1 teaspoon ground cinnamon\n",
            "- 1 teaspoon salt\n",
            "- 1/2 teaspoon black pepper\n",
            "- 2 cans (14 oz each) crushed tomatoes\n",
            "- 1 can (15 oz) black beans, rinsed and drained\n",
            "- 1 can (15 oz) kidney beans, rinsed and drained\n",
            "- 1 cup beef broth\n",
            "- 1/4 cup tomato paste\n",
            "- 2 bay leaves\n",
            "- 1/4 cup fresh cilantro, chopped (optional)\n",
            "- Juice of 1 lime\n",
            "- Shredded Mexican cheese blend, sour cream, and tortilla chips for serving\n",
            "\n",
            "**Instructions:**\n",
            "\n",
            "1. In a large Dutch oven or heavy-bottomed pot, heat the olive oil over medium-high heat. Add the ground beef and cook, breaking it up with a wooden spoon, until browned. Drain excess fat if needed.\n",
            "\n",
            "2. Add the chopped onion, garlic, jalapeños, and bell peppers to the pot. Sauté for about 5-7 minutes until the vegetables soften and become fragrant.\n",
            "\n",
            "3. Stir in the chili powder, cumin, oregano, cinnamon, salt, and black pepper. Cook for a minute, stirring constantly, to release the spices' aroma.\n",
            "\n",
            "4. Add the crushed tomatoes, black beans, kidney beans, beef broth, tomato paste, and bay leaves. Bring the mixture to a boil, then reduce the heat to low and let it simmer.\n",
            "\n",
            "5. Cover the pot and simmer for about 30 minutes, stirring occasionally. Then, remove the lid and continue simmering for an additional 15-20 minutes until the chili thickens to your desired consistency.\n",
            "\n",
            "6. Remove the bay leaves and stir in the chopped cilantro and lime juice. Taste and adjust seasoning if needed.\n",
            "\n",
            "7. Serve the chili in bowls with toppings such as shredded Mexican cheese, a dollop of sour cream, and some crushed tortilla chips for added crunch.\n",
            "\n",
            "This Mexican chili offers a wonderful blend of flavors and spices, making it a hearty and flavorful dish. Enjoy the warmth and satisfaction it brings!\n"
          ]
        }
      ]
    },
    {
      "cell_type": "code",
      "source": [
        "count = count + 10\n",
        "counter_var = '<p style=\"color:#DE0000;font-size:60px;font-weight: 900;\">'+ str(count) + \"&nbsp; &nbsp;  &nbsp; &nbsp; &#8595;</p>\"\n",
        "display(HTML(counter_var))"
      ],
      "metadata": {
        "colab": {
          "base_uri": "https://localhost:8080/",
          "height": 103
        },
        "id": "3-TlL5_rMvvH",
        "outputId": "c2e7a69b-9278-4f92-ddb9-2ea7d0771a0b"
      },
      "execution_count": 21,
      "outputs": [
        {
          "output_type": "display_data",
          "data": {
            "text/plain": [
              "<IPython.core.display.HTML object>"
            ],
            "text/html": [
              "<p style=\"color:#DE0000;font-size:60px;font-weight: 900;\">60&nbsp; &nbsp;  &nbsp; &nbsp; &#8595;</p>"
            ]
          },
          "metadata": {}
        }
      ]
    },
    {
      "cell_type": "code",
      "source": [
        "# Formatting the prompt with new content\n",
        "formatted_prompt = prompt_template.format(dish=\"chilli\", flavor=\"korean\")\n",
        "\n",
        "print(formatted_prompt)\n",
        "\n",
        "output = llm_model.invoke(formatted_prompt)\n",
        "\n",
        "print(output.content)"
      ],
      "metadata": {
        "colab": {
          "base_uri": "https://localhost:8080/"
        },
        "id": "1RS1BxI2K--2",
        "outputId": "3132d3c2-a668-495e-ac2f-c3d4e1e383a2"
      },
      "execution_count": 22,
      "outputs": [
        {
          "output_type": "stream",
          "name": "stdout",
          "text": [
            "Write a delicious recipe for chilli with a korean twist.\n",
            "# **Korean-Inspired Spicy Beef Chilli**\n",
            "\n",
            "## **Ingredients:**\n",
            "- 2 pounds ground beef\n",
            "- 2 tablespoons of sesame oil\n",
            "- 1 large onion, finely chopped\n",
            "- 4 garlic cloves, minced\n",
            "- 1 tablespoon of grated ginger\n",
            "- 2 red chillies, finely chopped (adjust to your preferred spice level)\n",
            "- 1 tablespoon of Korean red pepper flakes (gochugaru)\n",
            "- 1 tablespoon of chilli powder\n",
            "- 1 teaspoon of cumin powder\n",
            "- 1 teaspoon of ground coriander\n",
            "- 1 cup of beef stock or broth\n",
            "- 1 can (400g) of crushed tomatoes\n",
            "- 1 tablespoon of soy sauce\n",
            "- 1 tablespoon of sugar (or to taste)\n",
            "- 1 tablespoon of rice vinegar\n",
            "- 2 carrots, peeled and diced\n",
            "- 1 zucchini, diced\n",
            "- 8 oz. bean sprouts\n",
            "- 2 green onions, chopped, for garnish\n",
            "- Cooked rice, to serve\n",
            "\n",
            "## **Instructions:**\n",
            "\n",
            "1. Heat the sesame oil in a large pot or Dutch oven over medium-high heat. Add the onions and cook until softened, about 5 minutes. Then add the garlic, ginger, and chillies, stirring frequently for about 2 minutes until fragrant. \n",
            "\n",
            "2. Crumble in the ground beef and cook until browned, breaking up any large chunks. Drain excess grease if needed.\n",
            "\n",
            "3. Stir in the Korean red pepper flakes, chilli powder, cumin, and coriander. Cook for 1-2 minutes to toast the spices, stirring continuously.\n",
            "\n",
            "4. Pour in the beef stock, crushed tomatoes, soy sauce, sugar, and rice vinegar. Bring the mixture to a boil, then reduce the heat to a simmer. \n",
            "\n",
            "5. Add the carrots, zucchini, and bean sprouts to the pot. Simmer the chilli uncovered for 20-25 minutes, or until the vegetables are tender and the sauce has thickened. \n",
            "\n",
            "6. Taste and adjust seasoning as needed. Garnish with chopped green onions.\n",
            "\n",
            "7. Serve the Korean chilli hot, accompanied by cooked rice. \n",
            "\n",
            "This recipe adds a Korean twist to traditional chilli with the use of sesame oil, gochugaru, soy sauce, and rice vinegar, creating a unique and flavorful dish. Enjoy the blend of spicy, savory, and tangy flavors!\n"
          ]
        }
      ]
    },
    {
      "cell_type": "code",
      "source": [
        "count = count + 10\n",
        "counter_var = '<p style=\"color:#DE0000;font-size:60px;font-weight: 900;\">'+ str(count) + \"&nbsp; &nbsp;  &nbsp; &nbsp; &#8595;</p>\"\n",
        "display(HTML(counter_var))"
      ],
      "metadata": {
        "colab": {
          "base_uri": "https://localhost:8080/",
          "height": 103
        },
        "id": "_gd3-peKMtWP",
        "outputId": "d200b7c7-4555-4528-d5ac-3bcca901dc67"
      },
      "execution_count": 23,
      "outputs": [
        {
          "output_type": "display_data",
          "data": {
            "text/plain": [
              "<IPython.core.display.HTML object>"
            ],
            "text/html": [
              "<p style=\"color:#DE0000;font-size:60px;font-weight: 900;\">70&nbsp; &nbsp;  &nbsp; &nbsp; &#8595;</p>"
            ]
          },
          "metadata": {}
        }
      ]
    },
    {
      "cell_type": "code",
      "source": [
        "# Formatting the prompt with new content\n",
        "formatted_prompt = prompt_template.format(dish=\"chilli\", flavor=\"fish\")\n",
        "\n",
        "print(formatted_prompt)\n",
        "\n",
        "output = llm_model.invoke(formatted_prompt)\n",
        "\n",
        "print(output.content)"
      ],
      "metadata": {
        "colab": {
          "base_uri": "https://localhost:8080/"
        },
        "id": "0amptXtuLPSt",
        "outputId": "7531080b-4ceb-4442-ac8e-09b153e0bcc1"
      },
      "execution_count": 24,
      "outputs": [
        {
          "output_type": "stream",
          "name": "stdout",
          "text": [
            "Write a delicious recipe for chilli with a fish twist.\n",
            "# Seafood Chilli\n",
            "\n",
            "## Ingredients:\n",
            "- 2 tablespoons olive oil\n",
            "- 1 large onion, finely chopped\n",
            "- 4 cloves garlic, minced\n",
            "- 1 red bell pepper, diced\n",
            "- 1 green bell pepper, diced\n",
            "- 1 pound (450 grams) firm white fish (such as cod, halibut, or snapper), cut into 1-inch chunks\n",
            "- 1 pound (450 grams) raw shrimp, peeled and deveined\n",
            "- 2 cans (14.5 oz each) diced tomatoes\n",
            "- 1 can (6 oz) tomato paste\n",
            "- 2 cups fish stock or clam juice\n",
            "- 2 tablespoons chilli powder\n",
            "- 1 tablespoon ground cumin\n",
            "- 1 teaspoon dried oregano\n",
            "- 1 teaspoon salt, or to taste\n",
            "- 1/2 teaspoon ground black pepper\n",
            "- 1 bay leaf\n",
            "- 2 cans (15 oz each) cannellini beans, drained and rinsed\n",
            "- 1/4 cup fresh cilantro, chopped (optional)\n",
            "\n",
            "## Instructions:\n",
            "1. Heat olive oil in a large pot or Dutch oven over medium-high heat. Add the onion and garlic, sautéing until softened, about 5 minutes.\n",
            "\n",
            "2. Toss in the diced red and green bell peppers and cook for another 3-4 minutes until they start to become tender.\n",
            "\n",
            "3. Add the chilli powder, cumin, oregano, salt, and pepper. Cook for about 1 minute, stirring constantly, to release the spices' aroma.\n",
            "\n",
            "4. Pour in the diced tomatoes, tomato paste, fish stock (or clam juice), and bay leaf. Stir well, and bring the mixture to a boil. Reduce the heat to low and simmer for 15 minutes, uncovered.\n",
            "\n",
            "5. Add the fish chunks and shrimp to the pot, stirring gently to combine. Continue simmering for another 10-15 minutes until the seafood is cooked through and opaque.\n",
            "\n",
            "6. Stir in the cannellini beans and cook for an additional 5 minutes to heat them through.\n",
            "\n",
            "7. Remove the bay leaf and adjust the seasoning to taste. Garnish with fresh cilantro if desired.\n",
            "\n",
            "This seafood chilli offers a unique twist on a classic dish, blending the flavors of the sea with traditional chilli spices. Serve it with rice, crusty bread, or your favorite chilli toppings like cheese, sour cream, and green onions. Enjoy!\n"
          ]
        }
      ]
    },
    {
      "cell_type": "code",
      "source": [
        "count = count + 10\n",
        "counter_var = '<p style=\"color:#DE0000;font-size:60px;font-weight: 900;\">'+ str(count) + \"&nbsp; &nbsp;  &nbsp; &nbsp; &#8595;</p>\"\n",
        "display(HTML(counter_var))"
      ],
      "metadata": {
        "colab": {
          "base_uri": "https://localhost:8080/",
          "height": 103
        },
        "id": "bSORaLTEMrSR",
        "outputId": "77963570-b1ae-46a9-da59-9da745479ff3"
      },
      "execution_count": 25,
      "outputs": [
        {
          "output_type": "display_data",
          "data": {
            "text/plain": [
              "<IPython.core.display.HTML object>"
            ],
            "text/html": [
              "<p style=\"color:#DE0000;font-size:60px;font-weight: 900;\">80&nbsp; &nbsp;  &nbsp; &nbsp; &#8595;</p>"
            ]
          },
          "metadata": {}
        }
      ]
    },
    {
      "cell_type": "code",
      "source": [
        "# Formatting the prompt with new content\n",
        "formatted_prompt = prompt_template.format(dish=\"chilli\", flavor=\"russian\")\n",
        "\n",
        "print(formatted_prompt)\n",
        "\n",
        "output = llm_model.invoke(formatted_prompt)\n",
        "\n",
        "print(output.content)"
      ],
      "metadata": {
        "colab": {
          "base_uri": "https://localhost:8080/"
        },
        "id": "W67k1UxSLLKO",
        "outputId": "8f0dc5f3-ea4a-412f-b773-bbb341a1f98f"
      },
      "execution_count": 26,
      "outputs": [
        {
          "output_type": "stream",
          "name": "stdout",
          "text": [
            "Write a delicious recipe for chilli with a russian twist.\n",
            "# Russian-Style Beef Chili\n",
            "\n",
            "## Ingredients:\n",
            "- 2 pounds (900 grams) ground beef\n",
            "- 2 large white onions, finely chopped\n",
            "- 4 cloves of garlic, minced\n",
            "- 2 red bell peppers, seeded and diced\n",
            "- 2 tablespoons of tomato paste\n",
            "- 1 can (400 grams) of crushed tomatoes\n",
            "- 1 can (400 ml) of beef stock\n",
            "- 2 tablespoons of Russian vodka\n",
            "- 2 tablespoons of sour cream\n",
            "- 1 tablespoon of paprika\n",
            "- 1 ½ teaspoons of ground cumin\n",
            "- 1 teaspoon of dried dill\n",
            "- 1 teaspoon of sugar\n",
            "- ½ teaspoon of red pepper flakes (adjust to taste)\n",
            "- Salt and freshly ground black pepper\n",
            "- 2 tablespoons of chopped fresh parsley for garnish\n",
            "\n",
            "## Instructions:\n",
            "1. In a large, heavy-bottomed pot or Dutch oven, cook the ground beef over medium-high heat, breaking it up with a wooden spoon, until browned. Drain excess fat if desired.\n",
            "\n",
            "2. Add the chopped onions, garlic, and red bell peppers to the pot. Sauté for about 5-7 minutes until the vegetables soften and become translucent.\n",
            "\n",
            "3. Stir in the tomato paste and cook for a couple of minutes, allowing the flavors to develop. Then, add the crushed tomatoes, beef stock, vodka, sour cream, paprika, cumin, dill, sugar, and red pepper flakes. Season with salt and black pepper to taste.\n",
            "\n",
            "4. Bring the chili to a simmer, then reduce the heat to low, cover, and let it cook for about 30-40 minutes, stirring occasionally. Taste and adjust seasoning as needed.\n",
            "\n",
            "5. Serve the chili hot, garnished with fresh parsley, and a dollop of sour cream on the side. You can also sprinkle some chopped dill on top for an extra Russian touch.\n",
            "\n",
            "This chili recipe combines traditional chili flavors with Russian ingredients like vodka and dill, creating a unique and flavorful dish. It's perfect for a cozy dinner and can be served with a side of crusty bread or over a bed of rice.\n"
          ]
        }
      ]
    },
    {
      "cell_type": "code",
      "source": [
        "\n",
        "count = count + 10\n",
        "counter_var = '<p style=\"color:#DE0000;font-size:60px;font-weight: 900;\">'+ str(count) + \"&nbsp; &nbsp;  &nbsp; &nbsp; &#8595;</p>\"\n",
        "display(HTML(counter_var))"
      ],
      "metadata": {
        "colab": {
          "base_uri": "https://localhost:8080/",
          "height": 103
        },
        "id": "ZhjrAnCgMkeQ",
        "outputId": "86756c1b-5133-4784-911b-1a5397f46162"
      },
      "execution_count": 27,
      "outputs": [
        {
          "output_type": "display_data",
          "data": {
            "text/plain": [
              "<IPython.core.display.HTML object>"
            ],
            "text/html": [
              "<p style=\"color:#DE0000;font-size:60px;font-weight: 900;\">90&nbsp; &nbsp;  &nbsp; &nbsp; &#8595;</p>"
            ]
          },
          "metadata": {}
        }
      ]
    },
    {
      "cell_type": "code",
      "source": [
        "# Formatting the prompt with new content\n",
        "formatted_prompt = prompt_template.format(dish=\"eggplant\", flavor=\"teriyaki\")\n",
        "\n",
        "print(formatted_prompt)\n",
        "\n",
        "output = llm_model.invoke(formatted_prompt)\n",
        "\n",
        "print(output.content)"
      ],
      "metadata": {
        "colab": {
          "base_uri": "https://localhost:8080/"
        },
        "id": "kFMxAmoyLLmN",
        "outputId": "48187885-ba04-467d-e31f-c372ef19b05e"
      },
      "execution_count": 28,
      "outputs": [
        {
          "output_type": "stream",
          "name": "stdout",
          "text": [
            "Write a delicious recipe for eggplant with a teriyaki twist.\n",
            "# Teriyaki Eggplant Stir-Fry\n",
            "\n",
            "## Ingredients:\n",
            "- 2 medium eggplants\n",
            "- 1/4 cup teriyaki sauce\n",
            "- 2 tablespoons soy sauce\n",
            "- 1 tablespoon grated ginger\n",
            "- 2 cloves garlic, minced\n",
            "- 1 tablespoon sesame oil\n",
            "- 1 tablespoon honey or brown sugar\n",
            "- 1 teaspoon cornstarch\n",
            "- 2 tablespoons vegetable oil\n",
            "- 1 red bell pepper, sliced into thin strips\n",
            "- 1/2 cup sliced onion\n",
            "- 2 green onions, chopped (optional)\n",
            "- Toasted sesame seeds for garnish (optional)\n",
            "- Cooked rice or noodles for serving\n",
            "\n",
            "## Instructions:\n",
            "1. Wash and slice the eggplants into 1/2-inch-thick rounds, then cut each round into bite-sized pieces. Sprinkle a little salt over the eggplant pieces and let them sit for about 10 minutes to draw out any bitterness. Rinse and pat them dry.\n",
            "2. In a small bowl, whisk together the teriyaki sauce, soy sauce, ginger, garlic, sesame oil, honey (or brown sugar), and cornstarch until well combined.\n",
            "3. Heat a large wok or skillet over medium-high heat. Add the vegetable oil. When the oil is hot, add the eggplant pieces and cook for about 5-7 minutes, stirring occasionally, until they are lightly browned and tender.\n",
            "4. Add the sliced bell pepper and onion to the wok and cook for another 2-3 minutes until slightly softened.\n",
            "5. Pour in the teriyaki sauce mixture and stir well to coat the vegetables. Cook for an additional 2-3 minutes until the sauce thickens and the vegetables are well coated.\n",
            "6. Taste and adjust seasoning if needed. Sprinkle with chopped green onions and sesame seeds (if using).\n",
            "7. Serve the teriyaki eggplant stir-fry over cooked rice or noodles, and enjoy the delicious fusion of flavors!\n",
            "\n",
            "This recipe adds a sweet and savory teriyaki twist to eggplant, making it a tasty vegetarian main course or side dish. Feel free to adjust the spices and ingredients to your preference. Enjoy!\n"
          ]
        }
      ]
    },
    {
      "cell_type": "code",
      "source": [
        "count = count + 10\n",
        "counter_var = '<p style=\"color:#DE0000;font-size:60px;font-weight: 900;\">'+ str(count) + \"&nbsp; &nbsp;  &nbsp; &nbsp; &#8595;</p>\"\n",
        "display(HTML(counter_var))"
      ],
      "metadata": {
        "id": "ww59RAnKLL_C",
        "colab": {
          "base_uri": "https://localhost:8080/",
          "height": 103
        },
        "outputId": "574bfe4a-1e19-4068-e690-e50992c42f96"
      },
      "execution_count": 30,
      "outputs": [
        {
          "output_type": "display_data",
          "data": {
            "text/plain": [
              "<IPython.core.display.HTML object>"
            ],
            "text/html": [
              "<p style=\"color:#DE0000;font-size:60px;font-weight: 900;\">100&nbsp; &nbsp;  &nbsp; &nbsp; &#8595;</p>"
            ]
          },
          "metadata": {}
        }
      ]
    },
    {
      "cell_type": "code",
      "source": [
        "# Formatting the prompt with new content\n",
        "formatted_prompt = prompt_template.format(dish=\"beef stew\", flavor=\"country style\")\n",
        "\n",
        "print(formatted_prompt)\n",
        "\n",
        "output = llm_model.invoke(formatted_prompt)\n",
        "\n",
        "print(output.content)"
      ],
      "metadata": {
        "id": "w8qeN0p2LMd7",
        "colab": {
          "base_uri": "https://localhost:8080/"
        },
        "outputId": "ff8ff08d-6d61-4cc9-a71e-bd6ddd9273f2"
      },
      "execution_count": 29,
      "outputs": [
        {
          "output_type": "stream",
          "name": "stdout",
          "text": [
            "Write a delicious recipe for beef stew with a country style twist.\n",
            "Here's a recipe for a hearty Beef Stew with a country-style twist, perfect for a cozy meal:\n",
            "\n",
            "Ingredients:\n",
            "- 2 pounds (900 grams) of chuck roast or stewing beef, cut into 1-inch (2.5 cm) cubes\n",
            "- 1/4 cup (35 grams) all-purpose flour\n",
            "- 2 tablespoons (30 ml) vegetable oil\n",
            "- 3 tablespoons (45 grams) unsalted butter\n",
            "- 2 large yellow onions, roughly chopped\n",
            "- 4 cloves garlic, minced\n",
            "- 2 large carrots, peeled and sliced into thick rounds\n",
            "- 2 stalks of celery, sliced\n",
            "- 2 tablespoons of tomato paste\n",
            "- 2 cups (500 ml) beef broth or stock\n",
            "- 1 cup (250 ml) dry red wine (optional, but adds depth of flavor)\n",
            "- 2 sprigs of fresh thyme\n",
            "- 2 bay leaves\n",
            "- 1 tablespoon of Worcestershire sauce\n",
            "- 1 tablespoon of brown sugar\n",
            "- 1 pound (450 grams) small new potatoes, halved or quartered\n",
            "- 2 tablespoons of fresh parsley, chopped\n",
            "- Salt and freshly cracked black pepper\n",
            "\n",
            "Instructions:\n",
            "\n",
            "1. Season the beef: Place the beef cubes in a large bowl and sprinkle with salt, pepper, and 2 tablespoons of flour. Toss to coat the meat evenly.\n",
            "\n",
            "2. Brown the meat: In a large Dutch oven or heavy-bottomed pot, heat the vegetable oil over medium-high heat. Working in batches to avoid crowding the pan, brown the beef on all sides until deep golden brown. Remove the browned meat to a plate and set aside.\n",
            "\n",
            "3. Cook the vegetables: In the same pot, melt the butter over medium heat. Add the onions, garlic, carrots, and celery. Sauté for about 5-7 minutes until the vegetables start to soften and the onions become translucent.\n",
            "\n",
            "4. Add seasonings: Stir in the tomato paste and cook for 1-2 minutes. Add the remaining flour and cook for another minute, stirring constantly.\n",
            "\n",
            "5. Deglaze and simmer: Pour in the beef broth and red wine (if using), scraping the bottom of the pot to dissolve any browned bits. Add the browned meat back into the pot along with the thyme, bay leaves, Worcestershire sauce, and brown sugar. Bring to a gentle simmer.\n",
            "\n",
            "6. Cover and cook: Place the lid on the pot, leaving it slightly ajar, and simmer on low heat for about 1-1.5 hours, stirring occasionally. The stew is ready when the beef is tender and can be easily pierced with a fork.\n",
            "\n",
            "7. Add potatoes: Add the potatoes to the stew and continue cooking for another 20-30 minutes until the potatoes are tender.\n",
            "\n",
            "8. Final touches: Once the stew is cooked, remove the thyme sprigs and bay leaves. Adjust the seasoning with salt and pepper to taste. Stir in the chopped parsley just before serving.\n",
            "\n",
            "Serve this country-style beef stew in bowls with some crusty bread on the side to soak up the delicious gravy. Enjoy the comforting flavors of slow-cooked beef and vegetables!\n"
          ]
        }
      ]
    },
    {
      "cell_type": "code",
      "source": [
        " #"
      ],
      "metadata": {
        "id": "CEJxZlstLMyp"
      },
      "execution_count": 28,
      "outputs": []
    },
    {
      "cell_type": "code",
      "source": [],
      "metadata": {
        "id": "7LiNlVwyLN-B"
      },
      "execution_count": 28,
      "outputs": []
    }
  ],
  "metadata": {
    "colab": {
      "provenance": []
    },
    "kernelspec": {
      "display_name": "Python 3 (Anaconda)",
      "language": "python",
      "name": "anaconda3"
    },
    "language_info": {
      "codemirror_mode": {
        "name": "ipython",
        "version": 3
      },
      "file_extension": ".py",
      "mimetype": "text/x-python",
      "name": "python",
      "nbconvert_exporter": "python",
      "pygments_lexer": "ipython3",
      "version": "3.5.4"
    }
  },
  "nbformat": 4,
  "nbformat_minor": 0
}