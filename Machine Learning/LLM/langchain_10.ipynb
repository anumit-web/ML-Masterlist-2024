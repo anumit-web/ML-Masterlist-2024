{
  "cells": [
    {
      "cell_type": "markdown",
      "metadata": {
        "id": "view-in-github"
      },
      "source": [
        "<a href=\"https://colab.research.google.com/github/anumit-web/python-interview-2024/blob/main/machine%20learning/Unsupervised_Learning_clustering_type_iris_flower_clustering_Gaussian_mixture_model_(GMM).ipynb\" target=\"_parent\"><img src=\"https://colab.research.google.com/assets/colab-badge.svg\" alt=\"Open In Colab\"/></a>"
      ]
    },
    {
      "cell_type": "markdown",
      "metadata": {
        "id": "tomuVIUl9uY6"
      },
      "source": [
        "# Machine Learning"
      ]
    },
    {
      "cell_type": "markdown",
      "metadata": {
        "id": "H6Shee7JuzVF"
      },
      "source": [
        "# LLM"
      ]
    },
    {
      "cell_type": "markdown",
      "metadata": {
        "id": "LwzJlqIJGq8p"
      },
      "source": [
        "# Sample questions to chatgpt\n",
        "# ( Cohere actually )"
      ]
    },
    {
      "cell_type": "markdown",
      "metadata": {
        "id": "Ow1vTaKl9oHQ"
      },
      "source": [
        "# Chapter 1"
      ]
    },
    {
      "cell_type": "markdown",
      "metadata": {
        "id": "Ko4QaixAfPyF"
      },
      "source": [
        "---\n",
        "---\n",
        "---\n"
      ]
    },
    {
      "cell_type": "markdown",
      "metadata": {
        "id": "CKa4SWV84DMv"
      },
      "source": [
        "# Python Code"
      ]
    },
    {
      "cell_type": "code",
      "execution_count": 47,
      "metadata": {
        "id": "3pRBaqLz9atZ"
      },
      "outputs": [],
      "source": [
        "import numpy as np\n",
        "import pandas as pd"
      ]
    },
    {
      "cell_type": "code",
      "execution_count": 48,
      "metadata": {
        "colab": {
          "base_uri": "https://localhost:8080/"
        },
        "id": "TFXpB4wv-5-1",
        "outputId": "9828b2dd-13ca-45bc-a02e-3eead2a1bfe9"
      },
      "outputs": [
        {
          "output_type": "stream",
          "name": "stdout",
          "text": [
            "3.10.12 (main, Sep 11 2024, 15:47:36) [GCC 11.4.0]\n"
          ]
        }
      ],
      "source": [
        "import sys\n",
        "\n",
        "print(sys.version)"
      ]
    },
    {
      "cell_type": "code",
      "execution_count": 49,
      "metadata": {
        "colab": {
          "base_uri": "https://localhost:8080/"
        },
        "id": "N0djESK29att",
        "outputId": "676b549d-4bfb-4231-f832-667c160cbb08"
      },
      "outputs": [
        {
          "output_type": "stream",
          "name": "stdout",
          "text": [
            "Hello, World!\n"
          ]
        }
      ],
      "source": [
        "print(\"Hello, World!\")"
      ]
    },
    {
      "cell_type": "code",
      "execution_count": 49,
      "metadata": {
        "id": "nfFMli_AEOK2"
      },
      "outputs": [],
      "source": []
    },
    {
      "cell_type": "markdown",
      "metadata": {
        "id": "HjDoARvnvU2L"
      },
      "source": [
        "---\n",
        "---\n",
        "***"
      ]
    },
    {
      "cell_type": "markdown",
      "metadata": {
        "id": "MR391vUc7l-N"
      },
      "source": [
        "# Python code"
      ]
    },
    {
      "cell_type": "markdown",
      "metadata": {
        "id": "mkfbOedi1WHO"
      },
      "source": []
    },
    {
      "cell_type": "code",
      "execution_count": 50,
      "metadata": {
        "id": "1SZd9nC1wLm3"
      },
      "outputs": [],
      "source": [
        "try:\n",
        "  import langchain\n",
        "except:\n",
        "  !pip install langchain\n",
        "  import langchain"
      ]
    },
    {
      "cell_type": "code",
      "execution_count": 51,
      "metadata": {
        "id": "4iCA0l5hxjB8"
      },
      "outputs": [],
      "source": [
        "! pip install langchain-community langchain-core --quiet"
      ]
    },
    {
      "cell_type": "code",
      "execution_count": 52,
      "metadata": {
        "id": "0n5IXOCNxppN"
      },
      "outputs": [],
      "source": [
        "! pip install --upgrade langchain --quiet"
      ]
    },
    {
      "cell_type": "code",
      "execution_count": 53,
      "metadata": {
        "id": "AWiheCyd1Yc0"
      },
      "outputs": [],
      "source": [
        "! pip install langchain-cohere --quiet"
      ]
    },
    {
      "cell_type": "code",
      "execution_count": 54,
      "metadata": {
        "id": "A0RW7lT_UxHE"
      },
      "outputs": [],
      "source": [
        "! pip install --upgrade --quiet tiktoken langchain langgraph beautifulsoup4"
      ]
    },
    {
      "cell_type": "code",
      "execution_count": 55,
      "metadata": {
        "id": "01GEQvpTUyyp"
      },
      "outputs": [],
      "source": [
        "! pip install langchain-core langgraph>0.2.27 --quiet"
      ]
    },
    {
      "cell_type": "code",
      "execution_count": 56,
      "metadata": {
        "id": "Ck7bfWqemvdt"
      },
      "outputs": [],
      "source": [
        "! pip install langchain-huggingface --quiet"
      ]
    },
    {
      "cell_type": "markdown",
      "metadata": {
        "id": "P3vL9TN8TWuj"
      },
      "source": [
        "---\n",
        "---\n",
        "---\n"
      ]
    },
    {
      "cell_type": "code",
      "execution_count": 57,
      "metadata": {
        "id": "wEst9m_R1ZPy"
      },
      "outputs": [],
      "source": [
        "import getpass\n",
        "import os\n",
        "\n",
        "os.environ[\"COHERE_API_KEY\"] = \"Q6nIsqJ4FX9XcZwlcQLSzA06z0oXYAGBw0jmCdbE\"\n",
        "\n",
        "from langchain_cohere import ChatCohere\n",
        "\n",
        "llm_model = ChatCohere(model=\"command-r-plus\")\n",
        "\n",
        "llm_model = ChatCohere(model=\"command-r-plus-08-2024\")"
      ]
    },
    {
      "cell_type": "markdown",
      "metadata": {
        "id": "Nv_mwGwkrlIh"
      },
      "source": [
        "---\n",
        "---\n",
        "---\n"
      ]
    },
    {
      "cell_type": "markdown",
      "metadata": {
        "id": "W8hC6hmiHeIl"
      },
      "source": [
        "# Ask chatgpt some simple questions"
      ]
    },
    {
      "cell_type": "markdown",
      "metadata": {
        "id": "Ljt5T8yPjYeq"
      },
      "source": [
        "# This is NOT working ❌"
      ]
    },
    {
      "cell_type": "markdown",
      "metadata": {
        "id": "9_VXS7tTjS4Y"
      },
      "source": [
        "# This is working ✅"
      ]
    },
    {
      "cell_type": "code",
      "execution_count": 58,
      "metadata": {
        "colab": {
          "base_uri": "https://localhost:8080/",
          "height": 103
        },
        "id": "I7JxAG-Cf3A4",
        "outputId": "504d4edd-5b91-45df-b6d7-ba6ce72cdc72"
      },
      "outputs": [
        {
          "output_type": "display_data",
          "data": {
            "text/plain": [
              "<IPython.core.display.HTML object>"
            ],
            "text/html": [
              "<p style=\"color:#DE0000;font-size:60px;font-weight: 900;\">10 &nbsp; &nbsp;  &nbsp; &nbsp; &#8595;</p>"
            ]
          },
          "metadata": {}
        }
      ],
      "source": [
        "from IPython.core.display import display, HTML\n",
        "display(HTML('<p style=\"color:#DE0000;font-size:60px;font-weight: 900;\">10 &nbsp; &nbsp;  &nbsp; &nbsp; &#8595;</p>'))"
      ]
    },
    {
      "cell_type": "code",
      "execution_count": 59,
      "metadata": {
        "colab": {
          "base_uri": "https://localhost:8080/"
        },
        "id": "cOQ5VpBMf0p7",
        "outputId": "c23802c8-6e66-4e2d-cf56-9dc390c38ba7"
      },
      "outputs": [
        {
          "output_type": "execute_result",
          "data": {
            "text/plain": [
              "AIMessage(content=\"Hello Bob! It's a pleasure to meet you. How can I assist you today?\", additional_kwargs={'documents': None, 'citations': None, 'search_results': None, 'search_queries': None, 'is_search_required': None, 'generation_id': 'c3419f59-23da-4e73-8816-a337288ff1c9', 'token_count': {'input_tokens': 211.0, 'output_tokens': 18.0}}, response_metadata={'documents': None, 'citations': None, 'search_results': None, 'search_queries': None, 'is_search_required': None, 'generation_id': 'c3419f59-23da-4e73-8816-a337288ff1c9', 'token_count': {'input_tokens': 211.0, 'output_tokens': 18.0}}, id='run-c09f4859-4b0c-4f5e-b7a0-d7b3301abee0-0', usage_metadata={'input_tokens': 211, 'output_tokens': 18, 'total_tokens': 229})"
            ]
          },
          "metadata": {},
          "execution_count": 59
        }
      ],
      "source": [
        "from langchain_core.messages import HumanMessage\n",
        "\n",
        "llm_model.invoke([HumanMessage(content=\"Hi! I'm Bob\")])"
      ]
    },
    {
      "cell_type": "markdown",
      "metadata": {
        "id": "O9igLhYQrOy7"
      },
      "source": [
        "---\n",
        "---\n",
        "---"
      ]
    },
    {
      "cell_type": "code",
      "execution_count": 60,
      "metadata": {
        "colab": {
          "base_uri": "https://localhost:8080/",
          "height": 103
        },
        "id": "A48k1GtKf2fZ",
        "outputId": "9d668818-460d-4d60-a811-3970563517a3"
      },
      "outputs": [
        {
          "output_type": "display_data",
          "data": {
            "text/plain": [
              "<IPython.core.display.HTML object>"
            ],
            "text/html": [
              "<p style=\"color:#DE0000;font-size:60px;font-weight: 900;\">20 &nbsp; &nbsp;  &nbsp; &nbsp; &#8595;</p>"
            ]
          },
          "metadata": {}
        }
      ],
      "source": [
        "from IPython.core.display import display, HTML\n",
        "display(HTML('<p style=\"color:#DE0000;font-size:60px;font-weight: 900;\">20 &nbsp; &nbsp;  &nbsp; &nbsp; &#8595;</p>'))"
      ]
    },
    {
      "cell_type": "code",
      "execution_count": 61,
      "metadata": {
        "id": "_VweEJaMrNrz"
      },
      "outputs": [],
      "source": [
        "from langchain_core.messages import HumanMessage, SystemMessage\n",
        "\n",
        "messages = [\n",
        "    SystemMessage(content=\"Hello\"),\n",
        "    HumanMessage(content=\"hi!\"),\n",
        "]\n",
        "\n",
        "output = llm_model.invoke(messages)"
      ]
    },
    {
      "cell_type": "code",
      "execution_count": 62,
      "metadata": {
        "colab": {
          "base_uri": "https://localhost:8080/"
        },
        "id": "FSLssFkIIefr",
        "outputId": "5c2da15a-f0d5-41d5-fd32-7c6783b2f631"
      },
      "outputs": [
        {
          "output_type": "stream",
          "name": "stdout",
          "text": [
            "content='Hello! How can I help you today?' additional_kwargs={'documents': None, 'citations': None, 'search_results': None, 'search_queries': None, 'is_search_required': None, 'generation_id': '0a60b063-e4ce-45ac-87b6-5f18b2191c23', 'token_count': {'input_tokens': 212.0, 'output_tokens': 9.0}} response_metadata={'documents': None, 'citations': None, 'search_results': None, 'search_queries': None, 'is_search_required': None, 'generation_id': '0a60b063-e4ce-45ac-87b6-5f18b2191c23', 'token_count': {'input_tokens': 212.0, 'output_tokens': 9.0}} id='run-5b987213-46d4-448f-89fd-baa4b0046fb1-0' usage_metadata={'input_tokens': 212, 'output_tokens': 9, 'total_tokens': 221}\n"
          ]
        }
      ],
      "source": [
        "print(output)"
      ]
    },
    {
      "cell_type": "code",
      "execution_count": 63,
      "metadata": {
        "colab": {
          "base_uri": "https://localhost:8080/"
        },
        "id": "aeLkQrGOI6fu",
        "outputId": "6853e4d5-2b54-4d11-8075-e21800d707f3"
      },
      "outputs": [
        {
          "output_type": "stream",
          "name": "stdout",
          "text": [
            "Hello! How can I help you today?\n"
          ]
        }
      ],
      "source": [
        "print(output.content)"
      ]
    },
    {
      "cell_type": "markdown",
      "metadata": {
        "id": "tSOTr5G823HI"
      },
      "source": [
        "---\n",
        "---\n",
        "---\n"
      ]
    },
    {
      "cell_type": "code",
      "execution_count": 64,
      "metadata": {
        "colab": {
          "base_uri": "https://localhost:8080/",
          "height": 103
        },
        "id": "vm90Ho2Xi1qO",
        "outputId": "62ef5c54-f7da-433a-a650-aa228d22b2d9"
      },
      "outputs": [
        {
          "output_type": "display_data",
          "data": {
            "text/plain": [
              "<IPython.core.display.HTML object>"
            ],
            "text/html": [
              "<p style=\"color:#DE0000;font-size:60px;font-weight: 900;\">50 &nbsp; &nbsp;  &nbsp; &nbsp; &#8595;</p>"
            ]
          },
          "metadata": {}
        }
      ],
      "source": [
        "from IPython.core.display import display, HTML\n",
        "display(HTML('<p style=\"color:#DE0000;font-size:60px;font-weight: 900;\">50 &nbsp; &nbsp;  &nbsp; &nbsp; &#8595;</p>'))"
      ]
    },
    {
      "cell_type": "code",
      "execution_count": null,
      "metadata": {
        "id": "okYTogwqKiPB"
      },
      "outputs": [],
      "source": [
        "messages = [\n",
        "    SystemMessage(content=\"Hello\"),\n",
        "    HumanMessage(content=\"Write a minute-long script for an advertisement about selling hotdog\"),\n",
        "]\n",
        "\n",
        "output = llm_model.invoke(messages)\n",
        "\n",
        "print(output.content)"
      ]
    },
    {
      "cell_type": "markdown",
      "metadata": {
        "id": "4d9BgjVei01c"
      },
      "source": []
    },
    {
      "cell_type": "markdown",
      "metadata": {
        "id": "qbrN-0pu5L3I"
      },
      "source": [
        "---\n"
      ]
    },
    {
      "cell_type": "code",
      "execution_count": null,
      "metadata": {
        "id": "zPT3RDxMLVAU"
      },
      "outputs": [],
      "source": [
        "from IPython.core.display import display, HTML\n",
        "display(HTML('<p style=\"color:#DE0000;font-size:60px;font-weight: 900;\">60 &nbsp; &nbsp;  &nbsp; &nbsp; &#8595;</p>'))"
      ]
    },
    {
      "cell_type": "code",
      "execution_count": null,
      "metadata": {
        "id": "wtQSbOFgLZRp"
      },
      "outputs": [],
      "source": [
        "messages = [\n",
        "    SystemMessage(content=\"Hello\"),\n",
        "    HumanMessage(content=\"hi\"),\n",
        "]\n",
        "\n",
        "output = llm_model.invoke(messages)\n",
        "\n",
        "print(output.content)"
      ]
    },
    {
      "cell_type": "code",
      "execution_count": null,
      "metadata": {
        "id": "fC0vg4rdMYbN"
      },
      "outputs": [],
      "source": []
    },
    {
      "cell_type": "markdown",
      "metadata": {
        "id": "CQCtTdMfMZLv"
      },
      "source": [
        "---"
      ]
    },
    {
      "cell_type": "code",
      "execution_count": null,
      "metadata": {
        "id": "gOhd9CI3Mdd9"
      },
      "outputs": [],
      "source": [
        "from IPython.core.display import display, HTML\n",
        "display(HTML('<p style=\"color:#DE0000;font-size:60px;font-weight: 900;\">60 &nbsp; &nbsp;  &nbsp; &nbsp; &#8595;</p>'))"
      ]
    },
    {
      "cell_type": "code",
      "execution_count": null,
      "metadata": {
        "id": "-4FoAlsuMfLP"
      },
      "outputs": [],
      "source": [
        "messages = [\n",
        "    SystemMessage(content=\"Hello\"),\n",
        "    HumanMessage(content=\"I want to create an agenda for a meeting about missed deadlines with my team. Can you give me some examples of what should be included?\"),\n",
        "]\n",
        "\n",
        "output = llm_model.invoke(messages)\n",
        "\n",
        "print(output.content)"
      ]
    },
    {
      "cell_type": "code",
      "execution_count": null,
      "metadata": {
        "id": "s10saumTMf2M"
      },
      "outputs": [],
      "source": []
    },
    {
      "cell_type": "markdown",
      "metadata": {
        "id": "ZQOF9smBNOXR"
      },
      "source": [
        "---"
      ]
    },
    {
      "cell_type": "code",
      "execution_count": null,
      "metadata": {
        "id": "KWR8VsM_Mglu"
      },
      "outputs": [],
      "source": [
        "from IPython.core.display import display, HTML\n",
        "display(HTML('<p style=\"color:#DE0000;font-size:60px;font-weight: 900;\">80 &nbsp; &nbsp;  &nbsp; &nbsp; &#8595;</p>'))"
      ]
    },
    {
      "cell_type": "code",
      "execution_count": null,
      "metadata": {
        "id": "mK70vyIpMhHj"
      },
      "outputs": [],
      "source": [
        "messages = [\n",
        "    SystemMessage(content=\"Hello\"),\n",
        "    HumanMessage(content=\"What factors should I consider when quoting for a brand deal with a candle company, and what ballpark range should I charge? The scope is to post 3 videos on TikTok, and I have 100,000 followers.\"),\n",
        "]\n",
        "\n",
        "output = llm_model.invoke(messages)\n",
        "\n",
        "print(output.content)"
      ]
    },
    {
      "cell_type": "code",
      "source": [],
      "metadata": {
        "id": "FN2ifSf-XZ5C"
      },
      "execution_count": null,
      "outputs": []
    },
    {
      "cell_type": "markdown",
      "source": [
        "# Dummy"
      ],
      "metadata": {
        "id": "-W3XeagBXarh"
      }
    },
    {
      "cell_type": "code",
      "execution_count": null,
      "metadata": {
        "id": "sGZqfWcOOtHL"
      },
      "outputs": [],
      "source": [
        "messages = [\n",
        "    SystemMessage(content=\"Hello\"),\n",
        "    HumanMessage(content=\"Draft a proposal for a community project to present to your local city council. Include the project’s purpose, expected benefits, steps for implementation, and how you plan to fund it.\"),\n",
        "]\n",
        "\n",
        "output = llm_model.invoke(messages)\n",
        "\n",
        "print(output.content)"
      ]
    },
    {
      "cell_type": "code",
      "execution_count": 73,
      "metadata": {
        "colab": {
          "base_uri": "https://localhost:8080/"
        },
        "id": "xMUQ9volPU5q",
        "outputId": "1301ef42-496c-436f-8c57-5c5f4d0484bc"
      },
      "outputs": [
        {
          "metadata": {
            "tags": null
          },
          "name": "stdout",
          "output_type": "stream",
          "text": [
            "Implementing a sticky header is a common way to ensure that your website's navigation or header remains visible as the user scrolls down the page. Here's an example of how you can achieve this using CSS and JavaScript:\n",
            "\n",
            "**CSS:**\n",
            "\n",
            "First, you'll need to style your header using CSS. You can use the `position` property with the value `sticky` to make the header stick to the top of the page when the user scrolls. Here's a basic CSS example:\n",
            "\n",
            "```css\n",
            ".sticky-header {\n",
            "    position: sticky;\n",
            "    top: 0;\n",
            "    background-color: #333;\n",
            "    color: #fff;\n",
            "    padding: 10px;\n",
            "}\n",
            "```\n",
            "\n",
            "In this example:\n",
            "- `.sticky-header` is the class you'll apply to the header element in your HTML.\n",
            "- `position: sticky;` is the key property that makes the element stick to its container when scrolled.\n",
            "- `top: 0;` specifies that the header should stick to the top of the page.\n",
            "- Additional styling like background color, text color, and padding is applied to make the header visually appealing.\n",
            "\n",
            "**HTML:**\n",
            "\n",
            "In your HTML file, create the header element and apply the class you defined in the CSS:\n",
            "\n",
            "```html\n",
            "<header class=\"sticky-header\">\n",
            "    <nav>\n",
            "        <!-- Your navigation links here -->\n",
            "    </nav>\n",
            "</header>\n",
            "```\n",
            "\n",
            "**JavaScript (Optional):**\n",
            "\n",
            "In some cases, you might need to use JavaScript to enhance the sticky header functionality, especially for handling browser compatibility or more complex interactions. Here's a simple example:\n",
            "\n",
            "```javascript\n",
            "window.addEventListener('scroll', function() {\n",
            "    const header = document.querySelector('.sticky-header');\n",
            "    const scrollPosition = window.scrollY;\n",
            "\n",
            "    if (scrollPosition > 0) {\n",
            "        header.classList.add('sticky');\n",
            "    } else {\n",
            "        header.classList.remove('sticky');\n",
            "    }\n",
            "});\n",
            "```\n",
            "\n",
            "In this JavaScript code:\n",
            "- We add an event listener to the window's scroll event.\n",
            "- The `querySelector` method is used to select the header element with the class `sticky-header`.\n",
            "- We check the `scrollY` position of the window. If it's greater than 0 (meaning the user has scrolled down), we add a class `sticky` to the header, which can be used for additional styling or effects.\n",
            "\n",
            "Remember to include the CSS and JavaScript files in your HTML, or you can inline the styles and scripts if preferred. This example provides a basic structure for creating a sticky header, and you can customize it further based on your website's design and requirements.\n"
          ]
        }
      ],
      "source": [
        "messages = [\n",
        "    SystemMessage(content=\"Hello\"),\n",
        "    HumanMessage(content=\"I want to implement a sticky header on my website. Can you provide an example of how to do that using CSS and JavaScript?\"),\n",
        "]\n",
        "\n",
        "output = llm_model.invoke(messages)\n",
        "\n",
        "print(output.content)"
      ]
    },
    {
      "cell_type": "code",
      "execution_count": 74,
      "metadata": {
        "id": "NFNrKX4oPWnm",
        "colab": {
          "base_uri": "https://localhost:8080/"
        },
        "outputId": "7171a300-c1fe-48f3-cc6c-3cf2828297f4"
      },
      "outputs": [
        {
          "metadata": {
            "tags": null
          },
          "name": "stdout",
          "output_type": "stream",
          "text": [
            "Probability is a fundamental concept in mathematics that deals with the likelihood of events occurring. It provides a framework for quantifying uncertainty and making predictions about random phenomena. Here's a basic introduction to help you understand probability:\n",
            "\n",
            "1. **Definition of Probability:** Probability is a numerical value between 0 and 1 (or can be expressed as a percentage between 0% and 100%) that represents the chance or likelihood of a particular event happening.\n",
            "\n",
            "   - A probability of 0 means the event is impossible, and it will never occur.\n",
            "   - A probability of 1 means the event is certain to happen.\n",
            "   - A probability between 0 and 1 indicates the degree of likelihood, with values closer to 1 being more likely and values closer to 0 being less likely.\n",
            "\n",
            "2. **Events and Sample Space:**\n",
            "   - **Event:** An event is an outcome or a set of outcomes of interest in a random experiment. For example, when tossing a coin, the event could be observing a \"head.\"\n",
            "   - **Sample Space:** The sample space is the set of all possible outcomes of an experiment. For the coin toss, the sample space is {heads, tails}.\n",
            "\n",
            "3. **Types of Probability:**\n",
            "   - **Theoretical Probability:** This is calculated using the concept of equally likely outcomes. It is the ratio of the number of favorable outcomes to the total number of possible outcomes. For example, the theoretical probability of getting a head when tossing a fair coin is 1/2 (or 50%).\n",
            "   - **Experimental or Empirical Probability:** This is based on observations and experiments. You calculate it by dividing the number of times an event occurs by the total number of trials. For instance, if you toss a coin 100 times and get 60 heads, the experimental probability is 60/100 = 0.6 (or 60%).\n",
            "\n",
            "4. **Complementary Events:** The probability of an event not occurring is known as the complementary probability. If the probability of event A is P(A), then the probability of its complement (not A) is 1 - P(A).\n",
            "\n",
            "5. **Independent and Dependent Events:**\n",
            "   - **Independent Events:** Two events are independent if the occurrence of one does not affect the probability of the other. For example, the outcomes of two separate coin tosses are independent.\n",
            "   - **Dependent Events:** Dependent events are those where the outcome of one event does influence the probability of another event. For instance, drawing cards from a deck without replacement is a dependent event.\n",
            "\n",
            "6. **Probability Rules:**\n",
            "   - **Addition Rule:** The probability of the union of two events A and B (A or B occurring) is P(A) + P(B) - P(A and B).\n",
            "   - **Multiplication Rule (for independent events):** The probability of both events A and B occurring is P(A) * P(B).\n",
            "\n",
            "7. **Conditional Probability:** This is the probability of one event occurring given that another event has already occurred. It is denoted as P(A|B), which reads as \"the probability of A given B.\"\n",
            "\n",
            "Probability theory is a vast subject with many applications in various fields, including statistics, gambling, weather forecasting, finance, and quality control. Understanding probability helps in making informed decisions, assessing risks, and predicting outcomes in uncertain situations.\n",
            "\n",
            "Feel free to ask more specific questions or provide scenarios related to probability, and I'll be happy to assist you further in enhancing your understanding of this concept.\n"
          ]
        }
      ],
      "source": [
        "messages = [\n",
        "    SystemMessage(content=\"Hello\"),\n",
        "    HumanMessage(content=\"I need help understanding how probability works.\"),\n",
        "]\n",
        "\n",
        "output = llm_model.invoke(messages)\n",
        "\n",
        "print(output.content)"
      ]
    },
    {
      "cell_type": "code",
      "execution_count": 75,
      "metadata": {
        "id": "iMfN2whbPW1Y",
        "colab": {
          "base_uri": "https://localhost:8080/"
        },
        "outputId": "988452fb-c011-43c1-8201-22fbee24ed65"
      },
      "outputs": [
        {
          "output_type": "stream",
          "name": "stdout",
          "text": [
            "Sure, here are five types of data that teachers can collect to monitor student learning and progress:\n",
            "\n",
            "1. Formative Assessments: These are ongoing assessments that provide feedback on student understanding during the learning process. Examples include quizzes, class discussions, exit tickets, or short assignments. Teachers can use these to identify misconceptions, adjust teaching strategies, and offer immediate feedback to students, allowing for prompt intervention and improvement. \n",
            "\n",
            "2. Summative Assessments: These are more formal evaluations that measure student learning at the end of a particular unit or term. They can include mid-term exams, final projects, research papers, or standardized tests. Summative assessments provide a comprehensive overview of student progress and help teachers determine the effectiveness of their instruction over a longer period. \n",
            "\n",
            "3. Student Portfolios: Portfolios are collections of student work that demonstrate their learning and progress over time. Teachers can ask students to compile samples of their best work, reflections on their learning journey, and evidence of growth in specific areas. Portfolios provide a holistic view of a student's abilities and can showcase their creativity, critical thinking, and problem-solving skills. \n",
            "\n",
            "4. Peer and Self-Evaluations: Encouraging students to evaluate their own work and that of their peers can provide valuable insights. Teachers can use peer review sessions, self-reflection journals, or group assessment activities to gather data on student performance. This promotes student engagement, fosters a sense of ownership over their learning, and helps teachers identify areas where students may require additional support or extension activities. \n",
            "\n",
            "5. Classroom Observations: Teachers can collect data through regular classroom observations, noting student participation, engagement, and behavior. This can include tracking attendance patterns, monitoring group work dynamics, or using checklists to record individual student contributions. Classroom observations provide qualitative data on student motivation, social skills, and overall learning environment, which can be crucial for informing instructional decisions. \n",
            "\n",
            "By utilizing these data collection methods, teachers can gain a comprehensive understanding of student learning, identify areas of strength and weakness, and tailor their instructional strategies to meet the diverse needs of their students.\n"
          ]
        }
      ],
      "source": [
        "messages = [\n",
        "    SystemMessage(content=\"Hello\"),\n",
        "    HumanMessage(content=\"Create a list of 5 types of data that teachers can collect to monitor student learning and progress.\"),\n",
        "]\n",
        "\n",
        "output = llm_model.invoke(messages)\n",
        "\n",
        "print(output.content)"
      ]
    },
    {
      "cell_type": "markdown",
      "source": [
        "# Dummy"
      ],
      "metadata": {
        "id": "NwkKoFH7W5eN"
      }
    },
    {
      "cell_type": "code",
      "execution_count": null,
      "metadata": {
        "id": "PfW8pICMPXAt"
      },
      "outputs": [],
      "source": [
        "messages = [\n",
        "    SystemMessage(content=\"Hello\"),\n",
        "    HumanMessage(content=\"Write the lyrics to a song titled 'California Dreamin' by the mamas and the papas\"),\n",
        "]\n",
        "\n",
        "output = llm_model.invoke(messages)\n",
        "\n",
        "print(output.content)"
      ]
    },
    {
      "cell_type": "code",
      "execution_count": 77,
      "metadata": {
        "id": "XVLx9Mj6PXfV",
        "colab": {
          "base_uri": "https://localhost:8080/"
        },
        "outputId": "2f86283c-22dc-4e33-d3c4-bee3a5ec0a81"
      },
      "outputs": [
        {
          "output_type": "stream",
          "name": "stdout",
          "text": [
            "Verse 1:\n",
            "In the morning light, a familiar sight\n",
            "A feathered friend, so graceful and bright\n",
            "Singing sweetly, on my garden tree\n",
            "Oh, little bird, you bring joy to me\n",
            "\n",
            "Chorus:\n",
            "Daily visitor, with a melody so pure\n",
            "Your presence is a treasure, I adore\n",
            "Flying freely, in the sky so blue\n",
            "Each day I wait, just to catch a glimpse of you\n",
            "\n",
            "Verse 2:\n",
            "With a vibrant hue, your wings shine through\n",
            "Chirping merrily, a delightful tune\n",
            "You search for seeds, among the flowers' bloom\n",
            "My peaceful haven, you make it come alive, in full bloom\n",
            "\n",
            "Bridge:\n",
            "I find solace, in your gentle ways\n",
            "A daily ritual, I eagerly await your stay\n",
            "\n",
            "Chorus:\n",
            "Little bird, with a melody so pure\n",
            "Your visits are precious, a moment to endure\n",
            "Nature's gift, in my garden's view\n",
            "I'm forever grateful, for a friend like you\n",
            "\n",
            "Outro:\n",
            "So keep returning, my dear feathered friend\n",
            "Together, let's create memories without end.\n"
          ]
        }
      ],
      "source": [
        "messages = [\n",
        "    SystemMessage(content=\"Hello\"),\n",
        "    HumanMessage(content=\"Make a song about a bird which comes to your garden every day\"),\n",
        "]\n",
        "\n",
        "output = llm_model.invoke(messages)\n",
        "\n",
        "print(output.content)"
      ]
    },
    {
      "cell_type": "code",
      "execution_count": null,
      "metadata": {
        "id": "obyMh2HSPX54"
      },
      "outputs": [],
      "source": [
        "messages = [\n",
        "    SystemMessage(content=\"Hello\"),\n",
        "    HumanMessage(content=\"Tell me a joke about japanese culture\"),\n",
        "]\n",
        "\n",
        "output = llm_model.invoke(messages)\n",
        "\n",
        "print(output.content)"
      ]
    },
    {
      "cell_type": "code",
      "execution_count": 79,
      "metadata": {
        "colab": {
          "base_uri": "https://localhost:8080/"
        },
        "id": "LxyBQrEBPYTS",
        "outputId": "fa27d955-4ea6-4345-dbdf-ce9dec048063"
      },
      "outputs": [
        {
          "output_type": "stream",
          "name": "stdout",
          "text": [
            "# Twilight: The Vampire's Cooking Disaster\n",
            "\n",
            "It was a dark and stormy night in Forks, Washington, as Edward Cullen, the brooding vampire with sparkling skin, faced a challenge greater than any battle with werewolves—cooking a romantic dinner for his beloved Bella Swan.\n",
            "\n",
            "Edward, with his pale, flawless face, entered the kitchen with determination in his golden eyes. He had decided to surprise Bella with his culinary skills, a hidden talent he had yet to reveal. But little did he know, the stove would become his mortal (well, immortal) enemy.\n",
            "\n",
            "As he whipped out a garlic press with lightning speed, intending to prepare a delicious garlic-infused olive oil for Bella's pasta, he suddenly realized his fatal mistake. Garlic, the kryptonite of vampires! The kitchen filled with the pungent scent, and Edward's perfect nose couldn't handle the assault. He sneezed, a powerful sneeze that sent the garlic press flying across the room, narrowly missing the crystal vase on the counter.\n",
            "\n",
            "\"Gesundheit!\" came a voice from behind him. Bella, with her brown tousled hair and mesmerizing scent, stood in the doorway, witnessing the chaos. \"My love, are you trying to ward off evil spirits with garlic, or cook dinner?\" she asked, her eyes sparkling with amusement.\n",
            "\n",
            "Edward pouted, his perfect lips forming an adorable frown. \"I merely wanted to create a gourmet meal for my beloved. But it seems the culinary arts are not my forte.\" He dramatically placed his hand on his chest, forgetting for a moment that he didn't have a heartbeat.\n",
            "\n",
            "Bella giggled, her laughter like music to Edward's ears. \"My dear Edward, your talents lie in other areas, like sparkling in the sunlight and running through the forest with unnatural speed. Leave the cooking to the mortals, or should I say, me. I'll whip up some pasta that will make you forget all about this garlicky mishap.\"\n",
            "\n",
            "As Bella took charge of the kitchen, Edward sat pouting at the table, sulking like a vampire child. He decided to make use of his supernatural abilities and attempted to read Bella's mind for the thousandth time, only to find her thoughts focused on the delicious sauce she was preparing. Her mind, usually a fortress to him, was now occupied by garlic and basil.\n",
            "\n",
            "Just then, their vampire family member, Alice, bounced into the room, her pixie-like appearance belying her true nature. \"What's all the commotion? Oh, Edward, cooking again? Last time you set the microwave on fire!\" She burst into peals of tinkling laughter, joining Bella by the stove.\n",
            "\n",
            "Edward grumbled under his breath, his vampire pride slightly bruised. \"I shall stick to hunting and playing the piano. Perhaps I can serenade Bella with a sonata while she cooks.\"\n",
            "\n",
            "As the rain outside created a soothing backdrop, Bella and Alice's laughter filled the Cullen household, mingling with the aroma of garlic, finally appreciated by those with a beating heart.\n",
            "\n",
            "To be continued...\n",
            "\n",
            "In this hilarious twist on the Twilight saga, Edward's attempt at romance takes an unexpected turn, leaving Bella and the rest of the Cullen family in stitches. Will Edward ever master the art of cooking? Stay tuned for more vampire-themed culinary adventures!\n"
          ]
        }
      ],
      "source": [
        "messages = [\n",
        "    SystemMessage(content=\"Hello\"),\n",
        "    HumanMessage(content=\"Write hilarious fan fiction about the Twilight saga.\"),\n",
        "]\n",
        "\n",
        "output = llm_model.invoke(messages)\n",
        "\n",
        "print(output.content)"
      ]
    },
    {
      "cell_type": "code",
      "execution_count": null,
      "metadata": {
        "id": "Ax4U-pLiPYoH"
      },
      "outputs": [],
      "source": [
        "messages = [\n",
        "    SystemMessage(content=\"Hello\"),\n",
        "    HumanMessage(content=\"Write a pun-filled happy birthday message to my friend Alex.\"),\n",
        "]\n",
        "\n",
        "output = llm_model.invoke(messages)\n",
        "\n",
        "print(output.content)"
      ]
    },
    {
      "cell_type": "code",
      "execution_count": null,
      "metadata": {
        "id": "kFzGbuPVRsAT"
      },
      "outputs": [],
      "source": [
        "messages = [\n",
        "    SystemMessage(content=\"Hello\"),\n",
        "    HumanMessage(content=\"Describe six effective yoga poses or stretches for back and neck pain\"),\n",
        "]\n",
        "\n",
        "output = llm_model.invoke(messages)\n",
        "\n",
        "print(output.content)"
      ]
    },
    {
      "cell_type": "code",
      "execution_count": 82,
      "metadata": {
        "colab": {
          "base_uri": "https://localhost:8080/"
        },
        "id": "nLx9RxM3Rudw",
        "outputId": "56d1e1f7-9bbc-4a06-dc7d-94d04ef8789f"
      },
      "outputs": [
        {
          "output_type": "stream",
          "name": "stdout",
          "text": [
            "Absolutely! I'd be delighted to assist you in planning a week's worth of dinners for two adults. Let's create a varied and delicious menu for the upcoming week:\n",
            "\n",
            "**Monday:**\n",
            "- Baked Salmon with Lemon and Dill: Serve individual salmon fillets seasoned with lemon zest, fresh dill, salt, and pepper. Accompany it with roasted asparagus and a side of quinoa salad.\n",
            "\n",
            "**Tuesday:**\n",
            "- Veggie-Loaded Pasta: Cook your favorite pasta and toss it with a colorful mix of sautéed vegetables like bell peppers, zucchini, mushrooms, and onions. Add some garlic, olive oil, and a sprinkle of Parmesan cheese. Serve with a side of garlic bread.\n",
            "\n",
            "**Wednesday:**\n",
            "- Chicken Stir-Fry: Slice chicken breasts into strips and stir-fry them with an assortment of vegetables (carrots, broccoli, snap peas, and bean sprouts). Use a teriyaki or soy-ginger sauce and serve over steamed rice.\n",
            "\n",
            "**Thursday:**\n",
            "- Taco Night: Set up a taco bar with seasoned ground beef or turkey, soft flour tortillas, lettuce, diced tomatoes, shredded cheese, salsa, guacamole, and sour cream. You can also offer some roasted corn and black beans as sides.\n",
            "\n",
            "**Friday:**\n",
            "- Pizza Night: Make your own pizza dough or use store-bought pizza bases. Let each person customize their pizza with preferred toppings. Some ideas include classic Margherita, pepperoni, BBQ chicken, or vegetarian with mushrooms and peppers.\n",
            "\n",
            "**Saturday:**\n",
            "- Grilled Steak with Roasted Potatoes and Salad: Grill ribeye or sirloin steaks to your desired doneness. Serve with a side of roasted potatoes and a fresh green salad with a vinaigrette dressing.\n",
            "\n",
            "**Sunday:**\n",
            "- Veggie Curry with Rice: Prepare a flavorful vegetable curry with potatoes, carrots, cauliflower, peas, and chickpeas in a coconut milk-based curry sauce. Serve it with steamed basmati rice and some naan bread.\n",
            "\n",
            "Don't forget to consider leftovers when planning your grocery shopping. You can also adjust the portions or ingredients to suit your taste preferences and dietary needs. Feel free to ask for specific recipes or additional meal ideas if you'd like more suggestions!\n"
          ]
        }
      ],
      "source": [
        "messages = [\n",
        "    SystemMessage(content=\"Hello\"),\n",
        "    HumanMessage(content=\"Can you help me plan a week’s worth of dinner for two adults\"),\n",
        "]\n",
        "\n",
        "output = llm_model.invoke(messages)\n",
        "\n",
        "print(output.content)"
      ]
    },
    {
      "cell_type": "code",
      "execution_count": null,
      "metadata": {
        "id": "ApYui5eeRvNu"
      },
      "outputs": [],
      "source": [
        "messages = [\n",
        "    SystemMessage(content=\"Hello\"),\n",
        "    HumanMessage(content=\"hi\"),\n",
        "]\n",
        "\n",
        "output = llm_model.invoke(messages)\n",
        "\n",
        "print(output.content)"
      ]
    },
    {
      "cell_type": "markdown",
      "source": [
        "# Email Campaigns"
      ],
      "metadata": {
        "id": "HXcvOdhqWGPC"
      }
    },
    {
      "cell_type": "code",
      "execution_count": null,
      "metadata": {
        "id": "UFN8n_5jRvw9"
      },
      "outputs": [],
      "source": [
        "messages = [\n",
        "    SystemMessage(content=\"Hello\"),\n",
        "    HumanMessage(content=\"Give me 10 subject lines for my brazil travel newsletter\"),\n",
        "]\n",
        "\n",
        "output = llm_model.invoke(messages)\n",
        "\n",
        "print(output.content)"
      ]
    },
    {
      "cell_type": "code",
      "execution_count": null,
      "metadata": {
        "id": "ough_NhNRwVV"
      },
      "outputs": [],
      "source": [
        "messages = [\n",
        "    SystemMessage(content=\"Hello\"),\n",
        "    HumanMessage(content=\"Translate this email into French please. Keep the tone friendly and write it like a native. 'Dear customer, welcome to weekly brazil travel newsletter. simcerely, your travel friends.\"),\n",
        "]\n",
        "\n",
        "output = llm_model.invoke(messages)\n",
        "\n",
        "print(output.content)"
      ]
    },
    {
      "cell_type": "markdown",
      "source": [
        "# UX"
      ],
      "metadata": {
        "id": "xITG3Ev0wuIU"
      }
    },
    {
      "cell_type": "code",
      "execution_count": null,
      "metadata": {
        "id": "zyvVjOkzRw42"
      },
      "outputs": [],
      "source": [
        "messages = [\n",
        "    SystemMessage(content=\"Hello\"),\n",
        "    HumanMessage(content=\"Generate examples of UI design requirements for a mobile app for meditation\"),\n",
        "]\n",
        "\n",
        "output = llm_model.invoke(messages)\n",
        "\n",
        "print(output.content)"
      ]
    },
    {
      "cell_type": "code",
      "execution_count": 87,
      "metadata": {
        "colab": {
          "base_uri": "https://localhost:8080/"
        },
        "id": "UaMdYt-jRxbj",
        "outputId": "d0e7e31d-3d65-440a-f4b4-c47c670dd5f8"
      },
      "outputs": [
        {
          "output_type": "stream",
          "name": "stdout",
          "text": [
            "Designing a law firm website that inspires trust and showcases authority is crucial for effectively attracting and retaining clients in the legal industry. Here are some key strategies and elements to consider when creating such a website:\n",
            "\n",
            "1. Professional Visual Design:\n",
            "\n",
            "   - Choose a Clean and Minimalist Layout: Opt for a simple and uncluttered website design. A clean layout helps users focus on the content and improves readability. Use ample white space to separate sections and enhance visual appeal.\n",
            "\n",
            "   - Color Scheme: Select a color palette that evokes a sense of professionalism and trust. Traditional colors like navy blue, dark green, or deep shades of grey are often associated with the legal field. You can use these colors for headings, accents, or background to create a sophisticated atmosphere.\n",
            "\n",
            "   - High-Quality Images: Use professional, high-resolution images that represent the legal profession. Avoid generic stock photos and consider hiring a photographer to capture authentic images of your law firm, attorneys, and office spaces. Real photos can add credibility to your website.\n",
            "\n",
            "2. Branding and Logo:\n",
            "\n",
            "   - Consistent Branding: Develop a strong law firm brand that reflects your values and expertise. Ensure your logo, color scheme, and typography are consistent across all pages of the website and marketing materials. Consistent branding builds recognition and trust.\n",
            "\n",
            "   - Professional Logo: Design a logo that is simple, memorable, and conveys the nature of your legal practice. Avoid overly complex designs and consider using legal-themed icons or symbols.\n",
            "\n",
            "3. Homepage Impact:\n",
            "\n",
            "   - Clear Headline: Start with a powerful headline that summarizes your law firm's mission or unique value proposition. For example, \"Experienced Attorneys, Dedicated to Justice.\"\n",
            "\n",
            "   - Introduction or About Section: Provide a brief overview of your law firm, highlighting its history, core practice areas, and commitment to clients.\n",
            "\n",
            "   - Attorney Profiles: Feature profiles of your key attorneys with professional photos and biographies. This adds a human touch and showcases the expertise of your legal team.\n",
            "\n",
            "4. Content and Copywriting:\n",
            "\n",
            "   - High-Quality Content: Create informative, well-written content that educates visitors about legal topics relevant to your practice areas. Provide insights, legal news, and helpful resources to establish your firm as an authority in the field.\n",
            "\n",
            "   - Testimonials and Client Reviews: Include testimonials from satisfied clients (with their permission) to build trust and credibility. Real-life success stories can significantly impact potential clients' decision-making.\n",
            "\n",
            "   - Blog or Articles Section: Regularly publish blog posts or articles covering legal developments, case studies, and practical advice. This not only attracts organic traffic but also positions your firm as a thought leader.\n",
            "\n",
            "5. Trust Signals:\n",
            "\n",
            "   - Awards and Accreditations: Display any awards, certifications, or professional affiliations your law firm has earned. These credentials reinforce your authority and expertise.\n",
            "\n",
            "   - Client List (if applicable): If your firm has worked with well-known clients or high-profile cases, consider showcasing this (with client consent) to build trust.\n",
            "\n",
            "   - Contact Information: Make it easy for potential clients to reach you. Display your office address, phone number, and email prominently on the website.\n",
            "\n",
            "6. Responsive and User-Friendly Design:\n",
            "\n",
            "   - Ensure your website is mobile-friendly and responsive across different devices. Most users access websites on their smartphones, so a mobile-optimized design is essential.\n",
            "\n",
            "   - Easy Navigation: Implement a clear and intuitive navigation menu, allowing visitors to find information quickly. Organize your practice areas and services into logical categories.\n",
            "\n",
            "7. Security and Privacy:\n",
            "\n",
            "   - Use SSL (Secure Sockets Layer) encryption to secure your website and protect client data. This is especially important for contact forms and any sensitive information exchange.\n",
            "\n",
            "   - Privacy Policy and Terms of Use: Have a well-drafted privacy policy and terms of use page to demonstrate your firm's commitment to client confidentiality and legal compliance.\n",
            "\n",
            "8. Social Proof:\n",
            "\n",
            "   - Social Media Integration: Link to your law firm's social media profiles (e.g., LinkedIn, Twitter) to showcase your online presence and engagement. Regularly update these platforms with relevant legal content.\n",
            "\n",
            "   - Media Mentions: If your attorneys have been quoted or featured in legal publications or news outlets, highlight these mentions on your website.\n",
            "\n",
            "9. Client-Centric Approach:\n",
            "\n",
            "   - Focus on how your law firm can solve clients' legal problems. Use language that resonates with your target audience and addresses their concerns.\n",
            "\n",
            "   - Call-to-Action (CTA): Include clear CTAs on relevant pages, such as \"Schedule a Consultation,\" \"Contact Us,\" or \"Learn More.\" Encourage visitors to take the next step in engaging your services.\n",
            "\n",
            "10. Regular Updates and Maintenance:\n",
            "\n",
            "    - Keep your website up-to-date with fresh content and design trends. Regularly review and update attorney profiles, practice area descriptions, and legal resources to maintain accuracy and relevance.\n",
            "\n",
            "Remember, building trust and conveying authority on your law firm's website is a combination of professional design, compelling content, and a user-friendly experience. It's advisable to work with experienced web designers and legal marketing professionals who understand the unique requirements of the legal industry. By implementing these strategies, you can create a website that effectively attracts and engages potential clients.\n"
          ]
        }
      ],
      "source": [
        "messages = [\n",
        "    SystemMessage(content=\"Hello\"),\n",
        "    HumanMessage(content=\"How can I design a law firm website in a way that conveys trust and authority\"),\n",
        "]\n",
        "\n",
        "output = llm_model.invoke(messages)\n",
        "\n",
        "print(output.content)"
      ]
    },
    {
      "cell_type": "markdown",
      "source": [
        "# Travel and Tourism"
      ],
      "metadata": {
        "id": "UdxO5k8v8JHr"
      }
    },
    {
      "cell_type": "code",
      "execution_count": null,
      "metadata": {
        "id": "0NvfnFZARx_l"
      },
      "outputs": [],
      "source": [
        "messages = [\n",
        "    SystemMessage(content=\"Hello\"),\n",
        "    HumanMessage(content=\"Plan a $1500 5-day trip in Paris. Give me the itinerary\"),\n",
        "]\n",
        "\n",
        "output = llm_model.invoke(messages)\n",
        "\n",
        "print(output.content)"
      ]
    },
    {
      "cell_type": "code",
      "execution_count": null,
      "metadata": {
        "id": "0HYhaJ-FRyme"
      },
      "outputs": [],
      "source": [
        "messages = [\n",
        "    SystemMessage(content=\"Hello\"),\n",
        "    HumanMessage(content=\"I want to plan a three-week backpacking trip through Europe. I have a student’s budget, and I love finding local street food and open markets. Can you suggest an itinerary for me?\"),\n",
        "]\n",
        "\n",
        "output = llm_model.invoke(messages)\n",
        "\n",
        "print(output.content)"
      ]
    },
    {
      "cell_type": "code",
      "execution_count": null,
      "metadata": {
        "id": "t_cUAKDRRzN3"
      },
      "outputs": [],
      "source": [
        "messages = [\n",
        "    SystemMessage(content=\"Hello\"),\n",
        "    HumanMessage(content=\"hi\"),\n",
        "]\n",
        "\n",
        "output = llm_model.invoke(messages)\n",
        "\n",
        "print(output.content)"
      ]
    },
    {
      "cell_type": "code",
      "execution_count": null,
      "metadata": {
        "id": "xQkFu-_IRzt4"
      },
      "outputs": [],
      "source": []
    },
    {
      "cell_type": "code",
      "execution_count": null,
      "metadata": {
        "id": "rTgqP9yRR0ME"
      },
      "outputs": [],
      "source": []
    },
    {
      "cell_type": "code",
      "execution_count": null,
      "metadata": {
        "id": "TBdHEsuZR0zE"
      },
      "outputs": [],
      "source": []
    },
    {
      "cell_type": "code",
      "execution_count": 90,
      "metadata": {
        "id": "6K0uLYYJR1dm"
      },
      "outputs": [],
      "source": []
    },
    {
      "cell_type": "code",
      "execution_count": 90,
      "metadata": {
        "id": "k64Wtm3hR2Kt"
      },
      "outputs": [],
      "source": []
    }
  ],
  "metadata": {
    "colab": {
      "provenance": []
    },
    "kernelspec": {
      "display_name": "Python 3 (Anaconda)",
      "language": "python",
      "name": "anaconda3"
    },
    "language_info": {
      "codemirror_mode": {
        "name": "ipython",
        "version": 3
      },
      "file_extension": ".py",
      "mimetype": "text/x-python",
      "name": "python",
      "nbconvert_exporter": "python",
      "pygments_lexer": "ipython3",
      "version": "3.5.4"
    }
  },
  "nbformat": 4,
  "nbformat_minor": 0
}