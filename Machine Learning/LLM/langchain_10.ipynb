{
  "cells": [
    {
      "cell_type": "markdown",
      "metadata": {
        "id": "view-in-github"
      },
      "source": [
        "<a href=\"https://colab.research.google.com/github/anumit-web/python-interview-2024/blob/main/machine%20learning/Unsupervised_Learning_clustering_type_iris_flower_clustering_Gaussian_mixture_model_(GMM).ipynb\" target=\"_parent\"><img src=\"https://colab.research.google.com/assets/colab-badge.svg\" alt=\"Open In Colab\"/></a>"
      ]
    },
    {
      "cell_type": "markdown",
      "metadata": {
        "id": "tomuVIUl9uY6"
      },
      "source": [
        "# Machine Learning"
      ]
    },
    {
      "cell_type": "markdown",
      "metadata": {
        "id": "H6Shee7JuzVF"
      },
      "source": [
        "# LLM"
      ]
    },
    {
      "cell_type": "markdown",
      "metadata": {
        "id": "LwzJlqIJGq8p"
      },
      "source": [
        "# Sample questions to chatgpt\n",
        "# ( Cohere actually )"
      ]
    },
    {
      "cell_type": "markdown",
      "metadata": {
        "id": "Ow1vTaKl9oHQ"
      },
      "source": [
        "# Chapter 1"
      ]
    },
    {
      "cell_type": "markdown",
      "metadata": {
        "id": "Ko4QaixAfPyF"
      },
      "source": [
        "---\n",
        "---\n",
        "---\n"
      ]
    },
    {
      "cell_type": "markdown",
      "metadata": {
        "id": "CKa4SWV84DMv"
      },
      "source": [
        "# Python Code"
      ]
    },
    {
      "cell_type": "code",
      "execution_count": 91,
      "metadata": {
        "id": "3pRBaqLz9atZ"
      },
      "outputs": [],
      "source": [
        "import numpy as np\n",
        "import pandas as pd"
      ]
    },
    {
      "cell_type": "code",
      "execution_count": 92,
      "metadata": {
        "colab": {
          "base_uri": "https://localhost:8080/"
        },
        "id": "TFXpB4wv-5-1",
        "outputId": "5baa18fa-a167-48c2-dad0-4d71448ca452"
      },
      "outputs": [
        {
          "output_type": "stream",
          "name": "stdout",
          "text": [
            "3.10.12 (main, Sep 11 2024, 15:47:36) [GCC 11.4.0]\n"
          ]
        }
      ],
      "source": [
        "import sys\n",
        "\n",
        "print(sys.version)"
      ]
    },
    {
      "cell_type": "code",
      "execution_count": 93,
      "metadata": {
        "colab": {
          "base_uri": "https://localhost:8080/"
        },
        "id": "N0djESK29att",
        "outputId": "a014a765-26d6-4372-da4e-eecce9e6f5e9"
      },
      "outputs": [
        {
          "output_type": "stream",
          "name": "stdout",
          "text": [
            "Hello, World!\n"
          ]
        }
      ],
      "source": [
        "print(\"Hello, World!\")"
      ]
    },
    {
      "cell_type": "code",
      "execution_count": 93,
      "metadata": {
        "id": "nfFMli_AEOK2"
      },
      "outputs": [],
      "source": []
    },
    {
      "cell_type": "markdown",
      "metadata": {
        "id": "HjDoARvnvU2L"
      },
      "source": [
        "---\n",
        "---\n",
        "***"
      ]
    },
    {
      "cell_type": "markdown",
      "metadata": {
        "id": "MR391vUc7l-N"
      },
      "source": [
        "# Python code"
      ]
    },
    {
      "cell_type": "markdown",
      "metadata": {
        "id": "mkfbOedi1WHO"
      },
      "source": []
    },
    {
      "cell_type": "code",
      "execution_count": 94,
      "metadata": {
        "id": "1SZd9nC1wLm3"
      },
      "outputs": [],
      "source": [
        "try:\n",
        "  import langchain\n",
        "except:\n",
        "  !pip install langchain\n",
        "  import langchain"
      ]
    },
    {
      "cell_type": "code",
      "execution_count": 95,
      "metadata": {
        "id": "4iCA0l5hxjB8"
      },
      "outputs": [],
      "source": [
        "! pip install langchain-community langchain-core --quiet"
      ]
    },
    {
      "cell_type": "code",
      "execution_count": 96,
      "metadata": {
        "id": "0n5IXOCNxppN"
      },
      "outputs": [],
      "source": [
        "! pip install --upgrade langchain --quiet"
      ]
    },
    {
      "cell_type": "code",
      "execution_count": 97,
      "metadata": {
        "id": "AWiheCyd1Yc0"
      },
      "outputs": [],
      "source": [
        "! pip install langchain-cohere --quiet"
      ]
    },
    {
      "cell_type": "code",
      "execution_count": 98,
      "metadata": {
        "id": "A0RW7lT_UxHE"
      },
      "outputs": [],
      "source": [
        "! pip install --upgrade --quiet tiktoken langchain langgraph beautifulsoup4"
      ]
    },
    {
      "cell_type": "code",
      "execution_count": 99,
      "metadata": {
        "id": "01GEQvpTUyyp"
      },
      "outputs": [],
      "source": [
        "! pip install langchain-core langgraph>0.2.27 --quiet"
      ]
    },
    {
      "cell_type": "code",
      "execution_count": 100,
      "metadata": {
        "id": "Ck7bfWqemvdt"
      },
      "outputs": [],
      "source": [
        "! pip install langchain-huggingface --quiet"
      ]
    },
    {
      "cell_type": "markdown",
      "metadata": {
        "id": "P3vL9TN8TWuj"
      },
      "source": [
        "---\n",
        "---\n",
        "---\n"
      ]
    },
    {
      "cell_type": "code",
      "execution_count": 101,
      "metadata": {
        "id": "wEst9m_R1ZPy"
      },
      "outputs": [],
      "source": [
        "import getpass\n",
        "import os\n",
        "\n",
        "os.environ[\"COHERE_API_KEY\"] = \"Q6nIsqJ4FX9XcZwlcQLSzA06z0oXYAGBw0jmCdbE\"\n",
        "\n",
        "from langchain_cohere import ChatCohere\n",
        "\n",
        "llm_model = ChatCohere(model=\"command-r-plus\")\n",
        "\n",
        "llm_model = ChatCohere(model=\"command-r-plus-08-2024\")"
      ]
    },
    {
      "cell_type": "markdown",
      "metadata": {
        "id": "Nv_mwGwkrlIh"
      },
      "source": [
        "---\n",
        "---\n",
        "---\n"
      ]
    },
    {
      "cell_type": "markdown",
      "metadata": {
        "id": "W8hC6hmiHeIl"
      },
      "source": [
        "# Ask chatgpt some simple questions"
      ]
    },
    {
      "cell_type": "markdown",
      "metadata": {
        "id": "Ljt5T8yPjYeq"
      },
      "source": [
        "# This is NOT working ❌"
      ]
    },
    {
      "cell_type": "markdown",
      "metadata": {
        "id": "9_VXS7tTjS4Y"
      },
      "source": [
        "# This is working ✅"
      ]
    },
    {
      "cell_type": "code",
      "execution_count": 102,
      "metadata": {
        "colab": {
          "base_uri": "https://localhost:8080/",
          "height": 103
        },
        "id": "I7JxAG-Cf3A4",
        "outputId": "0cf967ed-d0ef-4df3-9ce4-971f5c2dbc35"
      },
      "outputs": [
        {
          "output_type": "display_data",
          "data": {
            "text/plain": [
              "<IPython.core.display.HTML object>"
            ],
            "text/html": [
              "<p style=\"color:#DE0000;font-size:60px;font-weight: 900;\">10 &nbsp; &nbsp;  &nbsp; &nbsp; &#8595;</p>"
            ]
          },
          "metadata": {}
        }
      ],
      "source": [
        "from IPython.core.display import display, HTML\n",
        "display(HTML('<p style=\"color:#DE0000;font-size:60px;font-weight: 900;\">10 &nbsp; &nbsp;  &nbsp; &nbsp; &#8595;</p>'))"
      ]
    },
    {
      "cell_type": "code",
      "execution_count": 103,
      "metadata": {
        "colab": {
          "base_uri": "https://localhost:8080/"
        },
        "id": "cOQ5VpBMf0p7",
        "outputId": "f41ea369-4a14-46e9-c5ae-0013971c3478"
      },
      "outputs": [
        {
          "output_type": "execute_result",
          "data": {
            "text/plain": [
              "AIMessage(content=\"Hello Bob! It's nice to meet you. How can I help you today?\", additional_kwargs={'documents': None, 'citations': None, 'search_results': None, 'search_queries': None, 'is_search_required': None, 'generation_id': 'd0637873-7cce-4600-b975-917a0aa89982', 'token_count': {'input_tokens': 211.0, 'output_tokens': 17.0}}, response_metadata={'documents': None, 'citations': None, 'search_results': None, 'search_queries': None, 'is_search_required': None, 'generation_id': 'd0637873-7cce-4600-b975-917a0aa89982', 'token_count': {'input_tokens': 211.0, 'output_tokens': 17.0}}, id='run-635a57b3-32b9-4e8f-a0c4-26a0517d31f5-0', usage_metadata={'input_tokens': 211, 'output_tokens': 17, 'total_tokens': 228})"
            ]
          },
          "metadata": {},
          "execution_count": 103
        }
      ],
      "source": [
        "from langchain_core.messages import HumanMessage\n",
        "\n",
        "llm_model.invoke([HumanMessage(content=\"Hi! I'm Bob\")])"
      ]
    },
    {
      "cell_type": "markdown",
      "metadata": {
        "id": "O9igLhYQrOy7"
      },
      "source": [
        "---\n",
        "---\n",
        "---"
      ]
    },
    {
      "cell_type": "code",
      "execution_count": 104,
      "metadata": {
        "colab": {
          "base_uri": "https://localhost:8080/",
          "height": 103
        },
        "id": "A48k1GtKf2fZ",
        "outputId": "15613d4e-4f66-45eb-c4d3-a770886b6580"
      },
      "outputs": [
        {
          "output_type": "display_data",
          "data": {
            "text/plain": [
              "<IPython.core.display.HTML object>"
            ],
            "text/html": [
              "<p style=\"color:#DE0000;font-size:60px;font-weight: 900;\">20 &nbsp; &nbsp;  &nbsp; &nbsp; &#8595;</p>"
            ]
          },
          "metadata": {}
        }
      ],
      "source": [
        "from IPython.core.display import display, HTML\n",
        "display(HTML('<p style=\"color:#DE0000;font-size:60px;font-weight: 900;\">20 &nbsp; &nbsp;  &nbsp; &nbsp; &#8595;</p>'))"
      ]
    },
    {
      "cell_type": "code",
      "execution_count": 105,
      "metadata": {
        "id": "_VweEJaMrNrz"
      },
      "outputs": [],
      "source": [
        "from langchain_core.messages import HumanMessage, SystemMessage\n",
        "\n",
        "messages = [\n",
        "    SystemMessage(content=\"Hello\"),\n",
        "    HumanMessage(content=\"hi!\"),\n",
        "]\n",
        "\n",
        "output = llm_model.invoke(messages)"
      ]
    },
    {
      "cell_type": "code",
      "execution_count": 106,
      "metadata": {
        "colab": {
          "base_uri": "https://localhost:8080/"
        },
        "id": "FSLssFkIIefr",
        "outputId": "70b58a0d-275c-4a50-ab0b-36d85c272e96"
      },
      "outputs": [
        {
          "output_type": "stream",
          "name": "stdout",
          "text": [
            "content='Hello! How can I help you today?' additional_kwargs={'documents': None, 'citations': None, 'search_results': None, 'search_queries': None, 'is_search_required': None, 'generation_id': 'bc089d7e-084c-454c-856d-e60ea4e5c075', 'token_count': {'input_tokens': 212.0, 'output_tokens': 9.0}} response_metadata={'documents': None, 'citations': None, 'search_results': None, 'search_queries': None, 'is_search_required': None, 'generation_id': 'bc089d7e-084c-454c-856d-e60ea4e5c075', 'token_count': {'input_tokens': 212.0, 'output_tokens': 9.0}} id='run-4a3050a7-9a95-4f26-834a-7602a6ce7188-0' usage_metadata={'input_tokens': 212, 'output_tokens': 9, 'total_tokens': 221}\n"
          ]
        }
      ],
      "source": [
        "print(output)"
      ]
    },
    {
      "cell_type": "code",
      "execution_count": 107,
      "metadata": {
        "colab": {
          "base_uri": "https://localhost:8080/"
        },
        "id": "aeLkQrGOI6fu",
        "outputId": "2fd8254a-0b28-4e83-f315-b8c88ca006a1"
      },
      "outputs": [
        {
          "output_type": "stream",
          "name": "stdout",
          "text": [
            "Hello! How can I help you today?\n"
          ]
        }
      ],
      "source": [
        "print(output.content)"
      ]
    },
    {
      "cell_type": "markdown",
      "metadata": {
        "id": "tSOTr5G823HI"
      },
      "source": [
        "---\n",
        "---\n",
        "---\n"
      ]
    },
    {
      "cell_type": "code",
      "execution_count": 108,
      "metadata": {
        "colab": {
          "base_uri": "https://localhost:8080/",
          "height": 103
        },
        "id": "vm90Ho2Xi1qO",
        "outputId": "d57e395a-6a70-4078-dd18-04353a420817"
      },
      "outputs": [
        {
          "output_type": "display_data",
          "data": {
            "text/plain": [
              "<IPython.core.display.HTML object>"
            ],
            "text/html": [
              "<p style=\"color:#DE0000;font-size:60px;font-weight: 900;\">50 &nbsp; &nbsp;  &nbsp; &nbsp; &#8595;</p>"
            ]
          },
          "metadata": {}
        }
      ],
      "source": [
        "from IPython.core.display import display, HTML\n",
        "display(HTML('<p style=\"color:#DE0000;font-size:60px;font-weight: 900;\">50 &nbsp; &nbsp;  &nbsp; &nbsp; &#8595;</p>'))"
      ]
    },
    {
      "cell_type": "code",
      "execution_count": 109,
      "metadata": {
        "colab": {
          "base_uri": "https://localhost:8080/"
        },
        "id": "okYTogwqKiPB",
        "outputId": "8df4287b-2215-4929-aafd-81c4b19221d1"
      },
      "outputs": [
        {
          "output_type": "stream",
          "name": "stdout",
          "text": [
            "[Opening shot of a vibrant street food stand with a large 'HOTDOGS' sign]\n",
            "\n",
            "Narrator (energetic voice): \"Attention, food lovers! It's time to talk about the ultimate snack, the mouth-watering delight—hotdogs!\"\n",
            "\n",
            "[Cut to a close-up of a sizzling hotdog on a grill]\n",
            "\n",
            "Narrator: \"Imagine this—a juicy, perfectly grilled hotdog, nestled in a soft bun, topped with your favorite condiments. It's not just a meal; it's an experience!\"\n",
            "\n",
            "[Quick cuts showing various delicious toppings: mustard, ketchup, relish, onions, and cheese]\n",
            "\n",
            "Narrator: \"From classic mustard and ketchup to loaded toppings, every bite is a flavor explosion. And now, you can bring this deliciousness to your own customers!\"\n",
            "\n",
            "[Transition to a person in a chef's hat preparing multiple hotdogs]\n",
            "\n",
            "Narrator: \"Start your own hotdog stand and become the talk of the town. It's a simple yet profitable venture, perfect for outdoor events, festivals, or your local street corner. With every hotdog you sell, you'll be serving up happiness.\"\n",
            "\n",
            "[Show a happy customer taking a bite and giving a thumbs-up]\n",
            "\n",
            "Narrator: \"So, what are you waiting for? Join the hotdog revolution! Contact us today to get started. Your success story begins with a sizzle and ends with a satisfied smile.\n",
            "\n",
            "[End with a catchy slogan] \"Hotdogs: Grill, Serve, and Sizzle your way to success!\"\n",
            "\n",
            "[Fade out with company logo]\n",
            "\n",
            "This script should fit within a minute, providing a fun and enticing advertisement for selling hotdogs.\n"
          ]
        }
      ],
      "source": [
        "messages = [\n",
        "    SystemMessage(content=\"Hello\"),\n",
        "    HumanMessage(content=\"Write a minute-long script for an advertisement about selling hotdog\"),\n",
        "]\n",
        "\n",
        "output = llm_model.invoke(messages)\n",
        "\n",
        "print(output.content)"
      ]
    },
    {
      "cell_type": "markdown",
      "metadata": {
        "id": "4d9BgjVei01c"
      },
      "source": []
    },
    {
      "cell_type": "markdown",
      "metadata": {
        "id": "qbrN-0pu5L3I"
      },
      "source": [
        "---\n"
      ]
    },
    {
      "cell_type": "code",
      "execution_count": 110,
      "metadata": {
        "colab": {
          "base_uri": "https://localhost:8080/",
          "height": 103
        },
        "id": "zPT3RDxMLVAU",
        "outputId": "dc712e10-1e68-4aad-9c29-9231ba5f333a"
      },
      "outputs": [
        {
          "output_type": "display_data",
          "data": {
            "text/plain": [
              "<IPython.core.display.HTML object>"
            ],
            "text/html": [
              "<p style=\"color:#DE0000;font-size:60px;font-weight: 900;\">60 &nbsp; &nbsp;  &nbsp; &nbsp; &#8595;</p>"
            ]
          },
          "metadata": {}
        }
      ],
      "source": [
        "from IPython.core.display import display, HTML\n",
        "display(HTML('<p style=\"color:#DE0000;font-size:60px;font-weight: 900;\">60 &nbsp; &nbsp;  &nbsp; &nbsp; &#8595;</p>'))"
      ]
    },
    {
      "cell_type": "code",
      "execution_count": 111,
      "metadata": {
        "colab": {
          "base_uri": "https://localhost:8080/"
        },
        "id": "wtQSbOFgLZRp",
        "outputId": "6aba88b1-fab7-4035-a833-aaadd3494d00"
      },
      "outputs": [
        {
          "output_type": "stream",
          "name": "stdout",
          "text": [
            "Hello! How can I help you today?\n"
          ]
        }
      ],
      "source": [
        "messages = [\n",
        "    SystemMessage(content=\"Hello\"),\n",
        "    HumanMessage(content=\"hi\"),\n",
        "]\n",
        "\n",
        "output = llm_model.invoke(messages)\n",
        "\n",
        "print(output.content)"
      ]
    },
    {
      "cell_type": "code",
      "execution_count": 111,
      "metadata": {
        "id": "fC0vg4rdMYbN"
      },
      "outputs": [],
      "source": []
    },
    {
      "cell_type": "markdown",
      "metadata": {
        "id": "CQCtTdMfMZLv"
      },
      "source": [
        "---"
      ]
    },
    {
      "cell_type": "code",
      "execution_count": 112,
      "metadata": {
        "colab": {
          "base_uri": "https://localhost:8080/",
          "height": 103
        },
        "id": "gOhd9CI3Mdd9",
        "outputId": "08c20384-182d-4fd3-911d-596580222db7"
      },
      "outputs": [
        {
          "output_type": "display_data",
          "data": {
            "text/plain": [
              "<IPython.core.display.HTML object>"
            ],
            "text/html": [
              "<p style=\"color:#DE0000;font-size:60px;font-weight: 900;\">60 &nbsp; &nbsp;  &nbsp; &nbsp; &#8595;</p>"
            ]
          },
          "metadata": {}
        }
      ],
      "source": [
        "from IPython.core.display import display, HTML\n",
        "display(HTML('<p style=\"color:#DE0000;font-size:60px;font-weight: 900;\">60 &nbsp; &nbsp;  &nbsp; &nbsp; &#8595;</p>'))"
      ]
    },
    {
      "cell_type": "code",
      "execution_count": 113,
      "metadata": {
        "colab": {
          "base_uri": "https://localhost:8080/"
        },
        "id": "-4FoAlsuMfLP",
        "outputId": "c8de8dfc-95db-4c74-a4ce-f9b6b82ff7b9"
      },
      "outputs": [
        {
          "output_type": "stream",
          "name": "stdout",
          "text": [
            "Sure, creating an agenda for a meeting to discuss missed deadlines is a great way to structure the conversation and ensure a productive outcome. Here are some items you might want to include:\n",
            "\n",
            "- **Meeting Introductions and Objectives:** Begin by welcoming the team and clearly stating the purpose of the meeting. For example, \"Today, we will discuss the recent trend of missed deadlines and find solutions to improve our project management.\"\n",
            "\n",
            "- **Review of Missed Deadlines:** Provide a summary of the projects or tasks that have been affected by missed deadlines. Share relevant data, such as the number of missed deadlines, the teams or individuals involved, and the potential impact on clients or company goals. \n",
            "\n",
            "- **Root Cause Analysis:** Facilitate a discussion to identify the underlying reasons for the missed deadlines. This could include:\n",
            "   - Insufficient resource allocation or overcommitment of team members.\n",
            "   - Lack of clear project goals and expectations.\n",
            "   - Ineffective time management and planning.\n",
            "   - Unforeseen obstacles or dependencies on external factors.\n",
            "   - Communication gaps within the team or with clients.\n",
            "\n",
            "- **Open Discussion and Feedback:** Encourage team members to share their experiences and challenges related to deadline management. Prompt them to provide suggestions for improvement:\n",
            "   - Ask if the team has the necessary tools and resources to manage their workload effectively.\n",
            "   - Inquire about potential bottlenecks in the current workflow and how they can be addressed.\n",
            "   - Seek feedback on the project planning process and if there are ways to enhance it.\n",
            "\n",
            "- **Action Items and Solutions:** Based on the discussion, collaborate to develop actionable solutions:\n",
            "   - Assign specific tasks to team members, such as researching new project management software or creating a communication protocol.\n",
            "   - Decide on process improvements, like implementing regular progress check-ins or setting more realistic deadlines.\n",
            "   - Discuss the possibility of reallocating resources or adjusting project scopes.\n",
            "\n",
            "- **Accountability and Follow-up:** Establish a system to ensure that the agreed-upon actions are carried out. Schedule follow-up meetings to monitor progress and provide ongoing support.\n",
            "\n",
            "- **Motivation and Recognition:** Acknowledge that everyone makes mistakes and emphasize the importance of learning from them. Share success stories of projects with well-managed deadlines and recognize team members who consistently meet their deadlines.\n",
            "\n",
            "- **Wrap-up and Next Steps:** Summarize the key takeaways from the meeting and the action plan moving forward. Thank the team for their participation and encourage them to reach out with any further concerns.\n",
            "\n",
            "Remember to keep the agenda focused and allow enough time for discussion and problem-solving. It might also be helpful to distribute the agenda in advance so that team members can prepare and contribute more effectively.\n"
          ]
        }
      ],
      "source": [
        "messages = [\n",
        "    SystemMessage(content=\"Hello\"),\n",
        "    HumanMessage(content=\"I want to create an agenda for a meeting about missed deadlines with my team. Can you give me some examples of what should be included?\"),\n",
        "]\n",
        "\n",
        "output = llm_model.invoke(messages)\n",
        "\n",
        "print(output.content)"
      ]
    },
    {
      "cell_type": "code",
      "execution_count": 113,
      "metadata": {
        "id": "s10saumTMf2M"
      },
      "outputs": [],
      "source": []
    },
    {
      "cell_type": "markdown",
      "metadata": {
        "id": "ZQOF9smBNOXR"
      },
      "source": [
        "---"
      ]
    },
    {
      "cell_type": "code",
      "execution_count": 114,
      "metadata": {
        "colab": {
          "base_uri": "https://localhost:8080/",
          "height": 103
        },
        "id": "KWR8VsM_Mglu",
        "outputId": "d48f7db5-7d01-40e0-f5ec-bcc16467d874"
      },
      "outputs": [
        {
          "output_type": "display_data",
          "data": {
            "text/plain": [
              "<IPython.core.display.HTML object>"
            ],
            "text/html": [
              "<p style=\"color:#DE0000;font-size:60px;font-weight: 900;\">80 &nbsp; &nbsp;  &nbsp; &nbsp; &#8595;</p>"
            ]
          },
          "metadata": {}
        }
      ],
      "source": [
        "from IPython.core.display import display, HTML\n",
        "display(HTML('<p style=\"color:#DE0000;font-size:60px;font-weight: 900;\">80 &nbsp; &nbsp;  &nbsp; &nbsp; &#8595;</p>'))"
      ]
    },
    {
      "cell_type": "code",
      "execution_count": 115,
      "metadata": {
        "colab": {
          "base_uri": "https://localhost:8080/"
        },
        "id": "mK70vyIpMhHj",
        "outputId": "3d259583-6150-4232-b0e2-b7bac8126da7"
      },
      "outputs": [
        {
          "output_type": "stream",
          "name": "stdout",
          "text": [
            "When negotiating a brand deal with a candle company for creating content on TikTok, several factors come into play to determine the pricing. Here are some key considerations:\n",
            "\n",
            "**1. Engagement and Reach:**\n",
            "   - Follower Count: With 100,000 followers, you have a substantial audience. Brands often value accounts with a larger reach as it increases the potential for exposure.\n",
            "   - Engagement Rate: It's not just about the number of followers but also how engaged they are. Calculate your average engagement rate (likes, comments, shares, etc.) per post to demonstrate the potential impact of your content.\n",
            "\n",
            "**2. Content Creation and Usage:**\n",
            "   - Number of Videos: In this case, you're offering three videos, which provides more value to the brand compared to a single post. Charging for multiple posts can be packaged as a bundle or individually, depending on the client's needs.\n",
            "   - Creative Control: Discuss whether the brand will provide guidelines or scripts for the videos or if you have creative freedom. More creative input might warrant a higher fee.\n",
            "\n",
            "**3. Influencer Marketing Rates:**\n",
            "   - Industry Rates: Influencer marketing rates vary widely depending on the platform, engagement, and the influencer's niche. According to some sources, TikTok influencers with 50,000 to 500,000 followers can charge $250 to $1,000 per post on average.\n",
            "   - Niche and Relevance: The candle industry might have specific rates, and the brand's size and reputation can also influence pricing. If your content aligns perfectly with the brand's target audience, you may be able to negotiate higher rates.\n",
            "\n",
            "**4. Production Costs and Time:**\n",
            "   - Consider the time and resources required to create the videos. If it involves complex setups, multiple shoots, or additional expenses, you can factor these into your quote.\n",
            "\n",
            "**5. Long-term Partnerships:**\n",
            "   - Explore the possibility of a long-term partnership with the brand, which could include multiple campaigns over an extended period. Long-term deals might offer stability and potentially better rates.\n",
            "\n",
            "**Pricing Ballpark:**\n",
            "Given the information provided, a reasonable range for three TikTok videos could be between $750 and $3,000. However, this estimate can vary significantly based on the factors mentioned above and the specific details of the campaign. It's essential to assess the brand's expectations, your unique value proposition, and the overall market rates for your niche.\n",
            "\n",
            "When negotiating, it's a good practice to provide a detailed breakdown of your pricing, highlighting the value you bring to the table. You can also offer customization or discounts for long-term commitments. Remember, building a portfolio of successful brand collaborations can significantly impact your future negotiations.\n"
          ]
        }
      ],
      "source": [
        "messages = [\n",
        "    SystemMessage(content=\"Hello\"),\n",
        "    HumanMessage(content=\"What factors should I consider when quoting for a brand deal with a candle company, and what ballpark range should I charge? The scope is to post 3 videos on TikTok, and I have 100,000 followers.\"),\n",
        "]\n",
        "\n",
        "output = llm_model.invoke(messages)\n",
        "\n",
        "print(output.content)"
      ]
    },
    {
      "cell_type": "code",
      "source": [],
      "metadata": {
        "id": "FN2ifSf-XZ5C"
      },
      "execution_count": 115,
      "outputs": []
    },
    {
      "cell_type": "markdown",
      "source": [
        "# Dummy"
      ],
      "metadata": {
        "id": "-W3XeagBXarh"
      }
    },
    {
      "cell_type": "code",
      "execution_count": 116,
      "metadata": {
        "colab": {
          "base_uri": "https://localhost:8080/"
        },
        "id": "sGZqfWcOOtHL",
        "outputId": "5720ce4b-19fb-4ed1-b047-105010884c9c"
      },
      "outputs": [
        {
          "output_type": "stream",
          "name": "stdout",
          "text": [
            "# Proposal: Green Neighborhood Initiative\n",
            "\n",
            "## Project Overview:\n",
            "The Green Neighborhood Initiative aims to transform underutilized public spaces in our city into vibrant community gardens, fostering environmental sustainability, social engagement, and local food production. This project will empower residents to take an active role in beautifying their neighborhoods while promoting a healthier and more connected community.\n",
            "\n",
            "## Purpose:\n",
            "- **Environmental Conservation:** The primary goal is to create green spaces that promote biodiversity, reduce the urban heat island effect, and encourage sustainable practices among residents.\n",
            "- **Community Engagement:** By involving local citizens in gardening activities, the project will strengthen social bonds, encourage teamwork, and foster a sense of ownership and pride in the community.\n",
            "- **Education and Wellness:** Community gardens provide an educational resource for all ages, teaching valuable skills like horticulture, healthy eating, and environmental stewardship.\n",
            "\n",
            "## Expected Benefits:\n",
            "- **Improved Quality of Life:** Green spaces enhance the overall aesthetics of the city, increase property values, and provide residents with peaceful areas for relaxation and recreation.\n",
            "- **Environmental Impact:** The project will contribute to carbon reduction, improve air and soil quality, and potentially attract and support local pollinators.\n",
            "- **Community Building:** Gardening activities bring people together, fostering intergenerational connections, cultural exchange, and a sense of community responsibility.\n",
            "- **Access to Fresh Produce:** Residents will have the opportunity to grow their own fruits and vegetables, promoting healthier diets and potentially reducing food insecurity.\n",
            "\n",
            "## Implementation Plan:\n",
            "1. **Site Selection:** Identify suitable public spaces, such as vacant lots or underutilized parks, in consultation with city officials and community leaders.\n",
            "2. **Community Outreach:** Organize town hall meetings and workshops to engage residents, gather feedback, and form volunteer groups for each garden site.\n",
            "3. **Design and Construction:**\n",
            "   - Develop garden designs considering the unique needs and preferences of each community.\n",
            "   - Involve local volunteers in the construction process, including building raised beds, installing irrigation systems, and preparing the soil.\n",
            "   - Provide training sessions on gardening techniques and sustainable practices.\n",
            "4. **Maintenance and Management:**\n",
            "   - Establish a community garden committee for each site, responsible for day-to-day management and maintenance.\n",
            "   - Organize regular gardening events and educational workshops to maintain community involvement.\n",
            "   - Ensure long-term sustainability by seeking partnerships with local schools, businesses, and gardening organizations.\n",
            "\n",
            "## Funding Strategy:\n",
            "- **Government Grants:** Apply for grants dedicated to urban greening initiatives and community development projects from the city council and relevant government departments.\n",
            "- **Corporate Sponsorship:** Engage local businesses as sponsors, offering promotional opportunities in exchange for funding support.\n",
            "- **Crowdfunding Campaigns:** Launch community-driven fundraising campaigns to encourage individual donations and foster a sense of collective investment.\n",
            "- **In-Kind Donations:** Reach out to local nurseries, gardening supply stores, and construction companies for donations of materials and equipment.\n",
            "- **Volunteer Support:** Leverage the power of volunteers to minimize labor costs, ensuring the project's long-term sustainability and community engagement.\n",
            "\n",
            "This initiative has the potential to create a network of thriving community gardens, bringing people together and transforming our urban landscape into a greener, more vibrant, and healthier environment. With the support of the city council and the community, the Green Neighborhood Initiative can become a successful and impactful long-term project.\n"
          ]
        }
      ],
      "source": [
        "messages = [\n",
        "    SystemMessage(content=\"Hello\"),\n",
        "    HumanMessage(content=\"Draft a proposal for a community project to present to your local city council. Include the project’s purpose, expected benefits, steps for implementation, and how you plan to fund it.\"),\n",
        "]\n",
        "\n",
        "output = llm_model.invoke(messages)\n",
        "\n",
        "print(output.content)"
      ]
    },
    {
      "cell_type": "code",
      "execution_count": 117,
      "metadata": {
        "colab": {
          "base_uri": "https://localhost:8080/"
        },
        "id": "xMUQ9volPU5q",
        "outputId": "2ef67ba5-2c3e-4675-bb9e-a90aa0859206"
      },
      "outputs": [
        {
          "output_type": "stream",
          "name": "stdout",
          "text": [
            "Implementing a sticky header is a common way to ensure that your website's navigation or a specific header element remains visible as the user scrolls down the page. Here's an example of how you can achieve this using CSS and JavaScript:\n",
            "\n",
            "**CSS:**\n",
            "\n",
            "First, you'll need to style your header element. You can use the `position` property with the value `sticky` to make the header stick to the top of the page when the user scrolls. Here's a basic CSS example:\n",
            "\n",
            "```css\n",
            ".sticky-header {\n",
            "    position: sticky;\n",
            "    top: 0;\n",
            "    background-color: #333;\n",
            "    color: #fff;\n",
            "    padding: 10px;\n",
            "}\n",
            "```\n",
            "\n",
            "In this example:\n",
            "- `.sticky-header` is the class you'll apply to the header element in your HTML.\n",
            "- `position: sticky;` is the key property that enables the sticky behavior.\n",
            "- `top: 0;` specifies that the header should stick to the top of the page.\n",
            "- Additional styling properties like `background-color`, `color`, and `padding` are used to style the appearance of the header.\n",
            "\n",
            "**HTML:**\n",
            "\n",
            "In your HTML file, you'll create the header element and apply the class you defined in the CSS:\n",
            "\n",
            "```html\n",
            "<header class=\"sticky-header\">\n",
            "  <h1>My Website</h1>\n",
            "  <!-- Other header content -->\n",
            "</header>\n",
            "```\n",
            "\n",
            "**JavaScript (Optional):**\n",
            "\n",
            "In some cases, you might need to use JavaScript to enhance the sticky header functionality, especially if you want to add more complex behaviors or handle specific events. Here's a simple example of how you can use JavaScript to check if the sticky header is in view:\n",
            "\n",
            "```javascript\n",
            "window.addEventListener('scroll', function() {\n",
            "  var header = document.querySelector('.sticky-header');\n",
            "  var scrollPosition = window.pageYOffset;\n",
            "\n",
            "  if (scrollPosition > 0) {\n",
            "    header.classList.add('sticky');\n",
            "  } else {\n",
            "    header.classList.remove('sticky');\n",
            "  }\n",
            "});\n",
            "```\n",
            "\n",
            "In this JavaScript code:\n",
            "- We add an event listener to the window's scroll event.\n",
            "- `document.querySelector('.sticky-header')` selects the header element with the class `sticky-header`.\n",
            "- `window.pageYOffset` gets the current scroll position.\n",
            "- The code checks if the scroll position is greater than 0, and if so, it adds the class `sticky` to the header, which can be used for additional styling or effects.\n",
            "\n",
            "Remember to include the CSS and JavaScript files in your HTML, or you can inline the styles and scripts directly in the HTML file if it's a simple project.\n",
            "\n",
            "Feel free to customize the styling and JavaScript behavior to match your website's design and requirements.\n"
          ]
        }
      ],
      "source": [
        "messages = [\n",
        "    SystemMessage(content=\"Hello\"),\n",
        "    HumanMessage(content=\"I want to implement a sticky header on my website. Can you provide an example of how to do that using CSS and JavaScript?\"),\n",
        "]\n",
        "\n",
        "output = llm_model.invoke(messages)\n",
        "\n",
        "print(output.content)"
      ]
    },
    {
      "cell_type": "code",
      "execution_count": 118,
      "metadata": {
        "id": "NFNrKX4oPWnm",
        "colab": {
          "base_uri": "https://localhost:8080/"
        },
        "outputId": "190f80b3-d44b-40b6-a434-517ed1418854"
      },
      "outputs": [
        {
          "output_type": "stream",
          "name": "stdout",
          "text": [
            "Probability is a fundamental concept in mathematics that deals with the likelihood of events occurring. It provides a framework for quantifying uncertainty and making predictions about random phenomena. Here's a basic introduction to help you understand how probability works:\n",
            "\n",
            "1. **Events and Outcomes:** Probability starts with defining the set of all possible outcomes of an experiment or event. An outcome is a specific result of an experiment. For example, when tossing a coin, the possible outcomes are heads or tails. When rolling a fair six-sided die, the outcomes are 1, 2, 3, 4, 5, or 6.\n",
            "\n",
            "2. **Sample Space:** The sample space is the collection of all possible outcomes of an experiment. In the coin toss example, the sample space is {heads, tails}. For the dice roll, it is {1, 2, 3, 4, 5, 6}.\n",
            "\n",
            "3. **Probability of an Event:** Probability is a number between 0 and 1 (or 0% to 100%) that represents the likelihood of an event occurring. A probability of 0 means the event is impossible, while a probability of 1 means the event is certain to happen. For example, the probability of tossing a coin and getting heads is 0.5 or 50%, assuming the coin is fair.\n",
            "\n",
            "4. **Complementary Events:** The complement of an event is the event's opposite. The probability of the complement occurring plus the probability of the event itself always equals 1. For instance, if the probability of rain tomorrow is 0.3, then the probability of no rain is 1 - 0.3 = 0.7.\n",
            "\n",
            "5. **Independent and Dependent Events:**\n",
            "   - **Independent Events:** Two events are independent if the outcome of one event does not affect the outcome of the other. For example, the results of two separate coin tosses are independent.\n",
            "   - **Dependent Events:** Dependent events are those where the outcome of one event influences the outcome of another. For instance, drawing cards from a deck without replacement is a dependent event because the probability changes after each draw.\n",
            "\n",
            "6. **Probability Calculations:**\n",
            "   - **Probability of a Single Event:** To find the probability of a single event, count the number of favorable outcomes (outcomes you're interested in) and divide it by the total number of possible outcomes.\n",
            "   - **Probability of Multiple Events:** For multiple events, you can calculate the joint probability using multiplication if the events are independent. For dependent events, you may need conditional probability calculations.\n",
            "\n",
            "7. **Probability Rules:** There are several rules and theorems in probability theory, such as the addition rule, multiplication rule, Bayes' theorem, and the law of total probability, which help in solving complex probability problems.\n",
            "\n",
            "Probability theory has numerous applications in various fields, including statistics, finance, weather forecasting, gaming, and quality control. Understanding probability helps in making informed decisions, assessing risks, and predicting outcomes in uncertain situations.\n",
            "\n",
            "If you have specific probability problems or concepts you'd like to explore further, feel free to ask! I can provide more detailed explanations and examples to enhance your understanding of probability.\n"
          ]
        }
      ],
      "source": [
        "messages = [\n",
        "    SystemMessage(content=\"Hello\"),\n",
        "    HumanMessage(content=\"I need help understanding how probability works.\"),\n",
        "]\n",
        "\n",
        "output = llm_model.invoke(messages)\n",
        "\n",
        "print(output.content)"
      ]
    },
    {
      "cell_type": "code",
      "execution_count": 119,
      "metadata": {
        "id": "iMfN2whbPW1Y",
        "colab": {
          "base_uri": "https://localhost:8080/"
        },
        "outputId": "6b3c40f1-885e-4ff2-f995-9281a43521cf"
      },
      "outputs": [
        {
          "output_type": "stream",
          "name": "stdout",
          "text": [
            "Sure, here are five types of data that teachers can collect to monitor student learning and progress:\n",
            "\n",
            "1. Formative Assessments: These are ongoing assessments that provide teachers with feedback during the learning process. Examples include quizzes, class discussions, short surveys, or even observation checklists. Formative assessments help teachers understand what students are grasping and where they might need further instruction or support. \n",
            "\n",
            "2. Summative Assessments: These are typically more formal evaluations conducted at the end of a unit, semester, or academic year. Summative data can be collected from tests, projects, essays, or standardized exams. This type of assessment gives a broader picture of student learning and can be used to measure individual growth and overall class performance. \n",
            "\n",
            "3. Student Portfolios: Portfolios are collections of student work that showcase their learning journey. Teachers can ask students to compile their best work, improvements, reflections, and goal-setting documents. Portfolios provide a more holistic view of a student's progress, creativity, and individual achievements. \n",
            "\n",
            "4. Peer and Self-Evaluations: Encouraging students to reflect on their own learning and evaluate their peers can provide valuable insights. Teachers can use peer review sheets, self-assessment rubrics, or group work evaluations to gather data on student performance and understanding. This process also promotes metacognition and helps students develop critical thinking skills. \n",
            "\n",
            "5. Attendance and Participation Records: Tracking student attendance and participation is essential for identifying patterns and potential issues. Teachers can note student engagement, punctuality, and overall involvement in class activities. This data can help teachers identify students who might be struggling or disengaged and intervene with appropriate support strategies. \n",
            "\n",
            "By utilizing these data collection methods, teachers can gain a comprehensive understanding of student learning, identify areas of improvement, and tailor their instruction to meet individual needs. It also allows for timely interventions and provides a basis for effective parent-teacher communication regarding student progress.\n"
          ]
        }
      ],
      "source": [
        "messages = [\n",
        "    SystemMessage(content=\"Hello\"),\n",
        "    HumanMessage(content=\"Create a list of 5 types of data that teachers can collect to monitor student learning and progress.\"),\n",
        "]\n",
        "\n",
        "output = llm_model.invoke(messages)\n",
        "\n",
        "print(output.content)"
      ]
    },
    {
      "cell_type": "markdown",
      "source": [
        "# Dummy"
      ],
      "metadata": {
        "id": "NwkKoFH7W5eN"
      }
    },
    {
      "cell_type": "code",
      "execution_count": 120,
      "metadata": {
        "id": "PfW8pICMPXAt",
        "colab": {
          "base_uri": "https://localhost:8080/"
        },
        "outputId": "cf99931f-d62b-41b8-976d-230880d40dee"
      },
      "outputs": [
        {
          "output_type": "stream",
          "name": "stdout",
          "text": [
            "California Dreamin'\n",
            "Written by John Phillips and Michelle Phillips\n",
            "\n",
            "All the leaves are brown, and the sky is grey\n",
            "I've been for a walk on a winter's day\n",
            "I'd be safe and warm if I was in L.A.*\n",
            "California dreamin' on such a winter's day\n",
            "\n",
            "All the leaves are brown, and the sky is grey\n",
            "I've been for a walk on a winter's day\n",
            "I'd be safe and warm if I was in L.A.*\n",
            "California dreamin' on such a winter's day\n",
            "\n",
            "Stopped into a church, I passed along the way\n",
            "Well, I got down on my knees and I pretend to pray\n",
            "You know the preacher likes the cold, he knows I'm gonna stay\n",
            "California dreamin' on such a winter's day\n",
            "\n",
            "All the leaves are brown, and the sky is grey\n",
            "I've been for a walk on a winter's day\n",
            "I'd be safe and warm if I was in L.A.*\n",
            "California dreamin' on such a winter's day\n",
            "\n",
            "All the leaves are brown and the sky is grey\n",
            "I've been for a walk on a winter's day\n",
            "If I didn't tell her, I could leave today\n",
            "California dreamin' on such a winter's day\n",
            "\n",
            "California dreamin' on such a winter's day\n",
            "California dreamin' on such a winter's day\n",
            "\n",
            "*L.A. is an abbreviation for Los Angeles.\n",
            "\n",
            "The song \"California Dreamin'\" is a classic folk-rock hit from the 1960s, capturing the longing for the warmth and sunshine of California during a cold winter elsewhere.\n"
          ]
        }
      ],
      "source": [
        "messages = [\n",
        "    SystemMessage(content=\"Hello\"),\n",
        "    HumanMessage(content=\"Write the lyrics to a song titled 'California Dreamin' by the mamas and the papas\"),\n",
        "]\n",
        "\n",
        "output = llm_model.invoke(messages)\n",
        "\n",
        "print(output.content)"
      ]
    },
    {
      "cell_type": "code",
      "execution_count": 121,
      "metadata": {
        "id": "XVLx9Mj6PXfV",
        "colab": {
          "base_uri": "https://localhost:8080/"
        },
        "outputId": "2e0c0a57-05ff-4f40-a572-2e718e257037"
      },
      "outputs": [
        {
          "output_type": "stream",
          "name": "stdout",
          "text": [
            "Verse 1:\n",
            "In the morning light, a familiar sight\n",
            "A feathered friend, so graceful and bright\n",
            "Your daily visitor, a beautiful bird\n",
            "Singing sweetly, not a word unheard\n",
            "\n",
            "Chorus:\n",
            "Oh, little bird, you're my daily delight\n",
            "With your vibrant wings, a stunning sight\n",
            "You come to my garden, a routine so right\n",
            "Bringing joy, my dear feathered friend\n",
            "\n",
            "Verse 2:\n",
            "Each day I wait, with anticipation\n",
            "For your gentle chirps, a sweet sensation\n",
            "You perch on the branch, with elegance and grace\n",
            "A moment I cherish, a daily embrace\n",
            "\n",
            "Pre-Chorus:\n",
            "Your feathers shimmer, in the sunlight's glow\n",
            "Singing melodies, that only you know\n",
            "A welcome guest, in my garden's abode\n",
            "Where flowers dance, as you sing your ode\n",
            "\n",
            "Chorus:\n",
            "Oh, little bird, your presence is pure bliss\n",
            "A daily ritual, I never want to miss\n",
            "You bring nature's charm, with your every visit\n",
            "My garden's paradise, with you in it\n",
            "\n",
            "Bridge:\n",
            "When the sky turns grey, and rain starts to pour\n",
            "You find shelter, near my window's door\n",
            "A temporary haven, from the stormy weather\n",
            "Then you fly away, leaving me a feather\n",
            "\n",
            "Chorus:\n",
            "Oh, little bird, you're the sun after rain\n",
            "Bringing hope and beauty, again and again\n",
            "Your visits are precious, a daily treasure\n",
            "My garden's sanctuary, with you as its measure\n",
            "\n",
            "Outro:\n",
            "So keep coming back, my dear feathered friend\n",
            "Your presence fills my heart, till the day's end\n",
            "A bond with nature, so pure and true\n",
            "Little bird, I sing this song for you.\n",
            "\n",
            "Would you like me to continue with additional verses or provide a melody for this song? I can assist with further creative elements if you wish!\n"
          ]
        }
      ],
      "source": [
        "messages = [\n",
        "    SystemMessage(content=\"Hello\"),\n",
        "    HumanMessage(content=\"Make a song about a bird which comes to your garden every day\"),\n",
        "]\n",
        "\n",
        "output = llm_model.invoke(messages)\n",
        "\n",
        "print(output.content)"
      ]
    },
    {
      "cell_type": "code",
      "execution_count": 122,
      "metadata": {
        "id": "obyMh2HSPX54",
        "colab": {
          "base_uri": "https://localhost:8080/"
        },
        "outputId": "e340ae23-ecd2-4625-fe80-257e4fb69e16"
      },
      "outputs": [
        {
          "output_type": "stream",
          "name": "stdout",
          "text": [
            "Here's a joke that might give you a giggle:\n",
            "\n",
            "Why did the Japanese businessman go to the seafood restaurant?\n",
            "\n",
            "Because he wanted to get some sushi done!\n"
          ]
        }
      ],
      "source": [
        "messages = [\n",
        "    SystemMessage(content=\"Hello\"),\n",
        "    HumanMessage(content=\"Tell me a joke about japanese culture\"),\n",
        "]\n",
        "\n",
        "output = llm_model.invoke(messages)\n",
        "\n",
        "print(output.content)"
      ]
    },
    {
      "cell_type": "code",
      "execution_count": 123,
      "metadata": {
        "colab": {
          "base_uri": "https://localhost:8080/"
        },
        "id": "LxyBQrEBPYTS",
        "outputId": "ae9149e9-c557-401a-8498-7940458aece5"
      },
      "outputs": [
        {
          "output_type": "stream",
          "name": "stdout",
          "text": [
            "# Twilight: The Vampire's Wild Cooking Adventure\n",
            "\n",
            "In the mystical land of Forks, Washington, where rainclouds perpetually danced, a tale as old as time was about to take an unexpected twist, one that would leave the town's residents in stitches (both figuratively and, as vampires tend to be strong, literally).\n",
            "\n",
            "Bella Swan, with her heart as pure as the driven snow and a klutziness that could rival a newborn foal, had always felt a peculiar connection to the mysterious Cullen clan. Little did she know, her destiny was about to be spiced up, not by a romantic encounter, but by a culinary catastrophe.\n",
            "\n",
            "Edward Cullen, with his shimmering skin and otherworldly beauty, had a dark secret. He was an exceptional hunter, not only of deer but also of exotic ingredients. His vampire instincts often led him to seek out rare culinary delights, an unusual quirk among his kind.\n",
            "\n",
            "One fateful day, Bella stumbled upon Edward in the forest, not during one of his brooding moments, but while he was fervently grinding wild garlic and mixing it with freshly picked herbs. Intrigued by this peculiar sight, Bella approached, her heart fluttering like a hummingbird's wings.\n",
            "\n",
            "\"Edward, is that... a pestle and mortar?\" Bella inquired, her voice laced with curiosity.\n",
            "\n",
            "Edward, startled, dropped the garlic clove, which bounced off Bella's forehead, leaving a slight bruise. \"Bella! You've caught me... in my culinary haven,\" he admitted, his golden eyes sparkling with mischief.\n",
            "\n",
            "Unbeknownst to them, the garlic aroma had attracted more than just the local wildlife. The entire Cullen family, along with their werewolf allies, were drawn to the scent, thinking a gourmet feast awaited them.\n",
            "\n",
            "As the Cullens approached, Edward, in a panic, tried to recreate a recipe he had once observed in Italy. He tossed the garlic into a makeshift pan, added some forest berries, and, in a moment of madness, sprinkled a pinch of vampire dust (a secret ingredient he had been experimenting with).\n",
            "\n",
            "The concoction sizzled, sending a cloud of smoke into the air, causing the werewolves to sneeze in unison. The smoke cleared, revealing a dish that looked like a masterpiece... until they tasted it.\n",
            "\n",
            "Esme, always the elegant matriarch, took a delicate bite and promptly transformed into a fit of laughter, for the dish tasted like nothing more than electrified pickles. Carlisle, with his impeccable manners, tried to hide his surprise, but a small burp of laughter escaped his lips.\n",
            "\n",
            "Alice, ever the visionary, saw the future of this culinary disaster and couldn't contain her giggles. She foresaw the recipe becoming a viral sensation, not for its taste but as a hilarious challenge for home cooks.\n",
            "\n",
            "As for Bella, she found herself not falling into the arms of a vampire but into a life of culinary chaos. The Cullens, with their newfound love for experimental cooking, adopted Bella as their official taste tester, ensuring that no human would ever suffer their gastronomical experiments again.\n",
            "\n",
            "Thus, the Twilight saga took a turn towards the delightfully ridiculous, where vampire teeth were reserved for testing the pungency of garlic rather than sinking into tender necks.\n"
          ]
        }
      ],
      "source": [
        "messages = [\n",
        "    SystemMessage(content=\"Hello\"),\n",
        "    HumanMessage(content=\"Write hilarious fan fiction about the Twilight saga.\"),\n",
        "]\n",
        "\n",
        "output = llm_model.invoke(messages)\n",
        "\n",
        "print(output.content)"
      ]
    },
    {
      "cell_type": "code",
      "execution_count": 124,
      "metadata": {
        "colab": {
          "base_uri": "https://localhost:8080/"
        },
        "id": "Ax4U-pLiPYoH",
        "outputId": "d5fa720a-ae3c-4eae-d98d-c1e7a92a478f"
      },
      "outputs": [
        {
          "output_type": "stream",
          "name": "stdout",
          "text": [
            "Hey Alex, have a 'whale' of a time on your special day! I hope you're ready to 'shell-ebrate' and make some 'fin'-tastic memories. It's time to blow out the candles and make a 'whale' of a wish!\n",
            "\n",
            "Happy birthday, and remember, you're 'oyster' today, so make it a 'clam'-tastic one!\n"
          ]
        }
      ],
      "source": [
        "messages = [\n",
        "    SystemMessage(content=\"Hello\"),\n",
        "    HumanMessage(content=\"Write a pun-filled happy birthday message to my friend Alex.\"),\n",
        "]\n",
        "\n",
        "output = llm_model.invoke(messages)\n",
        "\n",
        "print(output.content)"
      ]
    },
    {
      "cell_type": "code",
      "execution_count": 125,
      "metadata": {
        "colab": {
          "base_uri": "https://localhost:8080/"
        },
        "id": "kFzGbuPVRsAT",
        "outputId": "484d30db-7f53-4dc8-82e3-2af27165ef4e"
      },
      "outputs": [
        {
          "output_type": "stream",
          "name": "stdout",
          "text": [
            "Sure, here are six yoga poses and stretches that can help alleviate back and neck pain:\n",
            "\n",
            "1. Cat-Cow Pose (Marjaryasana-Bitilasana): This gentle movement is a great warm-up for the spine. Start on your hands and knees, aligning your wrists under your shoulders and knees under your hips. Inhale as you arch your back gently like a cow, lifting your chest and tailbone while letting your belly soften. Exhale and round your spine, drawing your belly towards your spine and tucking your tailbone, similar to a cat stretching. Repeat this fluid motion several times, synchronizing your breath with the movement. Cat-Cow Pose improves spinal flexibility and gently massages the neck and back.\n",
            "\n",
            "2. Child's Pose (Balasana): A resting pose that gently stretches the back and shoulders. Kneel on the floor with your knees wider than hip-width apart. Sit back on your heels, then bend forward to bring your forehead to the ground (or as close as comfortable). Extend your arms alongside your body with palms facing down. Breathe deeply and hold this pose for several breaths, feeling a gentle stretch along your back and neck. Child's Pose helps relieve tension and can be modified by using a blanket or pillow for support if needed.\n",
            "\n",
            "3. Cobra Pose (Bhujangasana): Strengthens the spine and stretches the chest and abdomen, providing relief for neck and back pain. Lie on your stomach with your legs extended and the tops of your feet pressing into the floor. Place your hands under your shoulders and hug your elbows close to your body. Inhale and slowly lift your head, chest, and shoulders off the ground while keeping your hips and legs grounded. Keep your elbows slightly bent and your shoulders relaxed away from your ears. Hold this pose while breathing deeply, then release back down. Cobra Pose improves spinal flexibility and strengthens the back muscles.\n",
            "\n",
            "4. Downward Facing Dog (Adho Mukha Svanasana): This classic yoga pose stretches and strengthens the entire body, including the back and neck. Start on your hands and knees, then lift your hips and straighten your legs, forming an inverted 'V' shape. Press evenly into your hands, spreading your fingers wide, and lift your hips towards the ceiling while gently pedaling your legs (bending one knee at a time). Keep a slight bend in your knees if your hamstrings are tight. Downward Dog lengthens the spine, stretches the shoulders and neck, and strengthens the arms and legs.\n",
            "\n",
            "5. Thread the Needle Pose: Relieves tension in the shoulders, neck, and upper back. Begin on your hands and knees. Lift your right arm and thread it under your left arm, placing your right shoulder and right side of your head gently on the floor. Keep your left arm extended or bent, whichever is more comfortable. Hold for several breaths, then switch sides. This pose helps release tightness and improves mobility in the neck and upper back.\n",
            "\n",
            "6. Seated Spinal Twist (Ardha Matsyendrasana): A seated twist to release tension in the spine and shoulders. Sit on the floor with your legs extended in front of you. Bend your right knee and place your right foot over your left leg, close to the knee. Inhale and lift your spine, then exhale and twist your torso to the right, placing your left elbow on the outside of your right knee for a deeper twist. Keep your spine long and breathe into the pose. Hold for several breaths, then repeat on the other side. Spinal twists improve spinal mobility and alleviate back pain.\n",
            "\n",
            "Remember, when practicing these poses, it's essential to listen to your body and not push beyond your comfort level. Start gently and gradually increase the intensity or duration of the stretches as your body allows. Yoga is an excellent way to improve flexibility, strengthen the body, and reduce pain over time. If you have persistent or severe back and neck pain, consider consulting a yoga instructor or healthcare professional for personalized guidance.\n"
          ]
        }
      ],
      "source": [
        "messages = [\n",
        "    SystemMessage(content=\"Hello\"),\n",
        "    HumanMessage(content=\"Describe six effective yoga poses or stretches for back and neck pain\"),\n",
        "]\n",
        "\n",
        "output = llm_model.invoke(messages)\n",
        "\n",
        "print(output.content)"
      ]
    },
    {
      "cell_type": "code",
      "execution_count": 126,
      "metadata": {
        "colab": {
          "base_uri": "https://localhost:8080/"
        },
        "id": "nLx9RxM3Rudw",
        "outputId": "d6ebd51b-74fd-4822-fa31-ad5b2842a6ca"
      },
      "outputs": [
        {
          "output_type": "stream",
          "name": "stdout",
          "text": [
            "Absolutely! Planning a week's worth of dinners can be fun and ensure you have delicious and varied meals. Here's a 7-day dinner plan for two adults:\n",
            "\n",
            "1. **Monday: Chicken Stir-Fry with Vegetables:**\n",
            "   - Ingredients: 2 boneless chicken breasts, 1 cup each of sliced bell peppers, broccoli florets, carrots, and onions, 2 cloves garlic, soy sauce, sesame oil, and stir-fry noodles or rice.\n",
            "   - Preparation: Cut the chicken into bite-sized pieces and marinate in soy sauce and sesame oil for 30 minutes. Stir-fry the vegetables with garlic until tender. Add the chicken and cook until done. Serve over noodles or rice.\n",
            "\n",
            "2. **Tuesday: Taco Tuesday:**\n",
            "   - Ingredients: 200g minced beef, taco seasoning (or a mix of chili powder, cumin, garlic powder, and paprika), tortillas, lettuce, tomatoes, cheese, and salsa.\n",
            "   - Preparation: Cook the minced beef in a pan with the taco seasoning. Warm the tortillas. Set up a taco bar with the cooked beef, lettuce, tomatoes, cheese, and salsa, allowing you to customize your tacos.\n",
            "\n",
            "3. **Wednesday: Baked Salmon with Roasted Asparagus:**\n",
            "   - Ingredients: 2 salmon fillets, asparagus spears, lemon, olive oil, salt, and pepper.\n",
            "   - Preparation: Preheat the oven to 200°C. Season the salmon with salt, pepper, and a squeeze of lemon juice. Bake for 12-15 minutes. Toss asparagus in olive oil, salt, and pepper, and roast alongside the salmon for about 10 minutes.\n",
            "\n",
            "4. **Thursday: Pasta Carbonara:**\n",
            "   - Ingredients: 200g spaghetti, 2 eggs, 100g pancetta or bacon, Parmesan cheese, garlic, and black pepper.\n",
            "   - Preparation: Cook spaghetti according to package instructions. In a large bowl, whisk together eggs, grated Parmesan, and a pinch of pepper. Fry the pancetta or bacon with garlic until crispy. Toss the hot pasta with the egg mixture and bacon, coating the pasta.\n",
            "\n",
            "5. **Friday: Veggie Burger Night:**\n",
            "   - Ingredients: 2 veggie patties (store-bought or homemade), burger buns, lettuce, tomatoes, onions, and your choice of condiments.\n",
            "   - Preparation: Cook the veggie patties according to package instructions or your homemade recipe. Toast the burger buns. Serve the patties with your choice of toppings and condiments.\n",
            "\n",
            "6. **Saturday: Grilled Steak with Baked Potatoes and Salad:**\n",
            "   - Ingredients: 2 steaks of your choice, 2 medium-sized baking potatoes, salad greens, tomatoes, cucumbers, and your favorite salad dressing.\n",
            "   - Preparation: Season the steaks with salt and pepper and grill to your desired doneness. Bake the potatoes in the oven at 200°C for about 45 minutes or until tender. Prepare a simple salad with greens, tomatoes, and cucumbers.\n",
            "\n",
            "7. **Sunday: One-Pot Chicken and Rice:**\n",
            "   - Ingredients: 2 chicken leg quarters, 1 cup long-grain rice, 1 onion, 2 carrots, 2 celery stalks, garlic, chicken broth, and your choice of herbs (e.g., thyme, rosemary).\n",
            "   - Preparation: In a large pot, sauté onion, carrots, celery, and garlic. Add chicken pieces and brown on both sides. Add rice and enough chicken broth to cover. Bring to a boil, then reduce heat and simmer until rice is cooked and chicken is tender.\n",
            "\n",
            "Feel free to adjust the portions and ingredients to your liking. You can also add snacks or sides to each meal, such as garlic bread, roasted vegetables, or a simple green salad. Enjoy your week of delicious dinners!\n"
          ]
        }
      ],
      "source": [
        "messages = [\n",
        "    SystemMessage(content=\"Hello\"),\n",
        "    HumanMessage(content=\"Can you help me plan a week’s worth of dinner for two adults\"),\n",
        "]\n",
        "\n",
        "output = llm_model.invoke(messages)\n",
        "\n",
        "print(output.content)"
      ]
    },
    {
      "cell_type": "code",
      "execution_count": 127,
      "metadata": {
        "colab": {
          "base_uri": "https://localhost:8080/"
        },
        "id": "ApYui5eeRvNu",
        "outputId": "cf950256-2d7d-4a40-aa83-72c9cc66d573"
      },
      "outputs": [
        {
          "output_type": "stream",
          "name": "stdout",
          "text": [
            "Hello! How can I help you today?\n"
          ]
        }
      ],
      "source": [
        "messages = [\n",
        "    SystemMessage(content=\"Hello\"),\n",
        "    HumanMessage(content=\"hi\"),\n",
        "]\n",
        "\n",
        "output = llm_model.invoke(messages)\n",
        "\n",
        "print(output.content)"
      ]
    },
    {
      "cell_type": "markdown",
      "source": [
        "# Email Campaigns"
      ],
      "metadata": {
        "id": "HXcvOdhqWGPC"
      }
    },
    {
      "cell_type": "code",
      "execution_count": 128,
      "metadata": {
        "colab": {
          "base_uri": "https://localhost:8080/"
        },
        "id": "UFN8n_5jRvw9",
        "outputId": "c9639b8a-3407-4c65-9832-cc1462ae9bd5"
      },
      "outputs": [
        {
          "output_type": "stream",
          "name": "stdout",
          "text": [
            "Here are ten subject line ideas for your Brazil travel newsletter:\n",
            "\n",
            "1. \"Uncover the Magic of Brazil: Your Monthly Escape\"\n",
            "2. \"Samba, Sun, and Secrets: Brazil's Top Travel Tips\"\n",
            "3. \"Explore the Heart of South America: Brazil's Cultural Journey\"\n",
            "4. \"From Rio to the Amazon: A Traveler's Paradise\"\n",
            "5. \"Brazil Unveiled: Monthly Adventures Await\"\n",
            "6. \"The Ultimate Guide to Brazil's Natural Wonders\"\n",
            "7. \"Carnival, Culture, and Coastlines: Your Brazilian Experience\"\n",
            "8. \"Discover Brazil's Hidden Gems: A Local's Perspective\"\n",
            "9. \"Travel Talk: Brazil Edition - Must-See Destinations\"\n",
            "10. \"A Journey to Brazil: Where Adventure Meets Relaxation\"\n",
            "\n",
            "These subject lines aim to capture the essence of Brazil's vibrant culture, natural beauty, and unique travel experiences. Feel free to use these ideas as inspiration and tailor them to your newsletter's content!\n"
          ]
        }
      ],
      "source": [
        "messages = [\n",
        "    SystemMessage(content=\"Hello\"),\n",
        "    HumanMessage(content=\"Give me 10 subject lines for my brazil travel newsletter\"),\n",
        "]\n",
        "\n",
        "output = llm_model.invoke(messages)\n",
        "\n",
        "print(output.content)"
      ]
    },
    {
      "cell_type": "code",
      "execution_count": 129,
      "metadata": {
        "colab": {
          "base_uri": "https://localhost:8080/"
        },
        "id": "ough_NhNRwVV",
        "outputId": "8465a499-d6bd-4f10-afc8-15241b84db58"
      },
      "outputs": [
        {
          "output_type": "stream",
          "name": "stdout",
          "text": [
            "Voici une traduction en français, en gardant un ton amical :\n",
            "\n",
            "\"Cher client,\n",
            "\n",
            "Bienvenue dans notre newsletter hebdomadaire sur les voyages au Brésil !\n",
            "\n",
            "Cordialement,\n",
            "Votre équipe de passionnés de voyages.\"\n"
          ]
        }
      ],
      "source": [
        "messages = [\n",
        "    SystemMessage(content=\"Hello\"),\n",
        "    HumanMessage(content=\"Translate this email into French please. Keep the tone friendly and write it like a native. 'Dear customer, welcome to weekly brazil travel newsletter. simcerely, your travel friends.\"),\n",
        "]\n",
        "\n",
        "output = llm_model.invoke(messages)\n",
        "\n",
        "print(output.content)"
      ]
    },
    {
      "cell_type": "markdown",
      "source": [
        "# UX"
      ],
      "metadata": {
        "id": "xITG3Ev0wuIU"
      }
    },
    {
      "cell_type": "code",
      "execution_count": 130,
      "metadata": {
        "colab": {
          "base_uri": "https://localhost:8080/"
        },
        "id": "zyvVjOkzRw42",
        "outputId": "268141ad-d389-4e6a-803f-961fba9ee72a"
      },
      "outputs": [
        {
          "output_type": "stream",
          "name": "stdout",
          "text": [
            "Here are some UI design requirements for a mobile app focused on meditation and mindfulness:\n",
            "\n",
            "- **Onboarding Experience:**\n",
            "   - Create a welcoming and calming onboarding flow for new users. Use a step-by-step guide to introduce the app's purpose and benefits, allowing users to set their preferences (such as meditation goals, experience level, and preferred meditation types).\n",
            "\n",
            "- **Home Screen:**\n",
            "   - Design a minimalist and visually appealing home screen with a relaxing color palette. Feature a daily meditation reminder and a 'Meditate Now' button as the primary call-to-action.\n",
            "   - Include a progress tracker or streak counter to motivate users to maintain a consistent meditation practice.\n",
            "\n",
            "- **Meditation Library:**\n",
            "   - Develop an easily navigable library or collection of guided meditations categorized by themes (stress relief, focus, sleep, self-love, etc.). Provide brief descriptions and duration for each meditation session.\n",
            "   .\n",
            "- **Meditation Timer:**\n",
            "   - Implement a customizable meditation timer with options for duration, interval bells, and background music/nature sounds. Allow users to personalize their meditation experience.\n",
            "\n",
            "- **Breathing Exercise Tutorials:**\n",
            "   - Create interactive tutorials or animations demonstrating various breathing techniques (e.g., diaphragmatic breathing, 4-7-8 breathing) to help users prepare for meditation.\n",
            "\n",
            "- **User Profiles and Statistics:**\n",
            "   - Offer users the ability to track their meditation journey with personal profiles. Display statistics like total meditation hours, consecutive days meditated, and favorite meditation themes.\n",
            "\n",
            "- **Social and Community Features:**\n",
            "   - Consider adding a community section where users can share their experiences, leave reviews, and connect with like-minded individuals. This can provide a sense of belonging and encouragement.\n",
            "\n",
            "- **Notifications and Reminders:**\n",
            "   - Implement gentle push notifications to remind users to meditate, with options to customize the frequency and tone of the reminders.\n",
            "\n",
            "- **Personalization Options:**\n",
            "   - Allow users to customize their meditation environment with themes, background images, and sound preferences to create a soothing atmosphere.\n",
            "\n",
            "- **In-Meditation Experience:**\n",
            "   - Ensure the meditation screen is free from distractions, with a simple timer and a soothing background. Provide options to pause or end the session early if needed.\n",
            "\n",
            "- **Feedback and Rating System:**\n",
            "   - Encourage users to provide feedback on meditation sessions, allowing for continuous improvement and personalization of content.\n",
            "\n",
            "- **Accessibility Features:**\n",
            "   - Ensure the app is accessible to users with different needs. Include options for text size adjustment, color contrast settings, and support for screen readers.\n",
            "\n",
            "- **Tutorials and Education:**\n",
            "   - Provide educational content or articles about the benefits of meditation, mindfulness techniques, and tips for beginners to enhance user engagement and understanding.\n",
            "\n",
            "- **Simple Navigation:**\n",
            "   - Keep the navigation intuitive and straightforward, using familiar icons and gestures to ensure users can easily move between different sections of the app.\n",
            "\n",
            "- **Dark Mode:**\n",
            "   - Offer a dark mode option to reduce eye strain and provide a more comfortable experience, especially for evening meditation sessions.\n",
            "\n",
            "- **On-Screen Instructions:**\n",
            "   - Provide clear and concise instructions for first-time users, guiding them through the app's functionality without overwhelming them.\n",
            "\n",
            "Remember, the UI design for a meditation app should prioritize simplicity, calmness, and ease of use to create a peaceful user experience. The goal is to make meditation accessible and enjoyable for users of all experience levels.\n"
          ]
        }
      ],
      "source": [
        "messages = [\n",
        "    SystemMessage(content=\"Hello\"),\n",
        "    HumanMessage(content=\"Generate examples of UI design requirements for a mobile app for meditation\"),\n",
        "]\n",
        "\n",
        "output = llm_model.invoke(messages)\n",
        "\n",
        "print(output.content)"
      ]
    },
    {
      "cell_type": "code",
      "execution_count": 131,
      "metadata": {
        "colab": {
          "base_uri": "https://localhost:8080/"
        },
        "id": "UaMdYt-jRxbj",
        "outputId": "e349ef38-3398-4a65-9b60-327adaa3c3c8"
      },
      "outputs": [
        {
          "output_type": "stream",
          "name": "stdout",
          "text": [
            "Designing a law firm website that inspires trust and showcases authority is crucial for effectively attracting and retaining clients in the legal industry. Here are some key strategies and elements to consider when creating such a website:\n",
            "\n",
            "1. Professional Visual Design:\n",
            "\n",
            "    - Choose a Clean and Minimalist Layout: Opt for a simple and uncluttered website design. A clean layout helps users focus on the content and improves readability. Use ample white space to enhance the overall aesthetics and make the website appear more professional.\n",
            "\n",
            "    - Color Scheme: Select a color palette that evokes a sense of reliability and professionalism. Traditional colors like navy blue, dark green, or deep shades of red can convey trust and experience. Avoid overly bright or flashy colors that might distract visitors.\n",
            "\n",
            "    - High-Quality Images: Use professional, high-resolution images that represent the legal profession. Include photos of your law firm's offices, attorneys in action, or relevant legal symbols. Ensure that the images are of excellent quality and align with the overall design theme.\n",
            "\n",
            "2. Branding and Logo:\n",
            "\n",
            "    - Consistent Branding: Develop a strong brand identity for your law firm and maintain consistency throughout the website. Use the same logo, color scheme, and typography across all pages to create a unified and memorable brand presence.\n",
            "\n",
            "    - Logo Design: Create a professional logo that represents your law firm's values and expertise. A well-designed logo can instantly convey trust and establish brand recognition. Consider using legal-themed icons or abstract designs that reflect the nature of your practice areas.\n",
            "\n",
            "3. Homepage Impact:\n",
            "\n",
            "    - Clear Headline and Tagline: Start with a bold and concise headline that communicates your law firm's specialty. Follow it with a compelling tagline that highlights your unique value proposition. For example, \"Experienced Legal Advocates | Protecting Your Rights and Interests.\"\n",
            "\n",
            "    - Introduction or About Section: Include a brief overview of your law firm, its history, and its mission. Provide a snapshot of the key practice areas and the benefits clients can expect. This section should build trust and assure visitors that they are in capable hands.\n",
            "\n",
            "4. Attorney Profiles:\n",
            "\n",
            "    - Detailed Biographies: Create individual pages for each attorney or legal professional in your firm. Include their professional headshots, educational backgrounds, areas of expertise, and notable achievements. Showcase their credentials, certifications, and memberships in legal associations.\n",
            "\n",
            "    - Testimonials: Add client testimonials or quotes praising the work of specific attorneys. These testimonials can significantly enhance trust and credibility.\n",
            "\n",
            "5. Content and Copywriting:\n",
            "\n",
            "    - High-Quality Content: Write informative and authoritative content that addresses common legal concerns of your target audience. Provide insights, legal advice, and explanations in a clear and understandable manner. Regularly update the blog section with articles covering relevant legal topics.\n",
            "\n",
            "    - Use a Confident Tone: Write copy that exudes confidence and expertise. Avoid legal jargon that might alienate potential clients. Instead, use language that is accessible yet authoritative.\n",
            "\n",
            "6. Client Testimonials and Reviews:\n",
            "\n",
            "    - Showcase Client Feedback: Dedicate a section or page to client testimonials and reviews. Displaying positive experiences and success stories from real clients can significantly build trust. Include testimonials from a diverse range of clients to showcase your law firm's versatility.\n",
            "\n",
            "7. Awards and Accreditations:\n",
            "\n",
            "    - Display Credentials: If your law firm has received awards, accreditations, or has attorneys who are recognized experts in their fields, showcase these achievements. This adds credibility and reinforces your authority in the legal domain.\n",
            "\n",
            "8. Mobile-Friendly Design:\n",
            "\n",
            "    - Responsive Website: Ensure that your law firm's website is optimized for various devices, including smartphones and tablets. A mobile-friendly design ensures a seamless user experience, allowing clients to access information conveniently.\n",
            "\n",
            "9. Contact Information and Call-to-Action:\n",
            "\n",
            "    - Prominent Contact Details: Make it easy for potential clients to reach out to your law firm. Display your contact information, including phone numbers, email addresses, and physical office locations, prominently on the website.\n",
            "\n",
            "    - Call-to-Action Buttons: Encourage visitors to take the next step by including clear call-to-action buttons like \"Schedule a Consultation,\" \"Contact Us,\" or \"Request a Callback.\"\n",
            "\n",
            "10. Security and Privacy:\n",
            "\n",
            "    - SSL Certificate: Implement an SSL certificate to encrypt data transmitted through your website. This is essential for protecting client information and building trust, especially when dealing with sensitive legal matters.\n",
            "\n",
            "    - Privacy Policy: Have a comprehensive privacy policy page that outlines how you handle user data and maintain confidentiality.\n",
            "\n",
            "Remember, a well-designed law firm website should not only look professional but also provide valuable information and resources to potential clients. By combining a trustworthy design, compelling content, and a user-friendly interface, you can create a powerful online presence that attracts and retains clients.\n"
          ]
        }
      ],
      "source": [
        "messages = [\n",
        "    SystemMessage(content=\"Hello\"),\n",
        "    HumanMessage(content=\"How can I design a law firm website in a way that conveys trust and authority\"),\n",
        "]\n",
        "\n",
        "output = llm_model.invoke(messages)\n",
        "\n",
        "print(output.content)"
      ]
    },
    {
      "cell_type": "markdown",
      "source": [
        "# Travel and Tourism"
      ],
      "metadata": {
        "id": "UdxO5k8v8JHr"
      }
    },
    {
      "cell_type": "code",
      "execution_count": 132,
      "metadata": {
        "colab": {
          "base_uri": "https://localhost:8080/"
        },
        "id": "0NvfnFZARx_l",
        "outputId": "67c6e018-9774-4d7d-96fc-55861abb40af"
      },
      "outputs": [
        {
          "output_type": "stream",
          "name": "stdout",
          "text": [
            "Here is a suggested itinerary for a 5-day trip to Paris with a budget of $1500:\n",
            "\n",
            "**Day 1:**\n",
            "- Arrival and Check-in: Start your trip by checking into a cozy boutique hotel in the charming Montmartre neighborhood. You can find great accommodation options in this area within your budget. Average cost: $100-150 per night.\n",
            "- Lunch at a Crêperie: Enjoy a traditional French crêpe and a glass of cider at a local crêperie in Montmartre. Average cost: $20-30.\n",
            "- Explore Montmartre: Wander through the artistic streets of Montmartre, visit the iconic Sacré-Cœur Basilica, and explore the historic Moulin Rouge.\n",
            "- Dinner at a Bistro: Indulge in classic French cuisine at a bistro nearby. Try dishes like steak frites or coq au vin. Average cost: $40-60.\n",
            "\n",
            "**Day 2:**\n",
            "- Eiffel Tower and Seine River Cruise: Begin your day by visiting the Eiffel Tower and purchasing a ticket to the top for breathtaking views. Average ticket price: $30-40. After, take a romantic Seine River cruise to see the city's beautiful bridges and architecture. Average cruise cost: $20-30.\n",
            "- Lunch near the Eiffel Tower: Enjoy a picnic lunch in the Champ de Mars park, offering stunning views of the tower.\n",
            "- Explore the Louvre Museum: Spend the afternoon at the renowned Louvre, home to masterpieces like the Mona Lisa. Ticket price: Free for those under 26, otherwise $20-25.\n",
            "- Dinner in Le Marais: Head to the vibrant Le Marais district for dinner. This area offers a variety of restaurants and cuisines. Average cost: $30-50.\n",
            "\n",
            "**Day 3:**\n",
            "- Palace of Versailles: Dedicate a day to exploring the grand Palace of Versailles. Take a guided tour or explore the palace and gardens at your own pace. Ticket price: $25-35.\n",
            "- Lunch in Versailles: Try traditional French cuisine at a restaurant near the palace. Average cost: $30-40.\n",
            "- Explore the Latin Quarter: In the evening, visit the lively Latin Quarter, known for its student atmosphere and great dining options. Enjoy a casual dinner at a local brasserie. Average cost: $25-35.\n",
            "\n",
            "**Day 4:**\n",
            "- Morning at the Musée d'Orsay: Start your day at the Musée d'Orsay, famous for its Impressionist art collection. Ticket price: $15-20.\n",
            "- Stroll along the Champs-Élysées: After the museum, walk along the famous Champs-Élysées, stopping for lunch at a café. Average lunch cost: $20-30.\n",
            "- Arc de Triomphe: Climb up the Arc de Triomphe for panoramic views of the city. Ticket price: $15-20.\n",
            "- Dinner and Nightlife in Bastille: Explore the vibrant nightlife in the Bastille district, offering a variety of bars and restaurants. Average dinner cost: $30-40.\n",
            "\n",
            "**Day 5:**\n",
            "- Notre-Dame Cathedral and Île de la Cité: Visit the iconic Notre-Dame (entry is free) and explore the historic Île de la Cité.\n",
            "- Lunch at a Market: Head to the Marais for lunch at a local market, such as the Marché des Enfants Rouges. Average lunch cost: $15-20.\n",
            "- Sainte-Chapelle and the Latin Quarter: Visit the stunning Sainte-Chapelle, known for its beautiful stained glass. Ticket price: $10-15. Then, spend the rest of the day exploring the Latin Quarter's bookstores and cafes.\n",
            "- Farewell Dinner: Celebrate your last night with a special dinner at a Michelin-starred restaurant. A tasting menu can be found within your budget. Average cost: $100-150.\n",
            "\n",
            "**Estimated Costs:**\n",
            "- Accommodation (5 nights): $500-750\n",
            "- Meals and Activities: $750-950\n",
            "\n",
            "This itinerary provides a mix of cultural attractions, delicious food, and a comfortable stay while ensuring you stay within your budget. Remember to book tickets and accommodations in advance to secure the best prices. Enjoy your Parisian adventure!\n"
          ]
        }
      ],
      "source": [
        "messages = [\n",
        "    SystemMessage(content=\"Hello\"),\n",
        "    HumanMessage(content=\"Plan a $1500 5-day trip in Paris. Give me the itinerary\"),\n",
        "]\n",
        "\n",
        "output = llm_model.invoke(messages)\n",
        "\n",
        "print(output.content)"
      ]
    },
    {
      "cell_type": "code",
      "execution_count": 133,
      "metadata": {
        "colab": {
          "base_uri": "https://localhost:8080/"
        },
        "id": "0HYhaJ-FRyme",
        "outputId": "95038a9d-532e-4b28-c630-5520edcfdd9e"
      },
      "outputs": [
        {
          "output_type": "stream",
          "name": "stdout",
          "text": [
            "Here is a suggested itinerary for a three-week backpacking trip through Europe on a student's budget, focusing on cities renowned for their street food and market scenes:\n",
            "\n",
            "**Week 1: Spain and Portugal**\n",
            "\n",
            "- **Barcelona, Spain (3 days):** Start your journey in Barcelona, a vibrant city with a rich cultural heritage. Visit La Boqueria, one of Europe's most famous food markets, offering an array of fresh produce, local cheeses, and mouth-watering charcuterie. Stroll down La Rambla and explore the Gothic Quarter for delicious tapas and pinxtos bars.\n",
            "- **Valencia, Spain (2 days):** Take a high-speed train to Valencia, known for its modern architecture and traditional cuisine. Check out the Central Market (Mercado Central), a bustling food market housed in a stunning Art Nouveau building. Try the local specialty, Paella Valenciana, at the historic La Lonja district.\n",
            "- **Lisbon, Portugal (3 days):** Fly or take a bus to Lisbon, a charming city with beautiful tile art and lively markets. Explore the Time Out Market, a popular food hall with various Portuguese cuisine options. Visit the neighborhood of Alfama for traditional restaurants and Fado music. Don't miss the street food scene at the Intendente Square.\n",
            "- **Day Trip to Sintra: (1 day)** Take a short train ride to Sintra, a fairy-tale-like town with colorful palaces and castles. Enjoy local pastries and explore the Sintra Market.\n",
            "\n",
            "**Week 2: Central Europe**\n",
            "\n",
            "- **Budapest, Hungary (3 days):** Fly to Budapest, a beautiful city divided by the Danube River. Visit the Great Market Hall, a vast indoor market with traditional Hungarian food and souvenirs. Try the famous Langos (fried dough) and local sausages. Enjoy a thermal bath experience, many of which offer affordable entry fees.\n",
            "- **Prague, Czech Republic (3 days):** Travel to Prague by bus or train. Explore the Old Town Square and Wenceslas Square for traditional Czech restaurants and beer halls. Visit the Prague Food Market in the Holesovice district for a variety of international and local street food options.\n",
            "- **Berlin, Germany (3 days):** Head to Berlin, a city with a vibrant street food culture. Check out Street Food Thursday at Markthalle Neun, a weekly event featuring international and local street food vendors. Explore the multicultural Kreuzberg district for affordable bites and the famous Turkish Market (Türkischer Markt).\n",
            "\n",
            "**Week 3: Eastern Europe**\n",
            "\n",
            "- **Warsaw, Poland (2 days):** Warsaw offers a mix of history and delicious street food. Visit Hala Koszyki, a historic market hall turned gourmet food court. Try traditional Polish dishes like pierogi and zapiekanka (Polish open-faced pizza).\n",
            "- **Krakow, Poland (2 days):** Take a train to Krakow, a charming city with a lively market scene. Explore the Rynek Główny (Main Square) and the nearby Kazimierz district for Jewish-influenced cuisine. Visit the Stary Kleparz market for local produce and snacks.\n",
            "- **Istanbul, Turkey (4 days):** Fly to Istanbul for an unforgettable street food experience. Wander through the Spice Bazaar and sample local delights like simit, köfte, and Turkish delight. Visit the Kadikoy Market on the Asian side for a more local experience. Don't miss the street food vendors at Taksim Square.\n",
            "\n",
            "Remember to book accommodations in advance to fit your student budget, and consider using public transportation or budget travel apps for affordable intercity travel. These cities offer a mix of cultural experiences and delicious street food adventures that will create lasting memories. \n",
            "\n",
            "You can also look for free or low-cost activities in each city, such as free walking tours, museum days, or public events, to enhance your trip without straining your budget. Enjoy your European backpacking adventure!\n"
          ]
        }
      ],
      "source": [
        "messages = [\n",
        "    SystemMessage(content=\"Hello\"),\n",
        "    HumanMessage(content=\"I want to plan a three-week backpacking trip through Europe. I have a student’s budget, and I love finding local street food and open markets. Can you suggest an itinerary for me?\"),\n",
        "]\n",
        "\n",
        "output = llm_model.invoke(messages)\n",
        "\n",
        "print(output.content)"
      ]
    },
    {
      "cell_type": "code",
      "execution_count": 134,
      "metadata": {
        "colab": {
          "base_uri": "https://localhost:8080/"
        },
        "id": "t_cUAKDRRzN3",
        "outputId": "cc3f96fb-01bf-4b9a-adc5-5c14ff68cf0b"
      },
      "outputs": [
        {
          "output_type": "stream",
          "name": "stdout",
          "text": [
            "Hello! How can I help you today?\n"
          ]
        }
      ],
      "source": [
        "messages = [\n",
        "    SystemMessage(content=\"Hello\"),\n",
        "    HumanMessage(content=\"hi\"),\n",
        "]\n",
        "\n",
        "output = llm_model.invoke(messages)\n",
        "\n",
        "print(output.content)"
      ]
    },
    {
      "cell_type": "code",
      "execution_count": 134,
      "metadata": {
        "id": "xQkFu-_IRzt4"
      },
      "outputs": [],
      "source": []
    },
    {
      "cell_type": "code",
      "execution_count": 134,
      "metadata": {
        "id": "rTgqP9yRR0ME"
      },
      "outputs": [],
      "source": []
    },
    {
      "cell_type": "code",
      "execution_count": 134,
      "metadata": {
        "id": "TBdHEsuZR0zE"
      },
      "outputs": [],
      "source": []
    },
    {
      "cell_type": "code",
      "execution_count": 134,
      "metadata": {
        "id": "6K0uLYYJR1dm"
      },
      "outputs": [],
      "source": []
    },
    {
      "cell_type": "code",
      "execution_count": 134,
      "metadata": {
        "id": "k64Wtm3hR2Kt"
      },
      "outputs": [],
      "source": []
    }
  ],
  "metadata": {
    "colab": {
      "provenance": []
    },
    "kernelspec": {
      "display_name": "Python 3 (Anaconda)",
      "language": "python",
      "name": "anaconda3"
    },
    "language_info": {
      "codemirror_mode": {
        "name": "ipython",
        "version": 3
      },
      "file_extension": ".py",
      "mimetype": "text/x-python",
      "name": "python",
      "nbconvert_exporter": "python",
      "pygments_lexer": "ipython3",
      "version": "3.5.4"
    }
  },
  "nbformat": 4,
  "nbformat_minor": 0
}