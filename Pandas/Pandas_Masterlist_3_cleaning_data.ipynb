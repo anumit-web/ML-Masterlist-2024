{
  "cells": [
    {
      "cell_type": "markdown",
      "metadata": {
        "id": "view-in-github",
        "colab_type": "text"
      },
      "source": [
        "<a href=\"https://colab.research.google.com/github/anumit-web/ML-Masterlist-2024/blob/main/Pandas/Pandas_Masterlist_3_cleaning_data.ipynb\" target=\"_parent\"><img src=\"https://colab.research.google.com/assets/colab-badge.svg\" alt=\"Open In Colab\"/></a>"
      ]
    },
    {
      "cell_type": "markdown",
      "source": [
        "# Pandas"
      ],
      "metadata": {
        "id": "ja8LDTgwROXl"
      }
    },
    {
      "cell_type": "markdown",
      "source": [
        "# Cleaning data"
      ],
      "metadata": {
        "id": "lOcp_ZFFRQM_"
      }
    },
    {
      "cell_type": "markdown",
      "source": [],
      "metadata": {
        "id": "V3FsWB7uRtvQ"
      }
    },
    {
      "cell_type": "code",
      "source": [
        "import pandas as pd\n",
        "\n",
        "# create a sample dataframe\n",
        "data = {'Name': ['John', 'Anna', None, 'Linda'],\n",
        "        'Age': [28, 24, 35, None]}\n",
        "df = pd.DataFrame(data)\n",
        "\n",
        "print(df)"
      ],
      "metadata": {
        "id": "0p28DW8PRuIh",
        "colab": {
          "base_uri": "https://localhost:8080/"
        },
        "outputId": "2fdd5784-47bf-45b2-8c3b-9de6baa76804"
      },
      "execution_count": 1,
      "outputs": [
        {
          "output_type": "stream",
          "name": "stdout",
          "text": [
            "    Name   Age\n",
            "0   John  28.0\n",
            "1   Anna  24.0\n",
            "2   None  35.0\n",
            "3  Linda   NaN\n"
          ]
        }
      ]
    },
    {
      "cell_type": "code",
      "source": [
        "# remove rows with missing values\n",
        "df = df.dropna()\n",
        "\n",
        "print(df)"
      ],
      "metadata": {
        "id": "hlWeKHOiRu6X",
        "colab": {
          "base_uri": "https://localhost:8080/"
        },
        "outputId": "b8d8033f-77ae-40c7-e04f-4838e3ef9a0f"
      },
      "execution_count": 2,
      "outputs": [
        {
          "output_type": "stream",
          "name": "stdout",
          "text": [
            "   Name   Age\n",
            "0  John  28.0\n",
            "1  Anna  24.0\n"
          ]
        }
      ]
    },
    {
      "cell_type": "code",
      "source": [
        "import pandas as pd\n",
        "\n",
        "# create a sample dataframe\n",
        "data = {'Name': ['John', 'Anna', None, 'Linda'],\n",
        "        'Age': [28, 24, 35, None]}\n",
        "df = pd.DataFrame(data)\n",
        "\n",
        "print(df)"
      ],
      "metadata": {
        "id": "h5gXicrzRvJv",
        "colab": {
          "base_uri": "https://localhost:8080/"
        },
        "outputId": "c5e66bb0-4316-4b5b-c8c8-b94961d06cb1"
      },
      "execution_count": 3,
      "outputs": [
        {
          "output_type": "stream",
          "name": "stdout",
          "text": [
            "    Name   Age\n",
            "0   John  28.0\n",
            "1   Anna  24.0\n",
            "2   None  35.0\n",
            "3  Linda   NaN\n"
          ]
        }
      ]
    },
    {
      "cell_type": "code",
      "source": [],
      "metadata": {
        "id": "-x8wIcIhRvwE"
      },
      "execution_count": 2,
      "outputs": []
    },
    {
      "cell_type": "code",
      "source": [],
      "metadata": {
        "id": "Iqpu-04TRwXH"
      },
      "execution_count": 2,
      "outputs": []
    },
    {
      "cell_type": "code",
      "source": [],
      "metadata": {
        "id": "bCy9hElUsDke"
      },
      "execution_count": null,
      "outputs": []
    },
    {
      "cell_type": "code",
      "source": [],
      "metadata": {
        "id": "vxm8nJgwsEQm"
      },
      "execution_count": null,
      "outputs": []
    },
    {
      "cell_type": "code",
      "source": [],
      "metadata": {
        "id": "sBdLrqjvsE5R"
      },
      "execution_count": null,
      "outputs": []
    },
    {
      "cell_type": "code",
      "source": [],
      "metadata": {
        "id": "n7KWSP4GsFWZ"
      },
      "execution_count": null,
      "outputs": []
    }
  ],
  "metadata": {
    "kernelspec": {
      "display_name": "Python 3",
      "name": "python3"
    },
    "language_info": {
      "name": "python"
    },
    "colab": {
      "provenance": [],
      "include_colab_link": true
    }
  },
  "nbformat": 4,
  "nbformat_minor": 0
}