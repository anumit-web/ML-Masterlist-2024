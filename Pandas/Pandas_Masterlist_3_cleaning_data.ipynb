{
  "cells": [
    {
      "cell_type": "markdown",
      "metadata": {
        "id": "view-in-github",
        "colab_type": "text"
      },
      "source": [
        "<a href=\"https://colab.research.google.com/github/anumit-web/ML-Masterlist-2024/blob/main/Pandas/Pandas_Masterlist_3_cleaning_data.ipynb\" target=\"_parent\"><img src=\"https://colab.research.google.com/assets/colab-badge.svg\" alt=\"Open In Colab\"/></a>"
      ]
    },
    {
      "cell_type": "markdown",
      "source": [
        "# Pandas"
      ],
      "metadata": {
        "id": "ja8LDTgwROXl"
      }
    },
    {
      "cell_type": "markdown",
      "source": [
        "# Cleaning data"
      ],
      "metadata": {
        "id": "lOcp_ZFFRQM_"
      }
    },
    {
      "cell_type": "markdown",
      "source": [],
      "metadata": {
        "id": "V3FsWB7uRtvQ"
      }
    },
    {
      "cell_type": "code",
      "source": [
        "import pandas as pd\n",
        "\n",
        "# create a sample dataframe\n",
        "data = {'Name': ['John', 'Anna', None, 'Linda'],\n",
        "        'Age': [28, 24, 35, None]}\n",
        "df = pd.DataFrame(data)\n",
        "\n",
        "print(df)"
      ],
      "metadata": {
        "id": "0p28DW8PRuIh",
        "colab": {
          "base_uri": "https://localhost:8080/"
        },
        "outputId": "1245efed-4219-4443-d31d-32a56afef247"
      },
      "execution_count": 11,
      "outputs": [
        {
          "output_type": "stream",
          "name": "stdout",
          "text": [
            "    Name   Age\n",
            "0   John  28.0\n",
            "1   Anna  24.0\n",
            "2   None  35.0\n",
            "3  Linda   NaN\n"
          ]
        }
      ]
    },
    {
      "cell_type": "code",
      "source": [
        "# remove rows with missing values\n",
        "df = df.dropna()\n",
        "\n",
        "print(df)"
      ],
      "metadata": {
        "id": "hlWeKHOiRu6X",
        "colab": {
          "base_uri": "https://localhost:8080/"
        },
        "outputId": "25951fe1-901a-4017-ad09-e65696529021"
      },
      "execution_count": 12,
      "outputs": [
        {
          "output_type": "stream",
          "name": "stdout",
          "text": [
            "   Name   Age\n",
            "0  John  28.0\n",
            "1  Anna  24.0\n"
          ]
        }
      ]
    },
    {
      "cell_type": "code",
      "source": [
        "import pandas as pd\n",
        "\n",
        "# create a sample dataframe\n",
        "data = {'Name': ['John', 'Anna', None, 'Linda'],\n",
        "        'Age': [28, 24, 35, None]}\n",
        "df = pd.DataFrame(data)\n",
        "\n",
        "print(df)"
      ],
      "metadata": {
        "id": "h5gXicrzRvJv",
        "colab": {
          "base_uri": "https://localhost:8080/"
        },
        "outputId": "f72f4170-6a15-40ee-9f70-f0e9d5b80f09"
      },
      "execution_count": 13,
      "outputs": [
        {
          "output_type": "stream",
          "name": "stdout",
          "text": [
            "    Name   Age\n",
            "0   John  28.0\n",
            "1   Anna  24.0\n",
            "2   None  35.0\n",
            "3  Linda   NaN\n"
          ]
        }
      ]
    },
    {
      "cell_type": "code",
      "source": [
        "# replace missing values with a specified value\n",
        "df = df.fillna('Unknown')\n",
        "\n",
        "print(df)"
      ],
      "metadata": {
        "id": "-x8wIcIhRvwE",
        "colab": {
          "base_uri": "https://localhost:8080/"
        },
        "outputId": "d9c52c00-40ed-468c-d8f5-45e87e55142a"
      },
      "execution_count": 14,
      "outputs": [
        {
          "output_type": "stream",
          "name": "stdout",
          "text": [
            "      Name      Age\n",
            "0     John     28.0\n",
            "1     Anna     24.0\n",
            "2  Unknown     35.0\n",
            "3    Linda  Unknown\n"
          ]
        }
      ]
    },
    {
      "cell_type": "code",
      "source": [
        "import pandas as pd\n",
        "\n",
        "# create a sample dataframe\n",
        "data = {'Name': ['John', 'Anna', None, 'Linda'],\n",
        "        'Age': [28, 24, 35, None]}\n",
        "df = pd.DataFrame(data)\n",
        "\n",
        "print(df)"
      ],
      "metadata": {
        "colab": {
          "base_uri": "https://localhost:8080/"
        },
        "id": "vxm8nJgwsEQm",
        "outputId": "40c56603-6b34-4d82-aeac-d622895e1916"
      },
      "execution_count": 15,
      "outputs": [
        {
          "output_type": "stream",
          "name": "stdout",
          "text": [
            "    Name   Age\n",
            "0   John  28.0\n",
            "1   Anna  24.0\n",
            "2   None  35.0\n",
            "3  Linda   NaN\n"
          ]
        }
      ]
    },
    {
      "cell_type": "code",
      "source": [
        "# replace missing values with a dictionary of values\n",
        "df = df.fillna({'Name': 'Unknown', 'Age': 0})\n",
        "\n",
        "print(df)"
      ],
      "metadata": {
        "colab": {
          "base_uri": "https://localhost:8080/"
        },
        "id": "A9c6DpHKttWV",
        "outputId": "ecc59d73-3986-4378-a16d-acabcc138d41"
      },
      "execution_count": 16,
      "outputs": [
        {
          "output_type": "stream",
          "name": "stdout",
          "text": [
            "      Name   Age\n",
            "0     John  28.0\n",
            "1     Anna  24.0\n",
            "2  Unknown  35.0\n",
            "3    Linda   0.0\n"
          ]
        }
      ]
    },
    {
      "cell_type": "code",
      "source": [],
      "metadata": {
        "id": "DIMcIZBwtuCg"
      },
      "execution_count": 16,
      "outputs": []
    },
    {
      "cell_type": "code",
      "source": [],
      "metadata": {
        "id": "FZmSQCngtuds"
      },
      "execution_count": 16,
      "outputs": []
    },
    {
      "cell_type": "code",
      "source": [],
      "metadata": {
        "id": "sBdLrqjvsE5R"
      },
      "execution_count": 16,
      "outputs": []
    },
    {
      "cell_type": "code",
      "source": [],
      "metadata": {
        "id": "n7KWSP4GsFWZ"
      },
      "execution_count": 16,
      "outputs": []
    }
  ],
  "metadata": {
    "kernelspec": {
      "display_name": "Python 3",
      "name": "python3"
    },
    "language_info": {
      "name": "python"
    },
    "colab": {
      "provenance": [],
      "include_colab_link": true
    }
  },
  "nbformat": 4,
  "nbformat_minor": 0
}