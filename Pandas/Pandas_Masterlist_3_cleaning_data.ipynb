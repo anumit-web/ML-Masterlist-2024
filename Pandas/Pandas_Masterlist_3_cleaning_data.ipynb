{
  "cells": [
    {
      "cell_type": "markdown",
      "metadata": {
        "id": "view-in-github",
        "colab_type": "text"
      },
      "source": [
        "<a href=\"https://colab.research.google.com/github/anumit-web/ML-Masterlist-2024/blob/main/Pandas/Pandas_Masterlist_3_cleaning_data.ipynb\" target=\"_parent\"><img src=\"https://colab.research.google.com/assets/colab-badge.svg\" alt=\"Open In Colab\"/></a>"
      ]
    },
    {
      "cell_type": "markdown",
      "source": [
        "# Pandas"
      ],
      "metadata": {
        "id": "ja8LDTgwROXl"
      }
    },
    {
      "cell_type": "markdown",
      "source": [
        "# Cleaning data"
      ],
      "metadata": {
        "id": "lOcp_ZFFRQM_"
      }
    },
    {
      "cell_type": "markdown",
      "source": [],
      "metadata": {
        "id": "V3FsWB7uRtvQ"
      }
    },
    {
      "cell_type": "code",
      "source": [
        "import pandas as pd\n",
        "\n",
        "# create a sample dataframe\n",
        "data = {'Name': ['John', 'Anna', None, 'Linda'],\n",
        "        'Age': [28, 24, 35, None]}\n",
        "df = pd.DataFrame(data)\n",
        "\n",
        "print(df)"
      ],
      "metadata": {
        "id": "0p28DW8PRuIh",
        "colab": {
          "base_uri": "https://localhost:8080/"
        },
        "outputId": "73a0ec39-0273-46f3-9915-b6d59d2e87a1"
      },
      "execution_count": 19,
      "outputs": [
        {
          "output_type": "stream",
          "name": "stdout",
          "text": [
            "    Name   Age\n",
            "0   John  28.0\n",
            "1   Anna  24.0\n",
            "2   None  35.0\n",
            "3  Linda   NaN\n"
          ]
        }
      ]
    },
    {
      "cell_type": "code",
      "source": [
        "# remove rows with missing values\n",
        "df = df.dropna()\n",
        "\n",
        "print(df)"
      ],
      "metadata": {
        "id": "hlWeKHOiRu6X",
        "colab": {
          "base_uri": "https://localhost:8080/"
        },
        "outputId": "c036021a-a078-423f-a578-e2fa4124687d"
      },
      "execution_count": 20,
      "outputs": [
        {
          "output_type": "stream",
          "name": "stdout",
          "text": [
            "   Name   Age\n",
            "0  John  28.0\n",
            "1  Anna  24.0\n"
          ]
        }
      ]
    },
    {
      "cell_type": "code",
      "source": [
        "import pandas as pd\n",
        "\n",
        "# create a sample dataframe\n",
        "data = {'Name': ['John', 'Anna', None, 'Linda'],\n",
        "        'Age': [28, 24, 35, None]}\n",
        "df = pd.DataFrame(data)\n",
        "\n",
        "print(df)"
      ],
      "metadata": {
        "id": "h5gXicrzRvJv",
        "colab": {
          "base_uri": "https://localhost:8080/"
        },
        "outputId": "c2141be2-699c-40b0-bb97-f200d913e5a3"
      },
      "execution_count": 21,
      "outputs": [
        {
          "output_type": "stream",
          "name": "stdout",
          "text": [
            "    Name   Age\n",
            "0   John  28.0\n",
            "1   Anna  24.0\n",
            "2   None  35.0\n",
            "3  Linda   NaN\n"
          ]
        }
      ]
    },
    {
      "cell_type": "code",
      "source": [
        "# replace missing values with a specified value\n",
        "df = df.fillna('Unknown')\n",
        "\n",
        "print(df)"
      ],
      "metadata": {
        "id": "-x8wIcIhRvwE",
        "colab": {
          "base_uri": "https://localhost:8080/"
        },
        "outputId": "301aa62c-f713-4512-b7fc-d43f7124af56"
      },
      "execution_count": 22,
      "outputs": [
        {
          "output_type": "stream",
          "name": "stdout",
          "text": [
            "      Name      Age\n",
            "0     John     28.0\n",
            "1     Anna     24.0\n",
            "2  Unknown     35.0\n",
            "3    Linda  Unknown\n"
          ]
        }
      ]
    },
    {
      "cell_type": "code",
      "source": [
        "import pandas as pd\n",
        "\n",
        "# create a sample dataframe\n",
        "data = {'Name': ['John', 'Anna', None, 'Linda'],\n",
        "        'Age': [28, 24, 35, None]}\n",
        "df = pd.DataFrame(data)\n",
        "\n",
        "print(df)"
      ],
      "metadata": {
        "colab": {
          "base_uri": "https://localhost:8080/"
        },
        "id": "vxm8nJgwsEQm",
        "outputId": "a011f543-e235-439d-b85a-1983ee4d91bb"
      },
      "execution_count": 23,
      "outputs": [
        {
          "output_type": "stream",
          "name": "stdout",
          "text": [
            "    Name   Age\n",
            "0   John  28.0\n",
            "1   Anna  24.0\n",
            "2   None  35.0\n",
            "3  Linda   NaN\n"
          ]
        }
      ]
    },
    {
      "cell_type": "code",
      "source": [
        "# replace missing values with a dictionary of values\n",
        "df = df.fillna({'Name': 'Unknown', 'Age': 0})\n",
        "\n",
        "print(df)"
      ],
      "metadata": {
        "colab": {
          "base_uri": "https://localhost:8080/"
        },
        "id": "A9c6DpHKttWV",
        "outputId": "50d55d55-613f-429b-97dd-69524fc7e12d"
      },
      "execution_count": 24,
      "outputs": [
        {
          "output_type": "stream",
          "name": "stdout",
          "text": [
            "      Name   Age\n",
            "0     John  28.0\n",
            "1     Anna  24.0\n",
            "2  Unknown  35.0\n",
            "3    Linda   0.0\n"
          ]
        }
      ]
    },
    {
      "cell_type": "code",
      "source": [
        "import pandas as pd\n",
        "\n",
        "# create a sample dataframe\n",
        "data = {'Name': ['John', 'Anna', None, 'Linda'],\n",
        "        'Age': [28, 24, 35, None]}\n",
        "df = pd.DataFrame(data)\n",
        "\n",
        "print(df)"
      ],
      "metadata": {
        "colab": {
          "base_uri": "https://localhost:8080/"
        },
        "id": "DIMcIZBwtuCg",
        "outputId": "7e962ef3-5d19-4830-d3ab-42ecb5e7201f"
      },
      "execution_count": 25,
      "outputs": [
        {
          "output_type": "stream",
          "name": "stdout",
          "text": [
            "    Name   Age\n",
            "0   John  28.0\n",
            "1   Anna  24.0\n",
            "2   None  35.0\n",
            "3  Linda   NaN\n"
          ]
        }
      ]
    },
    {
      "cell_type": "code",
      "source": [
        "# replace missing values with a dictionary of values\n",
        "df = df.fillna({'Name': 'Unknown'})\n",
        "\n",
        "print(df)"
      ],
      "metadata": {
        "colab": {
          "base_uri": "https://localhost:8080/"
        },
        "id": "FZmSQCngtuds",
        "outputId": "85887fc5-6c78-4d2c-b25c-43412d3c2780"
      },
      "execution_count": 26,
      "outputs": [
        {
          "output_type": "stream",
          "name": "stdout",
          "text": [
            "      Name   Age\n",
            "0     John  28.0\n",
            "1     Anna  24.0\n",
            "2  Unknown  35.0\n",
            "3    Linda   NaN\n"
          ]
        }
      ]
    },
    {
      "cell_type": "code",
      "source": [],
      "metadata": {
        "id": "sBdLrqjvsE5R"
      },
      "execution_count": 26,
      "outputs": []
    },
    {
      "cell_type": "code",
      "source": [],
      "metadata": {
        "id": "n7KWSP4GsFWZ"
      },
      "execution_count": 26,
      "outputs": []
    }
  ],
  "metadata": {
    "kernelspec": {
      "display_name": "Python 3",
      "name": "python3"
    },
    "language_info": {
      "name": "python"
    },
    "colab": {
      "provenance": [],
      "include_colab_link": true
    }
  },
  "nbformat": 4,
  "nbformat_minor": 0
}