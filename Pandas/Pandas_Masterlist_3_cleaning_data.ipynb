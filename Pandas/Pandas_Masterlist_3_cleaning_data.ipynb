{
  "cells": [
    {
      "cell_type": "markdown",
      "metadata": {
        "id": "view-in-github",
        "colab_type": "text"
      },
      "source": [
        "<a href=\"https://colab.research.google.com/github/anumit-web/ML-Masterlist-2024/blob/main/Pandas/Pandas_Masterlist_3_cleaning_data.ipynb\" target=\"_parent\"><img src=\"https://colab.research.google.com/assets/colab-badge.svg\" alt=\"Open In Colab\"/></a>"
      ]
    },
    {
      "cell_type": "markdown",
      "source": [
        "# Pandas"
      ],
      "metadata": {
        "id": "ja8LDTgwROXl"
      }
    },
    {
      "cell_type": "markdown",
      "source": [
        "# Cleaning data"
      ],
      "metadata": {
        "id": "lOcp_ZFFRQM_"
      }
    },
    {
      "cell_type": "markdown",
      "source": [],
      "metadata": {
        "id": "V3FsWB7uRtvQ"
      }
    },
    {
      "cell_type": "code",
      "source": [
        "import pandas as pd\n",
        "\n",
        "# create a sample dataframe\n",
        "data = {'Name': ['John', 'Anna', None, 'Linda'],\n",
        "        'Age': [28, 24, 35, None]}\n",
        "df = pd.DataFrame(data)\n",
        "\n",
        "print(df)"
      ],
      "metadata": {
        "id": "0p28DW8PRuIh",
        "colab": {
          "base_uri": "https://localhost:8080/"
        },
        "outputId": "25f61cca-f7f6-4700-ba7c-16adae4421c8"
      },
      "execution_count": 5,
      "outputs": [
        {
          "output_type": "stream",
          "name": "stdout",
          "text": [
            "    Name   Age\n",
            "0   John  28.0\n",
            "1   Anna  24.0\n",
            "2   None  35.0\n",
            "3  Linda   NaN\n"
          ]
        }
      ]
    },
    {
      "cell_type": "code",
      "source": [
        "# remove rows with missing values\n",
        "df = df.dropna()\n",
        "\n",
        "print(df)"
      ],
      "metadata": {
        "id": "hlWeKHOiRu6X",
        "colab": {
          "base_uri": "https://localhost:8080/"
        },
        "outputId": "45cd1bca-8a0f-40c8-e6c1-954dab9c0a02"
      },
      "execution_count": 6,
      "outputs": [
        {
          "output_type": "stream",
          "name": "stdout",
          "text": [
            "   Name   Age\n",
            "0  John  28.0\n",
            "1  Anna  24.0\n"
          ]
        }
      ]
    },
    {
      "cell_type": "code",
      "source": [
        "import pandas as pd\n",
        "\n",
        "# create a sample dataframe\n",
        "data = {'Name': ['John', 'Anna', None, 'Linda'],\n",
        "        'Age': [28, 24, 35, None]}\n",
        "df = pd.DataFrame(data)\n",
        "\n",
        "print(df)"
      ],
      "metadata": {
        "id": "h5gXicrzRvJv",
        "colab": {
          "base_uri": "https://localhost:8080/"
        },
        "outputId": "0d043a63-9ac5-45e4-ba6c-748e71055efd"
      },
      "execution_count": 7,
      "outputs": [
        {
          "output_type": "stream",
          "name": "stdout",
          "text": [
            "    Name   Age\n",
            "0   John  28.0\n",
            "1   Anna  24.0\n",
            "2   None  35.0\n",
            "3  Linda   NaN\n"
          ]
        }
      ]
    },
    {
      "cell_type": "code",
      "source": [
        "# replace missing values with a specified value\n",
        "df = df.fillna('Unknown')\n",
        "\n",
        "print(df)"
      ],
      "metadata": {
        "id": "-x8wIcIhRvwE",
        "colab": {
          "base_uri": "https://localhost:8080/"
        },
        "outputId": "72ecc26e-9e97-4b80-8906-9af6f720c5be"
      },
      "execution_count": 8,
      "outputs": [
        {
          "output_type": "stream",
          "name": "stdout",
          "text": [
            "      Name      Age\n",
            "0     John     28.0\n",
            "1     Anna     24.0\n",
            "2  Unknown     35.0\n",
            "3    Linda  Unknown\n"
          ]
        }
      ]
    },
    {
      "cell_type": "code",
      "source": [
        "import pandas as pd\n",
        "\n",
        "# create a sample dataframe\n",
        "data = {'Name': ['John', 'Anna', None, 'Linda'],\n",
        "        'Age': [28, 24, 35, None]}\n",
        "df = pd.DataFrame(data)\n"
      ],
      "metadata": {
        "id": "vxm8nJgwsEQm"
      },
      "execution_count": 9,
      "outputs": []
    },
    {
      "cell_type": "code",
      "source": [
        "# replace missing values with a dictionary of values\n",
        "df = df.fillna({'Name': 'Unknown', 'Age': 0})\n",
        "\n",
        "print(df)"
      ],
      "metadata": {
        "id": "A9c6DpHKttWV",
        "outputId": "c0b787f2-7cab-4b44-aef9-97bc50f82ac4",
        "colab": {
          "base_uri": "https://localhost:8080/"
        }
      },
      "execution_count": 10,
      "outputs": [
        {
          "output_type": "stream",
          "name": "stdout",
          "text": [
            "      Name   Age\n",
            "0     John  28.0\n",
            "1     Anna  24.0\n",
            "2  Unknown  35.0\n",
            "3    Linda   0.0\n"
          ]
        }
      ]
    },
    {
      "cell_type": "code",
      "source": [],
      "metadata": {
        "id": "DIMcIZBwtuCg"
      },
      "execution_count": 10,
      "outputs": []
    },
    {
      "cell_type": "code",
      "source": [],
      "metadata": {
        "id": "FZmSQCngtuds"
      },
      "execution_count": 10,
      "outputs": []
    },
    {
      "cell_type": "code",
      "source": [],
      "metadata": {
        "id": "sBdLrqjvsE5R"
      },
      "execution_count": 10,
      "outputs": []
    },
    {
      "cell_type": "code",
      "source": [],
      "metadata": {
        "id": "n7KWSP4GsFWZ"
      },
      "execution_count": 10,
      "outputs": []
    }
  ],
  "metadata": {
    "kernelspec": {
      "display_name": "Python 3",
      "name": "python3"
    },
    "language_info": {
      "name": "python"
    },
    "colab": {
      "provenance": [],
      "include_colab_link": true
    }
  },
  "nbformat": 4,
  "nbformat_minor": 0
}