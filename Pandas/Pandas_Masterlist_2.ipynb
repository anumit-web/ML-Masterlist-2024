{
  "cells": [
    {
      "cell_type": "markdown",
      "metadata": {
        "id": "view-in-github",
        "colab_type": "text"
      },
      "source": [
        "<a href=\"https://colab.research.google.com/github/anumit-web/ML-Masterlist-2024/blob/main/Pandas/Pandas_Masterlist_2.ipynb\" target=\"_parent\"><img src=\"https://colab.research.google.com/assets/colab-badge.svg\" alt=\"Open In Colab\"/></a>"
      ]
    },
    {
      "cell_type": "markdown",
      "source": [
        "# Pandas"
      ],
      "metadata": {
        "id": "lNOmS53wAy3W"
      }
    },
    {
      "cell_type": "markdown",
      "source": [
        "# DataFrame split"
      ],
      "metadata": {
        "id": "unheVHe2A1jV"
      }
    },
    {
      "cell_type": "code",
      "source": [
        "import pandas as pd"
      ],
      "metadata": {
        "id": "8nNpiiO6A8Po"
      },
      "execution_count": 11,
      "outputs": []
    },
    {
      "cell_type": "code",
      "source": [
        "csv_url = 'https://archive.ics.uci.edu/ml/machine-learning-databases/iris/iris.data'\n",
        "# using the attribute information as the column names\n",
        "col_names = ['Sepal_Length','Sepal_Width','Petal_Length','Petal_Width','Class']\n",
        "iris_df =  pd.read_csv(csv_url, names = col_names)"
      ],
      "metadata": {
        "id": "oNSwxuIDA9Dd"
      },
      "execution_count": 12,
      "outputs": []
    },
    {
      "cell_type": "code",
      "source": [
        "print(iris_df.head())\n",
        "print('—————————————-')\n",
        "print(iris_df.tail())\n",
        "print('—————————————-')\n",
        "print(iris_df.dtypes)"
      ],
      "metadata": {
        "colab": {
          "base_uri": "https://localhost:8080/"
        },
        "id": "pxuqGVJNA9l9",
        "outputId": "37dc28bb-d312-4f32-d32c-3368cbd89b33"
      },
      "execution_count": 13,
      "outputs": [
        {
          "output_type": "stream",
          "name": "stdout",
          "text": [
            "   Sepal_Length  Sepal_Width  Petal_Length  Petal_Width        Class\n",
            "0           5.1          3.5           1.4          0.2  Iris-setosa\n",
            "1           4.9          3.0           1.4          0.2  Iris-setosa\n",
            "2           4.7          3.2           1.3          0.2  Iris-setosa\n",
            "3           4.6          3.1           1.5          0.2  Iris-setosa\n",
            "4           5.0          3.6           1.4          0.2  Iris-setosa\n",
            "—————————————-\n",
            "     Sepal_Length  Sepal_Width  Petal_Length  Petal_Width           Class\n",
            "145           6.7          3.0           5.2          2.3  Iris-virginica\n",
            "146           6.3          2.5           5.0          1.9  Iris-virginica\n",
            "147           6.5          3.0           5.2          2.0  Iris-virginica\n",
            "148           6.2          3.4           5.4          2.3  Iris-virginica\n",
            "149           5.9          3.0           5.1          1.8  Iris-virginica\n",
            "—————————————-\n",
            "Sepal_Length    float64\n",
            "Sepal_Width     float64\n",
            "Petal_Length    float64\n",
            "Petal_Width     float64\n",
            "Class            object\n",
            "dtype: object\n"
          ]
        }
      ]
    },
    {
      "cell_type": "code",
      "source": [
        "df1 = iris_df[['Sepal_Length','Sepal_Width','Petal_Length','Petal_Width']]\n",
        "df2 = iris_df[['Class']]\n",
        "print(df1.head())\n",
        "print('---- - - - - ')\n",
        "print(df2.head())"
      ],
      "metadata": {
        "colab": {
          "base_uri": "https://localhost:8080/"
        },
        "id": "VXWHx8pDA-De",
        "outputId": "5505fd35-4fab-4b3f-b3d0-ff7212e09b4a"
      },
      "execution_count": 15,
      "outputs": [
        {
          "output_type": "stream",
          "name": "stdout",
          "text": [
            "   Sepal_Length  Sepal_Width  Petal_Length  Petal_Width\n",
            "0           5.1          3.5           1.4          0.2\n",
            "1           4.9          3.0           1.4          0.2\n",
            "2           4.7          3.2           1.3          0.2\n",
            "3           4.6          3.1           1.5          0.2\n",
            "4           5.0          3.6           1.4          0.2\n",
            "---- - - - - \n",
            "         Class\n",
            "0  Iris-setosa\n",
            "1  Iris-setosa\n",
            "2  Iris-setosa\n",
            "3  Iris-setosa\n",
            "4  Iris-setosa\n"
          ]
        }
      ]
    },
    {
      "cell_type": "code",
      "source": [],
      "metadata": {
        "id": "aC1yg0AEA-fD"
      },
      "execution_count": 14,
      "outputs": []
    },
    {
      "cell_type": "code",
      "source": [],
      "metadata": {
        "id": "NrNlBL71A-ux"
      },
      "execution_count": 14,
      "outputs": []
    },
    {
      "cell_type": "code",
      "source": [],
      "metadata": {
        "id": "46_x3kczA_Up"
      },
      "execution_count": 14,
      "outputs": []
    },
    {
      "cell_type": "code",
      "source": [],
      "metadata": {
        "id": "6mRQetYtA_xG"
      },
      "execution_count": 14,
      "outputs": []
    },
    {
      "cell_type": "code",
      "source": [],
      "metadata": {
        "id": "RhFhuRnABAK2"
      },
      "execution_count": 14,
      "outputs": []
    },
    {
      "cell_type": "code",
      "source": [],
      "metadata": {
        "id": "NMC2GVU6BAr9"
      },
      "execution_count": 14,
      "outputs": []
    }
  ],
  "metadata": {
    "kernelspec": {
      "display_name": "Python 3",
      "name": "python3"
    },
    "language_info": {
      "name": "python"
    },
    "colab": {
      "provenance": [],
      "include_colab_link": true
    }
  },
  "nbformat": 4,
  "nbformat_minor": 0
}