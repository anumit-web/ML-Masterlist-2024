{
  "cells": [
    {
      "cell_type": "markdown",
      "metadata": {
        "id": "view-in-github",
        "colab_type": "text"
      },
      "source": [
        "<a href=\"https://colab.research.google.com/github/anumit-web/ML-Masterlist-2024/blob/main/scikit-learn/scikit_learn_Masterlist_8.ipynb\" target=\"_parent\"><img src=\"https://colab.research.google.com/assets/colab-badge.svg\" alt=\"Open In Colab\"/></a>"
      ]
    },
    {
      "cell_type": "markdown",
      "source": [
        "# Machine Learning"
      ],
      "metadata": {
        "id": "r9Tnk6DLIpoU"
      }
    },
    {
      "cell_type": "markdown",
      "source": [
        "# unsupervised learning"
      ],
      "metadata": {
        "id": "Jm48h14rIig1"
      }
    },
    {
      "cell_type": "markdown",
      "source": [
        "#   👉🏻👉🏻👉🏻👉🏻👉🏻👉🏻 K-Means Clustering   👈🏻👈🏻👈🏻👈🏻👈🏻👈🏻👈🏻"
      ],
      "metadata": {
        "id": "_MSFlV4AJNTW"
      }
    },
    {
      "cell_type": "markdown",
      "source": [
        "# Unsupervised Learning Example: Iris Clustering"
      ],
      "metadata": {
        "id": "u3JBhhArZIu9"
      }
    },
    {
      "cell_type": "markdown",
      "source": [
        "# unsupervised machine learning algorithm"
      ],
      "metadata": {
        "id": "uhwbMqN6IfyX"
      }
    },
    {
      "cell_type": "markdown",
      "source": [
        "scikit learn"
      ],
      "metadata": {
        "id": "2ipgsyQ5Zpln"
      }
    }
  ],
  "metadata": {
    "kernelspec": {
      "display_name": "Python 3",
      "name": "python3"
    },
    "language_info": {
      "name": "python"
    },
    "colab": {
      "provenance": [],
      "include_colab_link": true
    }
  },
  "nbformat": 4,
  "nbformat_minor": 0
}